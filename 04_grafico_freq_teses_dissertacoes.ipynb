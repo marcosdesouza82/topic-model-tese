{
 "cells": [
  {
   "cell_type": "markdown",
   "metadata": {},
   "source": [
    "# Gráfico de frequência de termos\n",
    "\n",
    "O gráfico apresenta os termos mais relevantes e suas respectivas frequências extraídos dos corpora constituídos de teses e dissertações."
   ]
  },
  {
   "cell_type": "code",
   "execution_count": 1,
   "metadata": {},
   "outputs": [
    {
     "data": {
      "text/html": [
       "        <script type=\"text/javascript\">\n",
       "        window.PlotlyConfig = {MathJaxConfig: 'local'};\n",
       "        if (window.MathJax) {MathJax.Hub.Config({SVG: {font: \"STIX-Web\"}});}\n",
       "        if (typeof require !== 'undefined') {\n",
       "        require.undef(\"plotly\");\n",
       "        requirejs.config({\n",
       "            paths: {\n",
       "                'plotly': ['https://cdn.plot.ly/plotly-latest.min']\n",
       "            }\n",
       "        });\n",
       "        require(['plotly'], function(Plotly) {\n",
       "            window._Plotly = Plotly;\n",
       "        });\n",
       "        }\n",
       "        </script>\n",
       "        "
      ]
     },
     "metadata": {},
     "output_type": "display_data"
    }
   ],
   "source": [
    "import plotly \n",
    "import plotly.graph_objs as go\n",
    "import plotly.offline as py\n",
    "py.init_notebook_mode(connected=True)\n",
    "from plotly.offline import download_plotlyjs, init_notebook_mode, plot, iplot"
   ]
  },
  {
   "cell_type": "code",
   "execution_count": 2,
   "metadata": {},
   "outputs": [
    {
     "data": {
      "application/vnd.plotly.v1+json": {
       "config": {
        "linkText": "Export to plot.ly",
        "plotlyServerURL": "https://plot.ly",
        "showLink": false
       },
       "data": [
        {
         "mode": "markers+lines",
         "name": "Informação",
         "type": "scatter",
         "x": [
          "2012",
          "2013",
          "2014",
          "2015",
          "2016",
          "2017"
         ],
         "y": [
          92776,
          100997,
          108609,
          102184,
          95368,
          70181
         ]
        },
        {
         "mode": "markers+lines",
         "name": "pesquisa",
         "type": "scatter",
         "x": [
          "2012",
          "2013",
          "2014",
          "2015",
          "2016",
          "2017"
         ],
         "y": [
          29708,
          30636,
          31935,
          35136,
          31543,
          25323
         ]
        },
        {
         "mode": "markers+lines",
         "name": "biblioteca",
         "type": "scatter",
         "x": [
          "2012",
          "2013",
          "2014",
          "2015",
          "2016",
          "2017"
         ],
         "y": [
          25254,
          24794,
          17974,
          27265,
          17615,
          6281
         ]
        },
        {
         "mode": "markers+lines",
         "name": "conhecimento",
         "type": "scatter",
         "x": [
          "2012",
          "2013",
          "2014",
          "2015",
          "2016",
          "2017"
         ],
         "y": [
          23025,
          24558,
          27061,
          27656,
          25394,
          18395
         ]
        },
        {
         "mode": "markers+lines",
         "name": "forma",
         "type": "scatter",
         "x": [
          "2012",
          "2013",
          "2014",
          "2015",
          "2016",
          "2017"
         ],
         "y": [
          18363,
          20329,
          21569,
          23373,
          21071,
          17412
         ]
        },
        {
         "mode": "markers+lines",
         "name": "processo",
         "type": "scatter",
         "x": [
          "2012",
          "2013",
          "2014",
          "2015",
          "2016",
          "2017"
         ],
         "y": [
          16969,
          19113,
          19465,
          20414,
          17282,
          15955
         ]
        },
        {
         "mode": "markers+lines",
         "name": "dados",
         "type": "scatter",
         "x": [
          "2012",
          "2013",
          "2014",
          "2015",
          "2016",
          "2017"
         ],
         "y": [
          15928,
          16953,
          20225,
          19571,
          19137,
          17191
         ]
        },
        {
         "mode": "markers+lines",
         "name": "comunicação",
         "type": "scatter",
         "x": [
          "2012",
          "2013",
          "2014",
          "2015",
          "2016",
          "2017"
         ],
         "y": [
          15696,
          14823,
          13925,
          16716,
          13815,
          10858
         ]
        },
        {
         "mode": "markers+lines",
         "name": "produção",
         "type": "scatter",
         "x": [
          "2012",
          "2013",
          "2014",
          "2015",
          "2016",
          "2017"
         ],
         "y": [
          12164,
          11114,
          13013,
          14668,
          13169,
          12488
         ]
        },
        {
         "mode": "markers+lines",
         "name": "organização",
         "type": "scatter",
         "x": [
          "2012",
          "2013",
          "2014",
          "2015",
          "2016",
          "2017"
         ],
         "y": [
          12003,
          12641,
          12977,
          14625,
          12169,
          10526
         ]
        },
        {
         "mode": "markers+lines",
         "name": "desenvolvimento",
         "type": "scatter",
         "x": [
          "2012",
          "2013",
          "2014",
          "2015",
          "2016",
          "2017"
         ],
         "y": [
          11666,
          12086,
          12367,
          13627,
          12129,
          7969
         ]
        },
        {
         "mode": "markers+lines",
         "name": "tempo",
         "type": "scatter",
         "x": [
          "2012",
          "2013",
          "2014",
          "2015",
          "2016",
          "2017"
         ],
         "y": [
          10830,
          11001,
          10844,
          12528,
          11420,
          10353
         ]
        },
        {
         "mode": "markers+lines",
         "name": "documentos",
         "type": "scatter",
         "x": [
          "2012",
          "2013",
          "2014",
          "2015",
          "2016",
          "2017"
         ],
         "y": [
          10584,
          15630,
          11600,
          13903,
          15116,
          10524
         ]
        },
        {
         "mode": "markers+lines",
         "name": "sistema",
         "type": "scatter",
         "x": [
          "2012",
          "2013",
          "2014",
          "2015",
          "2016",
          "2017"
         ],
         "y": [
          10228,
          13146,
          12209,
          11891,
          13206,
          8409
         ]
        },
        {
         "mode": "markers+lines",
         "name": "memória",
         "type": "scatter",
         "x": [
          "2012",
          "2013",
          "2014",
          "2015",
          "2016",
          "2017"
         ],
         "y": [
          9813,
          11964,
          10962,
          14941,
          12963,
          10076
         ]
        },
        {
         "mode": "markers+lines",
         "name": "cultura",
         "type": "scatter",
         "x": [
          "2012",
          "2013",
          "2014",
          "2015",
          "2016",
          "2017"
         ],
         "y": [
          8142,
          11036,
          11858,
          11475,
          12332,
          7245
         ]
        },
        {
         "mode": "markers+lines",
         "name": "tecnologias",
         "type": "scatter",
         "x": [
          "2012",
          "2013",
          "2014",
          "2015",
          "2016",
          "2017"
         ],
         "y": [
          6625,
          6862,
          6811,
          7842,
          7660,
          5977
         ]
        },
        {
         "mode": "markers+lines",
         "name": "recuperação",
         "type": "scatter",
         "x": [
          "2012",
          "2013",
          "2014",
          "2015",
          "2016",
          "2017"
         ],
         "y": [
          4490,
          4671,
          4796,
          4853,
          4303,
          3060
         ]
        },
        {
         "mode": "markers+lines",
         "name": "arquivos",
         "type": "scatter",
         "x": [
          "2012",
          "2013",
          "2014",
          "2015",
          "2016",
          "2017"
         ],
         "y": [
          4433,
          5903,
          5776,
          5711,
          5569,
          4182
         ]
        },
        {
         "mode": "markers+lines",
         "name": "imagem",
         "type": "scatter",
         "x": [
          "2012",
          "2013",
          "2014",
          "2015",
          "2016",
          "2017"
         ],
         "y": [
          3950,
          5519,
          4647,
          6791,
          5498,
          4712
         ]
        },
        {
         "mode": "markers+lines",
         "name": "patrimônio",
         "type": "scatter",
         "x": [
          "2012",
          "2013",
          "2014",
          "2015",
          "2016",
          "2017"
         ],
         "y": [
          3933,
          6348,
          5197,
          6766,
          5050,
          4179
         ]
        },
        {
         "mode": "markers+lines",
         "name": "museu",
         "type": "scatter",
         "x": [
          "2012",
          "2013",
          "2014",
          "2015",
          "2016",
          "2017"
         ],
         "y": [
          10217,
          11106,
          12205,
          14393,
          13637,
          8126
         ]
        },
        {
         "mode": "markers+lines",
         "name": "gestão",
         "type": "scatter",
         "x": [
          "2012",
          "2013",
          "2014",
          "2015",
          "2016",
          "2017"
         ],
         "y": [
          7776,
          11470,
          8570,
          12123,
          12004,
          7867
         ]
        },
        {
         "mode": "markers+lines",
         "name": "produção",
         "type": "scatter",
         "x": [
          "2012",
          "2013",
          "2014",
          "2015",
          "2016",
          "2017"
         ],
         "y": [
          12164,
          11114,
          13013,
          14668,
          13169,
          12488
         ]
        },
        {
         "mode": "markers+lines",
         "name": "sociedade",
         "type": "scatter",
         "x": [
          "2012",
          "2013",
          "2014",
          "2015",
          "2016",
          "2017"
         ],
         "y": [
          12458,
          11196,
          11926,
          13165,
          13135,
          8611
         ]
        },
        {
         "mode": "markers+lines",
         "name": "biblioteca",
         "type": "scatter",
         "x": [
          "2012",
          "2013",
          "2014",
          "2015",
          "2016",
          "2017"
         ],
         "y": [
          25254,
          24794,
          17974,
          27265,
          17615,
          6281
         ]
        },
        {
         "mode": "markers+lines",
         "name": "usuários",
         "type": "scatter",
         "x": [
          "2012",
          "2013",
          "2014",
          "2015",
          "2016",
          "2017"
         ],
         "y": [
          8853,
          11400,
          9893,
          8304,
          9361,
          5498
         ]
        },
        {
         "mode": "markers+lines",
         "name": "metadados",
         "type": "scatter",
         "x": [
          "2012",
          "2013",
          "2014",
          "2015",
          "2016",
          "2017"
         ],
         "y": [
          1713,
          2011,
          2343,
          1571,
          1429,
          0
         ]
        },
        {
         "mode": "markers+lines",
         "name": "biblioteconomia",
         "type": "scatter",
         "x": [
          "2012",
          "2013",
          "2014",
          "2015",
          "2016",
          "2017"
         ],
         "y": [
          4565,
          4594,
          3348,
          3800,
          4316,
          2146
         ]
        },
        {
         "mode": "markers+lines",
         "name": "museologia",
         "type": "scatter",
         "x": [
          "2012",
          "2013",
          "2014",
          "2015",
          "2016",
          "2017"
         ],
         "y": [
          1396,
          2369,
          1693,
          3346,
          1952,
          2927
         ]
        },
        {
         "mode": "markers+lines",
         "name": "arquivologia",
         "type": "scatter",
         "x": [
          "2012",
          "2013",
          "2014",
          "2015",
          "2016",
          "2017"
         ],
         "y": [
          1349,
          2332,
          1222,
          1321,
          1492,
          0
         ]
        },
        {
         "mode": "markers+lines",
         "name": "ontologias",
         "type": "scatter",
         "x": [
          "2012",
          "2013",
          "2014",
          "2015",
          "2016",
          "2017"
         ],
         "y": [
          0,
          1408,
          2154,
          1904,
          0,
          0
         ]
        },
        {
         "mode": "markers+lines",
         "name": "patrimônio_cultural",
         "type": "scatter",
         "x": [
          "2012",
          "2013",
          "2014",
          "2015",
          "2016",
          "2017"
         ],
         "y": [
          468,
          1613,
          974,
          1384,
          1138,
          768
         ]
        },
        {
         "mode": "markers+lines",
         "name": "sociedade_informação",
         "type": "scatter",
         "x": [
          "2012",
          "2013",
          "2014",
          "2015",
          "2016",
          "2017"
         ],
         "y": [
          1462,
          1197,
          1133,
          1191,
          1047,
          634
         ]
        },
        {
         "mode": "markers+lines",
         "name": "produção_científica",
         "type": "scatter",
         "x": [
          "2012",
          "2013",
          "2014",
          "2015",
          "2016",
          "2017"
         ],
         "y": [
          1951,
          1494,
          1726,
          2355,
          1884,
          1488
         ]
        },
        {
         "mode": "markers+lines",
         "name": "serviços_informação",
         "type": "scatter",
         "x": [
          "2012",
          "2013",
          "2014",
          "2015",
          "2016",
          "2017"
         ],
         "y": [
          673,
          719,
          693,
          793,
          430,
          299
         ]
        },
        {
         "mode": "markers+lines",
         "name": "profissional_informação",
         "type": "scatter",
         "x": [
          "2012",
          "2013",
          "2014",
          "2015",
          "2016",
          "2017"
         ],
         "y": [
          662,
          804,
          646,
          738,
          509,
          457
         ]
        },
        {
         "mode": "markers+lines",
         "name": "sistema_informação",
         "type": "scatter",
         "x": [
          "2012",
          "2013",
          "2014",
          "2015",
          "2016",
          "2017"
         ],
         "y": [
          1193,
          1579,
          1413,
          1364,
          1310,
          1018
         ]
        },
        {
         "mode": "markers+lines",
         "name": "inteligência_artificial",
         "type": "scatter",
         "x": [
          "2012",
          "2013",
          "2014",
          "2015",
          "2016",
          "2017"
         ],
         "y": [
          619,
          524,
          647,
          729,
          698,
          452
         ]
        },
        {
         "mode": "markers+lines",
         "name": "rede_social",
         "type": "scatter",
         "x": [
          "2012",
          "2013",
          "2014",
          "2015",
          "2016",
          "2017"
         ],
         "y": [
          607,
          474,
          549,
          729,
          465,
          421
         ]
        },
        {
         "mode": "markers+lines",
         "name": "recursos_informacionais",
         "type": "scatter",
         "x": [
          "2012",
          "2013",
          "2014",
          "2015",
          "2016",
          "2017"
         ],
         "y": [
          587,
          400,
          462,
          488,
          383,
          266
         ]
        },
        {
         "mode": "markers+lines",
         "name": "educação_distância",
         "type": "scatter",
         "x": [
          "2012",
          "2013",
          "2014",
          "2015",
          "2016",
          "2017"
         ],
         "y": [
          579,
          907,
          970,
          1336,
          425,
          150
         ]
        },
        {
         "mode": "markers+lines",
         "name": "segurança_informação",
         "type": "scatter",
         "x": [
          "2012",
          "2013",
          "2014",
          "2015",
          "2016",
          "2017"
         ],
         "y": [
          574,
          381,
          568,
          475,
          752,
          161
         ]
        },
        {
         "mode": "markers+lines",
         "name": "produção_conhecimento",
         "type": "scatter",
         "x": [
          "2012",
          "2013",
          "2014",
          "2015",
          "2016",
          "2017"
         ],
         "y": [
          556,
          526,
          540,
          695,
          628,
          523
         ]
        },
        {
         "mode": "markers+lines",
         "name": "gestão_documentos",
         "type": "scatter",
         "x": [
          "2012",
          "2013",
          "2014",
          "2015",
          "2016",
          "2017"
         ],
         "y": [
          552,
          1517,
          755,
          1519,
          1519,
          419
         ]
        },
        {
         "mode": "markers+lines",
         "name": "periódicos_científicos",
         "type": "scatter",
         "x": [
          "2012",
          "2013",
          "2014",
          "2015",
          "2016",
          "2017"
         ],
         "y": [
          541,
          662,
          611,
          514,
          434,
          442
         ]
        },
        {
         "mode": "markers+lines",
         "name": "informação_sociedade",
         "type": "scatter",
         "x": [
          "2012",
          "2013",
          "2014",
          "2015",
          "2016",
          "2017"
         ],
         "y": [
          523,
          500,
          534,
          518,
          394,
          311
         ]
        },
        {
         "mode": "markers+lines",
         "name": "biblioteca_virtual",
         "type": "scatter",
         "x": [
          "2012",
          "2013",
          "2014",
          "2015",
          "2016",
          "2017"
         ],
         "y": [
          515,
          325,
          170,
          0,
          0,
          0
         ]
        },
        {
         "mode": "markers+lines",
         "name": "organização_conhecimento",
         "type": "scatter",
         "x": [
          "2012",
          "2013",
          "2014",
          "2015",
          "2016",
          "2017"
         ],
         "y": [
          737,
          1182,
          1452,
          1779,
          1341,
          1521
         ]
        },
        {
         "mode": "markers+lines",
         "name": "busca_informação",
         "type": "scatter",
         "x": [
          "2012",
          "2013",
          "2014",
          "2015",
          "2016",
          "2017"
         ],
         "y": [
          1104,
          1204,
          1347,
          1112,
          1448,
          804
         ]
        },
        {
         "mode": "markers+lines",
         "name": "tecnologia_informação",
         "type": "scatter",
         "x": [
          "2012",
          "2013",
          "2014",
          "2015",
          "2016",
          "2017"
         ],
         "y": [
          1062,
          874,
          764,
          973,
          895,
          650
         ]
        },
        {
         "mode": "markers+lines",
         "name": "recuperação_informação",
         "type": "scatter",
         "x": [
          "2012",
          "2013",
          "2014",
          "2015",
          "2016",
          "2017"
         ],
         "y": [
          2513,
          2728,
          2737,
          2703,
          2433,
          1573
         ]
        },
        {
         "mode": "markers+lines",
         "name": "informação_conhecimento",
         "type": "scatter",
         "x": [
          "2012",
          "2013",
          "2014",
          "2015",
          "2016",
          "2017"
         ],
         "y": [
          1711,
          2329,
          2401,
          2252,
          2632,
          1362
         ]
        },
        {
         "mode": "markers+lines",
         "name": "uso_informação",
         "type": "scatter",
         "x": [
          "2012",
          "2013",
          "2014",
          "2015",
          "2016",
          "2017"
         ],
         "y": [
          1616,
          2385,
          1958,
          2329,
          2034,
          1479
         ]
        },
        {
         "mode": "markers+lines",
         "name": "gestão_informação",
         "type": "scatter",
         "x": [
          "2012",
          "2013",
          "2014",
          "2015",
          "2016",
          "2017"
         ],
         "y": [
          1469,
          1825,
          1659,
          2216,
          1900,
          1283
         ]
        },
        {
         "mode": "markers+lines",
         "name": "bases_dados",
         "type": "scatter",
         "x": [
          "2012",
          "2013",
          "2014",
          "2015",
          "2016",
          "2017"
         ],
         "y": [
          996,
          1226,
          1661,
          1297,
          897,
          927
         ]
        },
        {
         "mode": "markers+lines",
         "name": "tomada_decisão",
         "type": "scatter",
         "x": [
          "2012",
          "2013",
          "2014",
          "2015",
          "2016",
          "2017"
         ],
         "y": [
          531,
          1305,
          969,
          779,
          1053,
          660
         ]
        },
        {
         "mode": "markers+lines",
         "name": "arquitetura_informação",
         "type": "scatter",
         "x": [
          "2012",
          "2013",
          "2014",
          "2015",
          "2016",
          "2017"
         ],
         "y": [
          1189,
          1231,
          1536,
          1405,
          1147,
          599
         ]
        },
        {
         "mode": "markers+lines",
         "name": "web_semântica",
         "type": "scatter",
         "x": [
          "2012",
          "2013",
          "2014",
          "2015",
          "2016",
          "2017"
         ],
         "y": [
          277,
          534,
          608,
          380,
          568,
          265
         ]
        },
        {
         "mode": "markers+lines",
         "name": "memória_social",
         "type": "scatter",
         "x": [
          "2012",
          "2013",
          "2014",
          "2015",
          "2016",
          "2017"
         ],
         "y": [
          874,
          969,
          790,
          1141,
          948,
          952
         ]
        },
        {
         "mode": "markers+lines",
         "name": "conhecimento_científico",
         "type": "scatter",
         "x": [
          "2012",
          "2013",
          "2014",
          "2015",
          "2016",
          "2017"
         ],
         "y": [
          1177,
          786,
          675,
          731,
          608,
          418
         ]
        },
        {
         "mode": "markers+lines",
         "name": "banco_dados",
         "type": "scatter",
         "x": [
          "2012",
          "2013",
          "2014",
          "2015",
          "2016",
          "2017"
         ],
         "y": [
          565,
          754,
          565,
          626,
          556,
          403
         ]
        },
        {
         "mode": "markers+lines",
         "name": "repositórios_institucionais",
         "type": "scatter",
         "x": [
          "2012",
          "2013",
          "2014",
          "2015",
          "2016",
          "2017"
         ],
         "y": [
          674,
          402,
          241,
          884,
          341,
          135
         ]
        },
        {
         "mode": "markers+lines",
         "name": "memória_coletiva",
         "type": "scatter",
         "x": [
          "2012",
          "2013",
          "2014",
          "2015",
          "2016",
          "2017"
         ],
         "y": [
          383,
          584,
          552,
          739,
          578,
          530
         ]
        },
        {
         "mode": "markers+lines",
         "name": "representação_conhecimento",
         "type": "scatter",
         "x": [
          "2012",
          "2013",
          "2014",
          "2015",
          "2016",
          "2017"
         ],
         "y": [
          437,
          385,
          703,
          526,
          474,
          344
         ]
        },
        {
         "mode": "markers+lines",
         "name": "coleta_dados",
         "type": "scatter",
         "x": [
          "2012",
          "2013",
          "2014",
          "2015",
          "2016",
          "2017"
         ],
         "y": [
          1444,
          1694,
          1626,
          1584,
          1399,
          1071
         ]
        },
        {
         "mode": "markers+lines",
         "name": "organização_informação",
         "type": "scatter",
         "x": [
          "2012",
          "2013",
          "2014",
          "2015",
          "2016",
          "2017"
         ],
         "y": [
          971,
          1010,
          1073,
          1360,
          1010,
          1018
         ]
        },
        {
         "mode": "markers+lines",
         "name": "mapa_conceitual",
         "type": "scatter",
         "x": [
          "2012",
          "2013",
          "2014",
          "2015",
          "2016",
          "2017"
         ],
         "y": [
          0,
          0,
          400,
          0,
          497,
          301
         ]
        },
        {
         "mode": "markers+lines",
         "name": "informação_conhecimento",
         "type": "scatter",
         "x": [
          "2012",
          "2013",
          "2014",
          "2015",
          "2016",
          "2017"
         ],
         "y": [
          1711,
          2329,
          2401,
          2252,
          2632,
          2632
         ]
        },
        {
         "mode": "markers+lines",
         "name": "comunicação_científica",
         "type": "scatter",
         "x": [
          "2012",
          "2013",
          "2014",
          "2015",
          "2016",
          "2017"
         ],
         "y": [
          1412,
          1493,
          1114,
          1212,
          880,
          649
         ]
        },
        {
         "mode": "markers+lines",
         "name": "tecnologias_informação_comunicação",
         "type": "scatter",
         "x": [
          "2012",
          "2013",
          "2014",
          "2015",
          "2016",
          "2017"
         ],
         "y": [
          1082,
          762,
          701,
          727,
          665,
          546
         ]
        },
        {
         "mode": "markers+lines",
         "name": "fonte_dados_pesquisa",
         "type": "scatter",
         "x": [
          "2012",
          "2013",
          "2014",
          "2015",
          "2016",
          "2017"
         ],
         "y": [
          963,
          846,
          834,
          1222,
          1314,
          603
         ]
        },
        {
         "mode": "markers+lines",
         "name": "instituição_ensino_superior",
         "type": "scatter",
         "x": [
          "2012",
          "2013",
          "2014",
          "2015",
          "2016",
          "2017"
         ],
         "y": [
          668,
          441,
          330,
          217,
          432,
          180
         ]
        },
        {
         "mode": "markers+lines",
         "name": "web_ontology_language",
         "type": "scatter",
         "x": [
          "2012",
          "2013",
          "2014",
          "2015",
          "2016",
          "2017"
         ],
         "y": [
          152,
          263,
          311,
          178,
          177,
          137
         ]
        },
        {
         "mode": "markers+lines",
         "name": "sistemas_organização_conhecimento",
         "type": "scatter",
         "x": [
          "2012",
          "2013",
          "2014",
          "2015",
          "2016",
          "2017"
         ],
         "y": [
          67,
          284,
          312,
          661,
          394,
          371
         ]
        },
        {
         "mode": "markers+lines",
         "name": "processamento_linguagem_natural",
         "type": "scatter",
         "x": [
          "2012",
          "2013",
          "2014",
          "2015",
          "2016",
          "2017"
         ],
         "y": [
          0,
          159,
          114,
          50,
          0,
          54
         ]
        },
        {
         "mode": "markers+lines",
         "name": "dados_informação_conhecimento",
         "type": "scatter",
         "x": [
          "2012",
          "2013",
          "2014",
          "2015",
          "2016",
          "2017"
         ],
         "y": [
          47,
          66,
          183,
          49,
          68,
          63
         ]
        },
        {
         "mode": "markers+lines",
         "name": "big_data",
         "type": "scatter",
         "x": [
          "2012",
          "2013",
          "2014",
          "2015",
          "2016",
          "2017"
         ],
         "y": [
          0,
          0,
          0,
          0,
          0,
          608
         ]
        },
        {
         "mode": "markers+lines",
         "name": "corpus",
         "type": "scatter",
         "x": [
          "2012",
          "2013",
          "2014",
          "2015",
          "2016",
          "2017"
         ],
         "y": [
          0,
          0,
          0,
          0,
          0,
          1103
         ]
        },
        {
         "mode": "markers+lines",
         "name": "processo_comunicação_científica",
         "type": "scatter",
         "x": [
          "2012",
          "2013",
          "2014",
          "2015",
          "2016",
          "2017"
         ],
         "y": [
          100,
          78,
          53,
          69,
          64,
          55
         ]
        }
       ],
       "layout": {
        "template": {
         "data": {
          "bar": [
           {
            "error_x": {
             "color": "#2a3f5f"
            },
            "error_y": {
             "color": "#2a3f5f"
            },
            "marker": {
             "line": {
              "color": "#E5ECF6",
              "width": 0.5
             }
            },
            "type": "bar"
           }
          ],
          "barpolar": [
           {
            "marker": {
             "line": {
              "color": "#E5ECF6",
              "width": 0.5
             }
            },
            "type": "barpolar"
           }
          ],
          "carpet": [
           {
            "aaxis": {
             "endlinecolor": "#2a3f5f",
             "gridcolor": "white",
             "linecolor": "white",
             "minorgridcolor": "white",
             "startlinecolor": "#2a3f5f"
            },
            "baxis": {
             "endlinecolor": "#2a3f5f",
             "gridcolor": "white",
             "linecolor": "white",
             "minorgridcolor": "white",
             "startlinecolor": "#2a3f5f"
            },
            "type": "carpet"
           }
          ],
          "choropleth": [
           {
            "colorbar": {
             "outlinewidth": 0,
             "ticks": ""
            },
            "type": "choropleth"
           }
          ],
          "contour": [
           {
            "colorbar": {
             "outlinewidth": 0,
             "ticks": ""
            },
            "colorscale": [
             [
              0,
              "#0d0887"
             ],
             [
              0.1111111111111111,
              "#46039f"
             ],
             [
              0.2222222222222222,
              "#7201a8"
             ],
             [
              0.3333333333333333,
              "#9c179e"
             ],
             [
              0.4444444444444444,
              "#bd3786"
             ],
             [
              0.5555555555555556,
              "#d8576b"
             ],
             [
              0.6666666666666666,
              "#ed7953"
             ],
             [
              0.7777777777777778,
              "#fb9f3a"
             ],
             [
              0.8888888888888888,
              "#fdca26"
             ],
             [
              1,
              "#f0f921"
             ]
            ],
            "type": "contour"
           }
          ],
          "contourcarpet": [
           {
            "colorbar": {
             "outlinewidth": 0,
             "ticks": ""
            },
            "type": "contourcarpet"
           }
          ],
          "heatmap": [
           {
            "colorbar": {
             "outlinewidth": 0,
             "ticks": ""
            },
            "colorscale": [
             [
              0,
              "#0d0887"
             ],
             [
              0.1111111111111111,
              "#46039f"
             ],
             [
              0.2222222222222222,
              "#7201a8"
             ],
             [
              0.3333333333333333,
              "#9c179e"
             ],
             [
              0.4444444444444444,
              "#bd3786"
             ],
             [
              0.5555555555555556,
              "#d8576b"
             ],
             [
              0.6666666666666666,
              "#ed7953"
             ],
             [
              0.7777777777777778,
              "#fb9f3a"
             ],
             [
              0.8888888888888888,
              "#fdca26"
             ],
             [
              1,
              "#f0f921"
             ]
            ],
            "type": "heatmap"
           }
          ],
          "heatmapgl": [
           {
            "colorbar": {
             "outlinewidth": 0,
             "ticks": ""
            },
            "colorscale": [
             [
              0,
              "#0d0887"
             ],
             [
              0.1111111111111111,
              "#46039f"
             ],
             [
              0.2222222222222222,
              "#7201a8"
             ],
             [
              0.3333333333333333,
              "#9c179e"
             ],
             [
              0.4444444444444444,
              "#bd3786"
             ],
             [
              0.5555555555555556,
              "#d8576b"
             ],
             [
              0.6666666666666666,
              "#ed7953"
             ],
             [
              0.7777777777777778,
              "#fb9f3a"
             ],
             [
              0.8888888888888888,
              "#fdca26"
             ],
             [
              1,
              "#f0f921"
             ]
            ],
            "type": "heatmapgl"
           }
          ],
          "histogram": [
           {
            "marker": {
             "colorbar": {
              "outlinewidth": 0,
              "ticks": ""
             }
            },
            "type": "histogram"
           }
          ],
          "histogram2d": [
           {
            "colorbar": {
             "outlinewidth": 0,
             "ticks": ""
            },
            "colorscale": [
             [
              0,
              "#0d0887"
             ],
             [
              0.1111111111111111,
              "#46039f"
             ],
             [
              0.2222222222222222,
              "#7201a8"
             ],
             [
              0.3333333333333333,
              "#9c179e"
             ],
             [
              0.4444444444444444,
              "#bd3786"
             ],
             [
              0.5555555555555556,
              "#d8576b"
             ],
             [
              0.6666666666666666,
              "#ed7953"
             ],
             [
              0.7777777777777778,
              "#fb9f3a"
             ],
             [
              0.8888888888888888,
              "#fdca26"
             ],
             [
              1,
              "#f0f921"
             ]
            ],
            "type": "histogram2d"
           }
          ],
          "histogram2dcontour": [
           {
            "colorbar": {
             "outlinewidth": 0,
             "ticks": ""
            },
            "colorscale": [
             [
              0,
              "#0d0887"
             ],
             [
              0.1111111111111111,
              "#46039f"
             ],
             [
              0.2222222222222222,
              "#7201a8"
             ],
             [
              0.3333333333333333,
              "#9c179e"
             ],
             [
              0.4444444444444444,
              "#bd3786"
             ],
             [
              0.5555555555555556,
              "#d8576b"
             ],
             [
              0.6666666666666666,
              "#ed7953"
             ],
             [
              0.7777777777777778,
              "#fb9f3a"
             ],
             [
              0.8888888888888888,
              "#fdca26"
             ],
             [
              1,
              "#f0f921"
             ]
            ],
            "type": "histogram2dcontour"
           }
          ],
          "mesh3d": [
           {
            "colorbar": {
             "outlinewidth": 0,
             "ticks": ""
            },
            "type": "mesh3d"
           }
          ],
          "parcoords": [
           {
            "line": {
             "colorbar": {
              "outlinewidth": 0,
              "ticks": ""
             }
            },
            "type": "parcoords"
           }
          ],
          "pie": [
           {
            "automargin": true,
            "type": "pie"
           }
          ],
          "scatter": [
           {
            "marker": {
             "colorbar": {
              "outlinewidth": 0,
              "ticks": ""
             }
            },
            "type": "scatter"
           }
          ],
          "scatter3d": [
           {
            "line": {
             "colorbar": {
              "outlinewidth": 0,
              "ticks": ""
             }
            },
            "marker": {
             "colorbar": {
              "outlinewidth": 0,
              "ticks": ""
             }
            },
            "type": "scatter3d"
           }
          ],
          "scattercarpet": [
           {
            "marker": {
             "colorbar": {
              "outlinewidth": 0,
              "ticks": ""
             }
            },
            "type": "scattercarpet"
           }
          ],
          "scattergeo": [
           {
            "marker": {
             "colorbar": {
              "outlinewidth": 0,
              "ticks": ""
             }
            },
            "type": "scattergeo"
           }
          ],
          "scattergl": [
           {
            "marker": {
             "colorbar": {
              "outlinewidth": 0,
              "ticks": ""
             }
            },
            "type": "scattergl"
           }
          ],
          "scattermapbox": [
           {
            "marker": {
             "colorbar": {
              "outlinewidth": 0,
              "ticks": ""
             }
            },
            "type": "scattermapbox"
           }
          ],
          "scatterpolar": [
           {
            "marker": {
             "colorbar": {
              "outlinewidth": 0,
              "ticks": ""
             }
            },
            "type": "scatterpolar"
           }
          ],
          "scatterpolargl": [
           {
            "marker": {
             "colorbar": {
              "outlinewidth": 0,
              "ticks": ""
             }
            },
            "type": "scatterpolargl"
           }
          ],
          "scatterternary": [
           {
            "marker": {
             "colorbar": {
              "outlinewidth": 0,
              "ticks": ""
             }
            },
            "type": "scatterternary"
           }
          ],
          "surface": [
           {
            "colorbar": {
             "outlinewidth": 0,
             "ticks": ""
            },
            "colorscale": [
             [
              0,
              "#0d0887"
             ],
             [
              0.1111111111111111,
              "#46039f"
             ],
             [
              0.2222222222222222,
              "#7201a8"
             ],
             [
              0.3333333333333333,
              "#9c179e"
             ],
             [
              0.4444444444444444,
              "#bd3786"
             ],
             [
              0.5555555555555556,
              "#d8576b"
             ],
             [
              0.6666666666666666,
              "#ed7953"
             ],
             [
              0.7777777777777778,
              "#fb9f3a"
             ],
             [
              0.8888888888888888,
              "#fdca26"
             ],
             [
              1,
              "#f0f921"
             ]
            ],
            "type": "surface"
           }
          ],
          "table": [
           {
            "cells": {
             "fill": {
              "color": "#EBF0F8"
             },
             "line": {
              "color": "white"
             }
            },
            "header": {
             "fill": {
              "color": "#C8D4E3"
             },
             "line": {
              "color": "white"
             }
            },
            "type": "table"
           }
          ]
         },
         "layout": {
          "annotationdefaults": {
           "arrowcolor": "#2a3f5f",
           "arrowhead": 0,
           "arrowwidth": 1
          },
          "coloraxis": {
           "colorbar": {
            "outlinewidth": 0,
            "ticks": ""
           }
          },
          "colorscale": {
           "diverging": [
            [
             0,
             "#8e0152"
            ],
            [
             0.1,
             "#c51b7d"
            ],
            [
             0.2,
             "#de77ae"
            ],
            [
             0.3,
             "#f1b6da"
            ],
            [
             0.4,
             "#fde0ef"
            ],
            [
             0.5,
             "#f7f7f7"
            ],
            [
             0.6,
             "#e6f5d0"
            ],
            [
             0.7,
             "#b8e186"
            ],
            [
             0.8,
             "#7fbc41"
            ],
            [
             0.9,
             "#4d9221"
            ],
            [
             1,
             "#276419"
            ]
           ],
           "sequential": [
            [
             0,
             "#0d0887"
            ],
            [
             0.1111111111111111,
             "#46039f"
            ],
            [
             0.2222222222222222,
             "#7201a8"
            ],
            [
             0.3333333333333333,
             "#9c179e"
            ],
            [
             0.4444444444444444,
             "#bd3786"
            ],
            [
             0.5555555555555556,
             "#d8576b"
            ],
            [
             0.6666666666666666,
             "#ed7953"
            ],
            [
             0.7777777777777778,
             "#fb9f3a"
            ],
            [
             0.8888888888888888,
             "#fdca26"
            ],
            [
             1,
             "#f0f921"
            ]
           ],
           "sequentialminus": [
            [
             0,
             "#0d0887"
            ],
            [
             0.1111111111111111,
             "#46039f"
            ],
            [
             0.2222222222222222,
             "#7201a8"
            ],
            [
             0.3333333333333333,
             "#9c179e"
            ],
            [
             0.4444444444444444,
             "#bd3786"
            ],
            [
             0.5555555555555556,
             "#d8576b"
            ],
            [
             0.6666666666666666,
             "#ed7953"
            ],
            [
             0.7777777777777778,
             "#fb9f3a"
            ],
            [
             0.8888888888888888,
             "#fdca26"
            ],
            [
             1,
             "#f0f921"
            ]
           ]
          },
          "colorway": [
           "#636efa",
           "#EF553B",
           "#00cc96",
           "#ab63fa",
           "#FFA15A",
           "#19d3f3",
           "#FF6692",
           "#B6E880",
           "#FF97FF",
           "#FECB52"
          ],
          "font": {
           "color": "#2a3f5f"
          },
          "geo": {
           "bgcolor": "white",
           "lakecolor": "white",
           "landcolor": "#E5ECF6",
           "showlakes": true,
           "showland": true,
           "subunitcolor": "white"
          },
          "hoverlabel": {
           "align": "left"
          },
          "hovermode": "closest",
          "mapbox": {
           "style": "light"
          },
          "paper_bgcolor": "white",
          "plot_bgcolor": "#E5ECF6",
          "polar": {
           "angularaxis": {
            "gridcolor": "white",
            "linecolor": "white",
            "ticks": ""
           },
           "bgcolor": "#E5ECF6",
           "radialaxis": {
            "gridcolor": "white",
            "linecolor": "white",
            "ticks": ""
           }
          },
          "scene": {
           "xaxis": {
            "backgroundcolor": "#E5ECF6",
            "gridcolor": "white",
            "gridwidth": 2,
            "linecolor": "white",
            "showbackground": true,
            "ticks": "",
            "zerolinecolor": "white"
           },
           "yaxis": {
            "backgroundcolor": "#E5ECF6",
            "gridcolor": "white",
            "gridwidth": 2,
            "linecolor": "white",
            "showbackground": true,
            "ticks": "",
            "zerolinecolor": "white"
           },
           "zaxis": {
            "backgroundcolor": "#E5ECF6",
            "gridcolor": "white",
            "gridwidth": 2,
            "linecolor": "white",
            "showbackground": true,
            "ticks": "",
            "zerolinecolor": "white"
           }
          },
          "shapedefaults": {
           "line": {
            "color": "#2a3f5f"
           }
          },
          "ternary": {
           "aaxis": {
            "gridcolor": "white",
            "linecolor": "white",
            "ticks": ""
           },
           "baxis": {
            "gridcolor": "white",
            "linecolor": "white",
            "ticks": ""
           },
           "bgcolor": "#E5ECF6",
           "caxis": {
            "gridcolor": "white",
            "linecolor": "white",
            "ticks": ""
           }
          },
          "title": {
           "x": 0.05
          },
          "xaxis": {
           "automargin": true,
           "gridcolor": "white",
           "linecolor": "white",
           "ticks": "",
           "title": {
            "standoff": 15
           },
           "zerolinecolor": "white",
           "zerolinewidth": 2
          },
          "yaxis": {
           "automargin": true,
           "gridcolor": "white",
           "linecolor": "white",
           "ticks": "",
           "title": {
            "standoff": 15
           },
           "zerolinecolor": "white",
           "zerolinewidth": 2
          }
         }
        },
        "title": {
         "text": "Frequência dos termos mais relavantes do corpora teses e dissertações",
         "x": 0,
         "xref": "paper"
        },
        "xaxis": {
         "title": {
          "font": {
           "color": "#7f7f7f",
           "family": "Courier New, monospace",
           "size": 18
          },
          "text": "Anos"
         }
        },
        "yaxis": {
         "title": {
          "font": {
           "color": "#7f7f7f",
           "family": "Courier New, monospace",
           "size": 18
          },
          "text": "Frequência"
         }
        }
       }
      },
      "text/html": [
       "<div>\n",
       "        \n",
       "        \n",
       "            <div id=\"197580cc-22b0-4636-8a30-9835492b5f81\" class=\"plotly-graph-div\" style=\"height:525px; width:100%;\"></div>\n",
       "            <script type=\"text/javascript\">\n",
       "                require([\"plotly\"], function(Plotly) {\n",
       "                    window.PLOTLYENV=window.PLOTLYENV || {};\n",
       "                    \n",
       "                if (document.getElementById(\"197580cc-22b0-4636-8a30-9835492b5f81\")) {\n",
       "                    Plotly.newPlot(\n",
       "                        '197580cc-22b0-4636-8a30-9835492b5f81',\n",
       "                        [{\"mode\": \"markers+lines\", \"name\": \"Informa\\u00e7\\u00e3o\", \"type\": \"scatter\", \"x\": [\"2012\", \"2013\", \"2014\", \"2015\", \"2016\", \"2017\"], \"y\": [92776, 100997, 108609, 102184, 95368, 70181]}, {\"mode\": \"markers+lines\", \"name\": \"pesquisa\", \"type\": \"scatter\", \"x\": [\"2012\", \"2013\", \"2014\", \"2015\", \"2016\", \"2017\"], \"y\": [29708, 30636, 31935, 35136, 31543, 25323]}, {\"mode\": \"markers+lines\", \"name\": \"biblioteca\", \"type\": \"scatter\", \"x\": [\"2012\", \"2013\", \"2014\", \"2015\", \"2016\", \"2017\"], \"y\": [25254, 24794, 17974, 27265, 17615, 6281]}, {\"mode\": \"markers+lines\", \"name\": \"conhecimento\", \"type\": \"scatter\", \"x\": [\"2012\", \"2013\", \"2014\", \"2015\", \"2016\", \"2017\"], \"y\": [23025, 24558, 27061, 27656, 25394, 18395]}, {\"mode\": \"markers+lines\", \"name\": \"forma\", \"type\": \"scatter\", \"x\": [\"2012\", \"2013\", \"2014\", \"2015\", \"2016\", \"2017\"], \"y\": [18363, 20329, 21569, 23373, 21071, 17412]}, {\"mode\": \"markers+lines\", \"name\": \"processo\", \"type\": \"scatter\", \"x\": [\"2012\", \"2013\", \"2014\", \"2015\", \"2016\", \"2017\"], \"y\": [16969, 19113, 19465, 20414, 17282, 15955]}, {\"mode\": \"markers+lines\", \"name\": \"dados\", \"type\": \"scatter\", \"x\": [\"2012\", \"2013\", \"2014\", \"2015\", \"2016\", \"2017\"], \"y\": [15928, 16953, 20225, 19571, 19137, 17191]}, {\"mode\": \"markers+lines\", \"name\": \"comunica\\u00e7\\u00e3o\", \"type\": \"scatter\", \"x\": [\"2012\", \"2013\", \"2014\", \"2015\", \"2016\", \"2017\"], \"y\": [15696, 14823, 13925, 16716, 13815, 10858]}, {\"mode\": \"markers+lines\", \"name\": \"produ\\u00e7\\u00e3o\", \"type\": \"scatter\", \"x\": [\"2012\", \"2013\", \"2014\", \"2015\", \"2016\", \"2017\"], \"y\": [12164, 11114, 13013, 14668, 13169, 12488]}, {\"mode\": \"markers+lines\", \"name\": \"organiza\\u00e7\\u00e3o\", \"type\": \"scatter\", \"x\": [\"2012\", \"2013\", \"2014\", \"2015\", \"2016\", \"2017\"], \"y\": [12003, 12641, 12977, 14625, 12169, 10526]}, {\"mode\": \"markers+lines\", \"name\": \"desenvolvimento\", \"type\": \"scatter\", \"x\": [\"2012\", \"2013\", \"2014\", \"2015\", \"2016\", \"2017\"], \"y\": [11666, 12086, 12367, 13627, 12129, 7969]}, {\"mode\": \"markers+lines\", \"name\": \"tempo\", \"type\": \"scatter\", \"x\": [\"2012\", \"2013\", \"2014\", \"2015\", \"2016\", \"2017\"], \"y\": [10830, 11001, 10844, 12528, 11420, 10353]}, {\"mode\": \"markers+lines\", \"name\": \"documentos\", \"type\": \"scatter\", \"x\": [\"2012\", \"2013\", \"2014\", \"2015\", \"2016\", \"2017\"], \"y\": [10584, 15630, 11600, 13903, 15116, 10524]}, {\"mode\": \"markers+lines\", \"name\": \"sistema\", \"type\": \"scatter\", \"x\": [\"2012\", \"2013\", \"2014\", \"2015\", \"2016\", \"2017\"], \"y\": [10228, 13146, 12209, 11891, 13206, 8409]}, {\"mode\": \"markers+lines\", \"name\": \"mem\\u00f3ria\", \"type\": \"scatter\", \"x\": [\"2012\", \"2013\", \"2014\", \"2015\", \"2016\", \"2017\"], \"y\": [9813, 11964, 10962, 14941, 12963, 10076]}, {\"mode\": \"markers+lines\", \"name\": \"cultura\", \"type\": \"scatter\", \"x\": [\"2012\", \"2013\", \"2014\", \"2015\", \"2016\", \"2017\"], \"y\": [8142, 11036, 11858, 11475, 12332, 7245]}, {\"mode\": \"markers+lines\", \"name\": \"tecnologias\", \"type\": \"scatter\", \"x\": [\"2012\", \"2013\", \"2014\", \"2015\", \"2016\", \"2017\"], \"y\": [6625, 6862, 6811, 7842, 7660, 5977]}, {\"mode\": \"markers+lines\", \"name\": \"recupera\\u00e7\\u00e3o\", \"type\": \"scatter\", \"x\": [\"2012\", \"2013\", \"2014\", \"2015\", \"2016\", \"2017\"], \"y\": [4490, 4671, 4796, 4853, 4303, 3060]}, {\"mode\": \"markers+lines\", \"name\": \"arquivos\", \"type\": \"scatter\", \"x\": [\"2012\", \"2013\", \"2014\", \"2015\", \"2016\", \"2017\"], \"y\": [4433, 5903, 5776, 5711, 5569, 4182]}, {\"mode\": \"markers+lines\", \"name\": \"imagem\", \"type\": \"scatter\", \"x\": [\"2012\", \"2013\", \"2014\", \"2015\", \"2016\", \"2017\"], \"y\": [3950, 5519, 4647, 6791, 5498, 4712]}, {\"mode\": \"markers+lines\", \"name\": \"patrim\\u00f4nio\", \"type\": \"scatter\", \"x\": [\"2012\", \"2013\", \"2014\", \"2015\", \"2016\", \"2017\"], \"y\": [3933, 6348, 5197, 6766, 5050, 4179]}, {\"mode\": \"markers+lines\", \"name\": \"museu\", \"type\": \"scatter\", \"x\": [\"2012\", \"2013\", \"2014\", \"2015\", \"2016\", \"2017\"], \"y\": [10217, 11106, 12205, 14393, 13637, 8126]}, {\"mode\": \"markers+lines\", \"name\": \"gest\\u00e3o\", \"type\": \"scatter\", \"x\": [\"2012\", \"2013\", \"2014\", \"2015\", \"2016\", \"2017\"], \"y\": [7776, 11470, 8570, 12123, 12004, 7867]}, {\"mode\": \"markers+lines\", \"name\": \"produ\\u00e7\\u00e3o\", \"type\": \"scatter\", \"x\": [\"2012\", \"2013\", \"2014\", \"2015\", \"2016\", \"2017\"], \"y\": [12164, 11114, 13013, 14668, 13169, 12488]}, {\"mode\": \"markers+lines\", \"name\": \"sociedade\", \"type\": \"scatter\", \"x\": [\"2012\", \"2013\", \"2014\", \"2015\", \"2016\", \"2017\"], \"y\": [12458, 11196, 11926, 13165, 13135, 8611]}, {\"mode\": \"markers+lines\", \"name\": \"biblioteca\", \"type\": \"scatter\", \"x\": [\"2012\", \"2013\", \"2014\", \"2015\", \"2016\", \"2017\"], \"y\": [25254, 24794, 17974, 27265, 17615, 6281]}, {\"mode\": \"markers+lines\", \"name\": \"usu\\u00e1rios\", \"type\": \"scatter\", \"x\": [\"2012\", \"2013\", \"2014\", \"2015\", \"2016\", \"2017\"], \"y\": [8853, 11400, 9893, 8304, 9361, 5498]}, {\"mode\": \"markers+lines\", \"name\": \"metadados\", \"type\": \"scatter\", \"x\": [\"2012\", \"2013\", \"2014\", \"2015\", \"2016\", \"2017\"], \"y\": [1713, 2011, 2343, 1571, 1429, 0]}, {\"mode\": \"markers+lines\", \"name\": \"biblioteconomia\", \"type\": \"scatter\", \"x\": [\"2012\", \"2013\", \"2014\", \"2015\", \"2016\", \"2017\"], \"y\": [4565, 4594, 3348, 3800, 4316, 2146]}, {\"mode\": \"markers+lines\", \"name\": \"museologia\", \"type\": \"scatter\", \"x\": [\"2012\", \"2013\", \"2014\", \"2015\", \"2016\", \"2017\"], \"y\": [1396, 2369, 1693, 3346, 1952, 2927]}, {\"mode\": \"markers+lines\", \"name\": \"arquivologia\", \"type\": \"scatter\", \"x\": [\"2012\", \"2013\", \"2014\", \"2015\", \"2016\", \"2017\"], \"y\": [1349, 2332, 1222, 1321, 1492, 0]}, {\"mode\": \"markers+lines\", \"name\": \"ontologias\", \"type\": \"scatter\", \"x\": [\"2012\", \"2013\", \"2014\", \"2015\", \"2016\", \"2017\"], \"y\": [0, 1408, 2154, 1904, 0, 0]}, {\"mode\": \"markers+lines\", \"name\": \"patrim\\u00f4nio_cultural\", \"type\": \"scatter\", \"x\": [\"2012\", \"2013\", \"2014\", \"2015\", \"2016\", \"2017\"], \"y\": [468, 1613, 974, 1384, 1138, 768]}, {\"mode\": \"markers+lines\", \"name\": \"sociedade_informa\\u00e7\\u00e3o\", \"type\": \"scatter\", \"x\": [\"2012\", \"2013\", \"2014\", \"2015\", \"2016\", \"2017\"], \"y\": [1462, 1197, 1133, 1191, 1047, 634]}, {\"mode\": \"markers+lines\", \"name\": \"produ\\u00e7\\u00e3o_cient\\u00edfica\", \"type\": \"scatter\", \"x\": [\"2012\", \"2013\", \"2014\", \"2015\", \"2016\", \"2017\"], \"y\": [1951, 1494, 1726, 2355, 1884, 1488]}, {\"mode\": \"markers+lines\", \"name\": \"servi\\u00e7os_informa\\u00e7\\u00e3o\", \"type\": \"scatter\", \"x\": [\"2012\", \"2013\", \"2014\", \"2015\", \"2016\", \"2017\"], \"y\": [673, 719, 693, 793, 430, 299]}, {\"mode\": \"markers+lines\", \"name\": \"profissional_informa\\u00e7\\u00e3o\", \"type\": \"scatter\", \"x\": [\"2012\", \"2013\", \"2014\", \"2015\", \"2016\", \"2017\"], \"y\": [662, 804, 646, 738, 509, 457]}, {\"mode\": \"markers+lines\", \"name\": \"sistema_informa\\u00e7\\u00e3o\", \"type\": \"scatter\", \"x\": [\"2012\", \"2013\", \"2014\", \"2015\", \"2016\", \"2017\"], \"y\": [1193, 1579, 1413, 1364, 1310, 1018]}, {\"mode\": \"markers+lines\", \"name\": \"intelig\\u00eancia_artificial\", \"type\": \"scatter\", \"x\": [\"2012\", \"2013\", \"2014\", \"2015\", \"2016\", \"2017\"], \"y\": [619, 524, 647, 729, 698, 452]}, {\"mode\": \"markers+lines\", \"name\": \"rede_social\", \"type\": \"scatter\", \"x\": [\"2012\", \"2013\", \"2014\", \"2015\", \"2016\", \"2017\"], \"y\": [607, 474, 549, 729, 465, 421]}, {\"mode\": \"markers+lines\", \"name\": \"recursos_informacionais\", \"type\": \"scatter\", \"x\": [\"2012\", \"2013\", \"2014\", \"2015\", \"2016\", \"2017\"], \"y\": [587, 400, 462, 488, 383, 266]}, {\"mode\": \"markers+lines\", \"name\": \"educa\\u00e7\\u00e3o_dist\\u00e2ncia\", \"type\": \"scatter\", \"x\": [\"2012\", \"2013\", \"2014\", \"2015\", \"2016\", \"2017\"], \"y\": [579, 907, 970, 1336, 425, 150]}, {\"mode\": \"markers+lines\", \"name\": \"seguran\\u00e7a_informa\\u00e7\\u00e3o\", \"type\": \"scatter\", \"x\": [\"2012\", \"2013\", \"2014\", \"2015\", \"2016\", \"2017\"], \"y\": [574, 381, 568, 475, 752, 161]}, {\"mode\": \"markers+lines\", \"name\": \"produ\\u00e7\\u00e3o_conhecimento\", \"type\": \"scatter\", \"x\": [\"2012\", \"2013\", \"2014\", \"2015\", \"2016\", \"2017\"], \"y\": [556, 526, 540, 695, 628, 523]}, {\"mode\": \"markers+lines\", \"name\": \"gest\\u00e3o_documentos\", \"type\": \"scatter\", \"x\": [\"2012\", \"2013\", \"2014\", \"2015\", \"2016\", \"2017\"], \"y\": [552, 1517, 755, 1519, 1519, 419]}, {\"mode\": \"markers+lines\", \"name\": \"peri\\u00f3dicos_cient\\u00edficos\", \"type\": \"scatter\", \"x\": [\"2012\", \"2013\", \"2014\", \"2015\", \"2016\", \"2017\"], \"y\": [541, 662, 611, 514, 434, 442]}, {\"mode\": \"markers+lines\", \"name\": \"informa\\u00e7\\u00e3o_sociedade\", \"type\": \"scatter\", \"x\": [\"2012\", \"2013\", \"2014\", \"2015\", \"2016\", \"2017\"], \"y\": [523, 500, 534, 518, 394, 311]}, {\"mode\": \"markers+lines\", \"name\": \"biblioteca_virtual\", \"type\": \"scatter\", \"x\": [\"2012\", \"2013\", \"2014\", \"2015\", \"2016\", \"2017\"], \"y\": [515, 325, 170, 0, 0, 0]}, {\"mode\": \"markers+lines\", \"name\": \"organiza\\u00e7\\u00e3o_conhecimento\", \"type\": \"scatter\", \"x\": [\"2012\", \"2013\", \"2014\", \"2015\", \"2016\", \"2017\"], \"y\": [737, 1182, 1452, 1779, 1341, 1521]}, {\"mode\": \"markers+lines\", \"name\": \"busca_informa\\u00e7\\u00e3o\", \"type\": \"scatter\", \"x\": [\"2012\", \"2013\", \"2014\", \"2015\", \"2016\", \"2017\"], \"y\": [1104, 1204, 1347, 1112, 1448, 804]}, {\"mode\": \"markers+lines\", \"name\": \"tecnologia_informa\\u00e7\\u00e3o\", \"type\": \"scatter\", \"x\": [\"2012\", \"2013\", \"2014\", \"2015\", \"2016\", \"2017\"], \"y\": [1062, 874, 764, 973, 895, 650]}, {\"mode\": \"markers+lines\", \"name\": \"recupera\\u00e7\\u00e3o_informa\\u00e7\\u00e3o\", \"type\": \"scatter\", \"x\": [\"2012\", \"2013\", \"2014\", \"2015\", \"2016\", \"2017\"], \"y\": [2513, 2728, 2737, 2703, 2433, 1573]}, {\"mode\": \"markers+lines\", \"name\": \"informa\\u00e7\\u00e3o_conhecimento\", \"type\": \"scatter\", \"x\": [\"2012\", \"2013\", \"2014\", \"2015\", \"2016\", \"2017\"], \"y\": [1711, 2329, 2401, 2252, 2632, 1362]}, {\"mode\": \"markers+lines\", \"name\": \"uso_informa\\u00e7\\u00e3o\", \"type\": \"scatter\", \"x\": [\"2012\", \"2013\", \"2014\", \"2015\", \"2016\", \"2017\"], \"y\": [1616, 2385, 1958, 2329, 2034, 1479]}, {\"mode\": \"markers+lines\", \"name\": \"gest\\u00e3o_informa\\u00e7\\u00e3o\", \"type\": \"scatter\", \"x\": [\"2012\", \"2013\", \"2014\", \"2015\", \"2016\", \"2017\"], \"y\": [1469, 1825, 1659, 2216, 1900, 1283]}, {\"mode\": \"markers+lines\", \"name\": \"bases_dados\", \"type\": \"scatter\", \"x\": [\"2012\", \"2013\", \"2014\", \"2015\", \"2016\", \"2017\"], \"y\": [996, 1226, 1661, 1297, 897, 927]}, {\"mode\": \"markers+lines\", \"name\": \"tomada_decis\\u00e3o\", \"type\": \"scatter\", \"x\": [\"2012\", \"2013\", \"2014\", \"2015\", \"2016\", \"2017\"], \"y\": [531, 1305, 969, 779, 1053, 660]}, {\"mode\": \"markers+lines\", \"name\": \"arquitetura_informa\\u00e7\\u00e3o\", \"type\": \"scatter\", \"x\": [\"2012\", \"2013\", \"2014\", \"2015\", \"2016\", \"2017\"], \"y\": [1189, 1231, 1536, 1405, 1147, 599]}, {\"mode\": \"markers+lines\", \"name\": \"web_sem\\u00e2ntica\", \"type\": \"scatter\", \"x\": [\"2012\", \"2013\", \"2014\", \"2015\", \"2016\", \"2017\"], \"y\": [277, 534, 608, 380, 568, 265]}, {\"mode\": \"markers+lines\", \"name\": \"mem\\u00f3ria_social\", \"type\": \"scatter\", \"x\": [\"2012\", \"2013\", \"2014\", \"2015\", \"2016\", \"2017\"], \"y\": [874, 969, 790, 1141, 948, 952]}, {\"mode\": \"markers+lines\", \"name\": \"conhecimento_cient\\u00edfico\", \"type\": \"scatter\", \"x\": [\"2012\", \"2013\", \"2014\", \"2015\", \"2016\", \"2017\"], \"y\": [1177, 786, 675, 731, 608, 418]}, {\"mode\": \"markers+lines\", \"name\": \"banco_dados\", \"type\": \"scatter\", \"x\": [\"2012\", \"2013\", \"2014\", \"2015\", \"2016\", \"2017\"], \"y\": [565, 754, 565, 626, 556, 403]}, {\"mode\": \"markers+lines\", \"name\": \"reposit\\u00f3rios_institucionais\", \"type\": \"scatter\", \"x\": [\"2012\", \"2013\", \"2014\", \"2015\", \"2016\", \"2017\"], \"y\": [674, 402, 241, 884, 341, 135]}, {\"mode\": \"markers+lines\", \"name\": \"mem\\u00f3ria_coletiva\", \"type\": \"scatter\", \"x\": [\"2012\", \"2013\", \"2014\", \"2015\", \"2016\", \"2017\"], \"y\": [383, 584, 552, 739, 578, 530]}, {\"mode\": \"markers+lines\", \"name\": \"representa\\u00e7\\u00e3o_conhecimento\", \"type\": \"scatter\", \"x\": [\"2012\", \"2013\", \"2014\", \"2015\", \"2016\", \"2017\"], \"y\": [437, 385, 703, 526, 474, 344]}, {\"mode\": \"markers+lines\", \"name\": \"coleta_dados\", \"type\": \"scatter\", \"x\": [\"2012\", \"2013\", \"2014\", \"2015\", \"2016\", \"2017\"], \"y\": [1444, 1694, 1626, 1584, 1399, 1071]}, {\"mode\": \"markers+lines\", \"name\": \"organiza\\u00e7\\u00e3o_informa\\u00e7\\u00e3o\", \"type\": \"scatter\", \"x\": [\"2012\", \"2013\", \"2014\", \"2015\", \"2016\", \"2017\"], \"y\": [971, 1010, 1073, 1360, 1010, 1018]}, {\"mode\": \"markers+lines\", \"name\": \"mapa_conceitual\", \"type\": \"scatter\", \"x\": [\"2012\", \"2013\", \"2014\", \"2015\", \"2016\", \"2017\"], \"y\": [0, 0, 400, 0, 497, 301]}, {\"mode\": \"markers+lines\", \"name\": \"informa\\u00e7\\u00e3o_conhecimento\", \"type\": \"scatter\", \"x\": [\"2012\", \"2013\", \"2014\", \"2015\", \"2016\", \"2017\"], \"y\": [1711, 2329, 2401, 2252, 2632, 2632]}, {\"mode\": \"markers+lines\", \"name\": \"comunica\\u00e7\\u00e3o_cient\\u00edfica\", \"type\": \"scatter\", \"x\": [\"2012\", \"2013\", \"2014\", \"2015\", \"2016\", \"2017\"], \"y\": [1412, 1493, 1114, 1212, 880, 649]}, {\"mode\": \"markers+lines\", \"name\": \"tecnologias_informa\\u00e7\\u00e3o_comunica\\u00e7\\u00e3o\", \"type\": \"scatter\", \"x\": [\"2012\", \"2013\", \"2014\", \"2015\", \"2016\", \"2017\"], \"y\": [1082, 762, 701, 727, 665, 546]}, {\"mode\": \"markers+lines\", \"name\": \"fonte_dados_pesquisa\", \"type\": \"scatter\", \"x\": [\"2012\", \"2013\", \"2014\", \"2015\", \"2016\", \"2017\"], \"y\": [963, 846, 834, 1222, 1314, 603]}, {\"mode\": \"markers+lines\", \"name\": \"institui\\u00e7\\u00e3o_ensino_superior\", \"type\": \"scatter\", \"x\": [\"2012\", \"2013\", \"2014\", \"2015\", \"2016\", \"2017\"], \"y\": [668, 441, 330, 217, 432, 180]}, {\"mode\": \"markers+lines\", \"name\": \"web_ontology_language\", \"type\": \"scatter\", \"x\": [\"2012\", \"2013\", \"2014\", \"2015\", \"2016\", \"2017\"], \"y\": [152, 263, 311, 178, 177, 137]}, {\"mode\": \"markers+lines\", \"name\": \"sistemas_organiza\\u00e7\\u00e3o_conhecimento\", \"type\": \"scatter\", \"x\": [\"2012\", \"2013\", \"2014\", \"2015\", \"2016\", \"2017\"], \"y\": [67, 284, 312, 661, 394, 371]}, {\"mode\": \"markers+lines\", \"name\": \"processamento_linguagem_natural\", \"type\": \"scatter\", \"x\": [\"2012\", \"2013\", \"2014\", \"2015\", \"2016\", \"2017\"], \"y\": [0, 159, 114, 50, 0, 54]}, {\"mode\": \"markers+lines\", \"name\": \"dados_informa\\u00e7\\u00e3o_conhecimento\", \"type\": \"scatter\", \"x\": [\"2012\", \"2013\", \"2014\", \"2015\", \"2016\", \"2017\"], \"y\": [47, 66, 183, 49, 68, 63]}, {\"mode\": \"markers+lines\", \"name\": \"big_data\", \"type\": \"scatter\", \"x\": [\"2012\", \"2013\", \"2014\", \"2015\", \"2016\", \"2017\"], \"y\": [0, 0, 0, 0, 0, 608]}, {\"mode\": \"markers+lines\", \"name\": \"corpus\", \"type\": \"scatter\", \"x\": [\"2012\", \"2013\", \"2014\", \"2015\", \"2016\", \"2017\"], \"y\": [0, 0, 0, 0, 0, 1103]}, {\"mode\": \"markers+lines\", \"name\": \"processo_comunica\\u00e7\\u00e3o_cient\\u00edfica\", \"type\": \"scatter\", \"x\": [\"2012\", \"2013\", \"2014\", \"2015\", \"2016\", \"2017\"], \"y\": [100, 78, 53, 69, 64, 55]}],\n",
       "                        {\"template\": {\"data\": {\"bar\": [{\"error_x\": {\"color\": \"#2a3f5f\"}, \"error_y\": {\"color\": \"#2a3f5f\"}, \"marker\": {\"line\": {\"color\": \"#E5ECF6\", \"width\": 0.5}}, \"type\": \"bar\"}], \"barpolar\": [{\"marker\": {\"line\": {\"color\": \"#E5ECF6\", \"width\": 0.5}}, \"type\": \"barpolar\"}], \"carpet\": [{\"aaxis\": {\"endlinecolor\": \"#2a3f5f\", \"gridcolor\": \"white\", \"linecolor\": \"white\", \"minorgridcolor\": \"white\", \"startlinecolor\": \"#2a3f5f\"}, \"baxis\": {\"endlinecolor\": \"#2a3f5f\", \"gridcolor\": \"white\", \"linecolor\": \"white\", \"minorgridcolor\": \"white\", \"startlinecolor\": \"#2a3f5f\"}, \"type\": \"carpet\"}], \"choropleth\": [{\"colorbar\": {\"outlinewidth\": 0, \"ticks\": \"\"}, \"type\": \"choropleth\"}], \"contour\": [{\"colorbar\": {\"outlinewidth\": 0, \"ticks\": \"\"}, \"colorscale\": [[0.0, \"#0d0887\"], [0.1111111111111111, \"#46039f\"], [0.2222222222222222, \"#7201a8\"], [0.3333333333333333, \"#9c179e\"], [0.4444444444444444, \"#bd3786\"], [0.5555555555555556, \"#d8576b\"], [0.6666666666666666, \"#ed7953\"], [0.7777777777777778, \"#fb9f3a\"], [0.8888888888888888, \"#fdca26\"], [1.0, \"#f0f921\"]], \"type\": \"contour\"}], \"contourcarpet\": [{\"colorbar\": {\"outlinewidth\": 0, \"ticks\": \"\"}, \"type\": \"contourcarpet\"}], \"heatmap\": [{\"colorbar\": {\"outlinewidth\": 0, \"ticks\": \"\"}, \"colorscale\": [[0.0, \"#0d0887\"], [0.1111111111111111, \"#46039f\"], [0.2222222222222222, \"#7201a8\"], [0.3333333333333333, \"#9c179e\"], [0.4444444444444444, \"#bd3786\"], [0.5555555555555556, \"#d8576b\"], [0.6666666666666666, \"#ed7953\"], [0.7777777777777778, \"#fb9f3a\"], [0.8888888888888888, \"#fdca26\"], [1.0, \"#f0f921\"]], \"type\": \"heatmap\"}], \"heatmapgl\": [{\"colorbar\": {\"outlinewidth\": 0, \"ticks\": \"\"}, \"colorscale\": [[0.0, \"#0d0887\"], [0.1111111111111111, \"#46039f\"], [0.2222222222222222, \"#7201a8\"], [0.3333333333333333, \"#9c179e\"], [0.4444444444444444, \"#bd3786\"], [0.5555555555555556, \"#d8576b\"], [0.6666666666666666, \"#ed7953\"], [0.7777777777777778, \"#fb9f3a\"], [0.8888888888888888, \"#fdca26\"], [1.0, \"#f0f921\"]], \"type\": \"heatmapgl\"}], \"histogram\": [{\"marker\": {\"colorbar\": {\"outlinewidth\": 0, \"ticks\": \"\"}}, \"type\": \"histogram\"}], \"histogram2d\": [{\"colorbar\": {\"outlinewidth\": 0, \"ticks\": \"\"}, \"colorscale\": [[0.0, \"#0d0887\"], [0.1111111111111111, \"#46039f\"], [0.2222222222222222, \"#7201a8\"], [0.3333333333333333, \"#9c179e\"], [0.4444444444444444, \"#bd3786\"], [0.5555555555555556, \"#d8576b\"], [0.6666666666666666, \"#ed7953\"], [0.7777777777777778, \"#fb9f3a\"], [0.8888888888888888, \"#fdca26\"], [1.0, \"#f0f921\"]], \"type\": \"histogram2d\"}], \"histogram2dcontour\": [{\"colorbar\": {\"outlinewidth\": 0, \"ticks\": \"\"}, \"colorscale\": [[0.0, \"#0d0887\"], [0.1111111111111111, \"#46039f\"], [0.2222222222222222, \"#7201a8\"], [0.3333333333333333, \"#9c179e\"], [0.4444444444444444, \"#bd3786\"], [0.5555555555555556, \"#d8576b\"], [0.6666666666666666, \"#ed7953\"], [0.7777777777777778, \"#fb9f3a\"], [0.8888888888888888, \"#fdca26\"], [1.0, \"#f0f921\"]], \"type\": \"histogram2dcontour\"}], \"mesh3d\": [{\"colorbar\": {\"outlinewidth\": 0, \"ticks\": \"\"}, \"type\": \"mesh3d\"}], \"parcoords\": [{\"line\": {\"colorbar\": {\"outlinewidth\": 0, \"ticks\": \"\"}}, \"type\": \"parcoords\"}], \"pie\": [{\"automargin\": true, \"type\": \"pie\"}], \"scatter\": [{\"marker\": {\"colorbar\": {\"outlinewidth\": 0, \"ticks\": \"\"}}, \"type\": \"scatter\"}], \"scatter3d\": [{\"line\": {\"colorbar\": {\"outlinewidth\": 0, \"ticks\": \"\"}}, \"marker\": {\"colorbar\": {\"outlinewidth\": 0, \"ticks\": \"\"}}, \"type\": \"scatter3d\"}], \"scattercarpet\": [{\"marker\": {\"colorbar\": {\"outlinewidth\": 0, \"ticks\": \"\"}}, \"type\": \"scattercarpet\"}], \"scattergeo\": [{\"marker\": {\"colorbar\": {\"outlinewidth\": 0, \"ticks\": \"\"}}, \"type\": \"scattergeo\"}], \"scattergl\": [{\"marker\": {\"colorbar\": {\"outlinewidth\": 0, \"ticks\": \"\"}}, \"type\": \"scattergl\"}], \"scattermapbox\": [{\"marker\": {\"colorbar\": {\"outlinewidth\": 0, \"ticks\": \"\"}}, \"type\": \"scattermapbox\"}], \"scatterpolar\": [{\"marker\": {\"colorbar\": {\"outlinewidth\": 0, \"ticks\": \"\"}}, \"type\": \"scatterpolar\"}], \"scatterpolargl\": [{\"marker\": {\"colorbar\": {\"outlinewidth\": 0, \"ticks\": \"\"}}, \"type\": \"scatterpolargl\"}], \"scatterternary\": [{\"marker\": {\"colorbar\": {\"outlinewidth\": 0, \"ticks\": \"\"}}, \"type\": \"scatterternary\"}], \"surface\": [{\"colorbar\": {\"outlinewidth\": 0, \"ticks\": \"\"}, \"colorscale\": [[0.0, \"#0d0887\"], [0.1111111111111111, \"#46039f\"], [0.2222222222222222, \"#7201a8\"], [0.3333333333333333, \"#9c179e\"], [0.4444444444444444, \"#bd3786\"], [0.5555555555555556, \"#d8576b\"], [0.6666666666666666, \"#ed7953\"], [0.7777777777777778, \"#fb9f3a\"], [0.8888888888888888, \"#fdca26\"], [1.0, \"#f0f921\"]], \"type\": \"surface\"}], \"table\": [{\"cells\": {\"fill\": {\"color\": \"#EBF0F8\"}, \"line\": {\"color\": \"white\"}}, \"header\": {\"fill\": {\"color\": \"#C8D4E3\"}, \"line\": {\"color\": \"white\"}}, \"type\": \"table\"}]}, \"layout\": {\"annotationdefaults\": {\"arrowcolor\": \"#2a3f5f\", \"arrowhead\": 0, \"arrowwidth\": 1}, \"coloraxis\": {\"colorbar\": {\"outlinewidth\": 0, \"ticks\": \"\"}}, \"colorscale\": {\"diverging\": [[0, \"#8e0152\"], [0.1, \"#c51b7d\"], [0.2, \"#de77ae\"], [0.3, \"#f1b6da\"], [0.4, \"#fde0ef\"], [0.5, \"#f7f7f7\"], [0.6, \"#e6f5d0\"], [0.7, \"#b8e186\"], [0.8, \"#7fbc41\"], [0.9, \"#4d9221\"], [1, \"#276419\"]], \"sequential\": [[0.0, \"#0d0887\"], [0.1111111111111111, \"#46039f\"], [0.2222222222222222, \"#7201a8\"], [0.3333333333333333, \"#9c179e\"], [0.4444444444444444, \"#bd3786\"], [0.5555555555555556, \"#d8576b\"], [0.6666666666666666, \"#ed7953\"], [0.7777777777777778, \"#fb9f3a\"], [0.8888888888888888, \"#fdca26\"], [1.0, \"#f0f921\"]], \"sequentialminus\": [[0.0, \"#0d0887\"], [0.1111111111111111, \"#46039f\"], [0.2222222222222222, \"#7201a8\"], [0.3333333333333333, \"#9c179e\"], [0.4444444444444444, \"#bd3786\"], [0.5555555555555556, \"#d8576b\"], [0.6666666666666666, \"#ed7953\"], [0.7777777777777778, \"#fb9f3a\"], [0.8888888888888888, \"#fdca26\"], [1.0, \"#f0f921\"]]}, \"colorway\": [\"#636efa\", \"#EF553B\", \"#00cc96\", \"#ab63fa\", \"#FFA15A\", \"#19d3f3\", \"#FF6692\", \"#B6E880\", \"#FF97FF\", \"#FECB52\"], \"font\": {\"color\": \"#2a3f5f\"}, \"geo\": {\"bgcolor\": \"white\", \"lakecolor\": \"white\", \"landcolor\": \"#E5ECF6\", \"showlakes\": true, \"showland\": true, \"subunitcolor\": \"white\"}, \"hoverlabel\": {\"align\": \"left\"}, \"hovermode\": \"closest\", \"mapbox\": {\"style\": \"light\"}, \"paper_bgcolor\": \"white\", \"plot_bgcolor\": \"#E5ECF6\", \"polar\": {\"angularaxis\": {\"gridcolor\": \"white\", \"linecolor\": \"white\", \"ticks\": \"\"}, \"bgcolor\": \"#E5ECF6\", \"radialaxis\": {\"gridcolor\": \"white\", \"linecolor\": \"white\", \"ticks\": \"\"}}, \"scene\": {\"xaxis\": {\"backgroundcolor\": \"#E5ECF6\", \"gridcolor\": \"white\", \"gridwidth\": 2, \"linecolor\": \"white\", \"showbackground\": true, \"ticks\": \"\", \"zerolinecolor\": \"white\"}, \"yaxis\": {\"backgroundcolor\": \"#E5ECF6\", \"gridcolor\": \"white\", \"gridwidth\": 2, \"linecolor\": \"white\", \"showbackground\": true, \"ticks\": \"\", \"zerolinecolor\": \"white\"}, \"zaxis\": {\"backgroundcolor\": \"#E5ECF6\", \"gridcolor\": \"white\", \"gridwidth\": 2, \"linecolor\": \"white\", \"showbackground\": true, \"ticks\": \"\", \"zerolinecolor\": \"white\"}}, \"shapedefaults\": {\"line\": {\"color\": \"#2a3f5f\"}}, \"ternary\": {\"aaxis\": {\"gridcolor\": \"white\", \"linecolor\": \"white\", \"ticks\": \"\"}, \"baxis\": {\"gridcolor\": \"white\", \"linecolor\": \"white\", \"ticks\": \"\"}, \"bgcolor\": \"#E5ECF6\", \"caxis\": {\"gridcolor\": \"white\", \"linecolor\": \"white\", \"ticks\": \"\"}}, \"title\": {\"x\": 0.05}, \"xaxis\": {\"automargin\": true, \"gridcolor\": \"white\", \"linecolor\": \"white\", \"ticks\": \"\", \"title\": {\"standoff\": 15}, \"zerolinecolor\": \"white\", \"zerolinewidth\": 2}, \"yaxis\": {\"automargin\": true, \"gridcolor\": \"white\", \"linecolor\": \"white\", \"ticks\": \"\", \"title\": {\"standoff\": 15}, \"zerolinecolor\": \"white\", \"zerolinewidth\": 2}}}, \"title\": {\"text\": \"Frequ\\u00eancia dos termos mais relavantes do corpora teses e disserta\\u00e7\\u00f5es\", \"x\": 0, \"xref\": \"paper\"}, \"xaxis\": {\"title\": {\"font\": {\"color\": \"#7f7f7f\", \"family\": \"Courier New, monospace\", \"size\": 18}, \"text\": \"Anos\"}}, \"yaxis\": {\"title\": {\"font\": {\"color\": \"#7f7f7f\", \"family\": \"Courier New, monospace\", \"size\": 18}, \"text\": \"Frequ\\u00eancia\"}}},\n",
       "                        {\"responsive\": true}\n",
       "                    ).then(function(){\n",
       "                            \n",
       "var gd = document.getElementById('197580cc-22b0-4636-8a30-9835492b5f81');\n",
       "var x = new MutationObserver(function (mutations, observer) {{\n",
       "        var display = window.getComputedStyle(gd).display;\n",
       "        if (!display || display === 'none') {{\n",
       "            console.log([gd, 'removed!']);\n",
       "            Plotly.purge(gd);\n",
       "            observer.disconnect();\n",
       "        }}\n",
       "}});\n",
       "\n",
       "// Listen for the removal of the full notebook cells\n",
       "var notebookContainer = gd.closest('#notebook-container');\n",
       "if (notebookContainer) {{\n",
       "    x.observe(notebookContainer, {childList: true});\n",
       "}}\n",
       "\n",
       "// Listen for the clearing of the current output cell\n",
       "var outputEl = gd.closest('.output');\n",
       "if (outputEl) {{\n",
       "    x.observe(outputEl, {childList: true});\n",
       "}}\n",
       "\n",
       "                        })\n",
       "                };\n",
       "                });\n",
       "            </script>\n",
       "        </div>"
      ]
     },
     "metadata": {},
     "output_type": "display_data"
    }
   ],
   "source": [
    "trace1 = go.Scatter(x = ['2012', '2013', '2014', '2015', '2016', '2017'],\n",
    "                    y = [92776, 100997, 108609, 102184, 95368, 70181],\n",
    "                    mode = 'markers+lines',\n",
    "                    name = 'Informação')\n",
    "\n",
    "trace2 = go.Scatter(x = ['2012', '2013', '2014', '2015', '2016', '2017'],\n",
    "                    y = [29708, 30636, 31935, 35136, 31543, 25323],\n",
    "                    mode = 'markers+lines',\n",
    "                    name = 'pesquisa')\n",
    "\n",
    "trace3 = go.Scatter(x = ['2012', '2013', '2014', '2015', '2016', '2017'],\n",
    "                    y = [25254, 24794, 17974, 27265, 17615, 6281],\n",
    "                    mode = 'markers+lines',\n",
    "                    name = 'biblioteca')\n",
    "\n",
    "trace4 = go.Scatter(x = ['2012', '2013', '2014', '2015', '2016', '2017'],\n",
    "                    y = [23025, 24558, 27061, 27656, 25394, 18395],\n",
    "                    mode = 'markers+lines',\n",
    "                    name = 'conhecimento')\n",
    "\n",
    "trace5 = go.Scatter(x = ['2012', '2013', '2014', '2015', '2016', '2017'],\n",
    "                    y = [18363, 20329, 21569, 23373, 21071, 17412],\n",
    "                    mode = 'markers+lines',\n",
    "                    name = 'forma')\n",
    "\n",
    "trace6 = go.Scatter(x = ['2012', '2013', '2014', '2015', '2016', '2017'],\n",
    "                    y = [16969, 19113, 19465, 20414, 17282, 15955],\n",
    "                    mode = 'markers+lines',\n",
    "                    name = 'processo')\n",
    "\n",
    "trace7 = go.Scatter(x = ['2012', '2013', '2014', '2015', '2016', '2017'],\n",
    "                    y = [15928, 16953, 20225, 19571, 19137, 17191],\n",
    "                    mode = 'markers+lines',\n",
    "                    name = 'dados')\n",
    "\n",
    "trace8 = go.Scatter(x = ['2012', '2013', '2014', '2015', '2016', '2017'],\n",
    "                    y = [15696, 14823, 13925, 16716, 13815, 10858],\n",
    "                    mode = 'markers+lines',\n",
    "                    name = 'comunicação')\n",
    "\n",
    "trace9 = go.Scatter(x = ['2012', '2013', '2014', '2015', '2016', '2017'],\n",
    "                    y = [12164, 11114, 13013, 14668, 13169, 12488],\n",
    "                    mode = 'markers+lines',\n",
    "                    name = 'produção')\n",
    "\n",
    "trace10 = go.Scatter(x = ['2012', '2013', '2014', '2015', '2016', '2017'],\n",
    "                    y = [12003, 12641, 12977, 14625, 12169, 10526],\n",
    "                    mode = 'markers+lines',\n",
    "                    name = 'organização')\n",
    "\n",
    "trace11 = go.Scatter(x = ['2012', '2013', '2014', '2015', '2016', '2017'],\n",
    "                    y = [11666, 12086, 12367, 13627, 12129, 7969],\n",
    "                    mode = 'markers+lines',\n",
    "                    name = 'desenvolvimento')\n",
    "\n",
    "trace12 = go.Scatter(x = ['2012', '2013', '2014', '2015', '2016', '2017'],\n",
    "                    y = [10830, 11001, 10844, 12528, 11420, 10353],\n",
    "                    mode = 'markers+lines',\n",
    "                    name = 'tempo')\n",
    "\n",
    "trace13 = go.Scatter(x = ['2012', '2013', '2014', '2015', '2016', '2017'],\n",
    "                    y = [10584, 15630, 11600, 13903, 15116, 10524],\n",
    "                    mode = 'markers+lines',\n",
    "                    name = 'documentos')\n",
    "\n",
    "trace14 = go.Scatter(x = ['2012', '2013', '2014', '2015', '2016', '2017'],\n",
    "                    y = [10228, 13146, 12209, 11891, 13206, 8409],\n",
    "                    mode = 'markers+lines',\n",
    "                    name = 'sistema')\n",
    "\n",
    "trace15 = go.Scatter(x = ['2012', '2013', '2014', '2015', '2016', '2017'],\n",
    "                    y = [9813, 11964, 10962, 14941, 12963, 10076],\n",
    "                    mode = 'markers+lines',\n",
    "                    name = 'memória')\n",
    "\n",
    "trace16 = go.Scatter(x = ['2012', '2013', '2014', '2015', '2016', '2017'],\n",
    "                    y = [8142, 11036, 11858, 11475, 12332, 7245],\n",
    "                    mode = 'markers+lines',\n",
    "                    name = 'cultura')\n",
    "\n",
    "trace17 = go.Scatter(x = ['2012', '2013', '2014', '2015', '2016', '2017'],\n",
    "                    y = [6625, 6862, 6811, 7842, 7660, 5977],\n",
    "                    mode = 'markers+lines',\n",
    "                    name = 'tecnologias')\n",
    "\n",
    "trace18 = go.Scatter(x = ['2012', '2013', '2014', '2015', '2016', '2017'],\n",
    "                    y = [4490, 4671, 4796, 4853, 4303, 3060],\n",
    "                    mode = 'markers+lines',\n",
    "                    name = 'recuperação')\n",
    "\n",
    "trace19 = go.Scatter(x = ['2012', '2013', '2014', '2015', '2016', '2017'],\n",
    "                    y = [4433, 5903, 5776, 5711, 5569, 4182],\n",
    "                    mode = 'markers+lines',\n",
    "                    name = 'arquivos')\n",
    "\n",
    "trace20 = go.Scatter(x = ['2012', '2013', '2014', '2015', '2016', '2017'],\n",
    "                    y = [3950, 5519, 4647, 6791, 5498, 4712],\n",
    "                    mode = 'markers+lines',\n",
    "                    name = 'imagem')\n",
    "\n",
    "trace21 = go.Scatter(x = ['2012', '2013', '2014', '2015', '2016', '2017'],\n",
    "                    y = [3933, 6348, 5197, 6766, 5050, 4179],\n",
    "                    mode = 'markers+lines',\n",
    "                    name = 'patrimônio')\n",
    "\n",
    "trace22 = go.Scatter(x = ['2012', '2013', '2014', '2015', '2016', '2017'],\n",
    "                    y = [10217, 11106, 12205, 14393, 13637, 8126],\n",
    "                    mode = 'markers+lines',\n",
    "                    name = 'museu')\n",
    "\n",
    "trace23 = go.Scatter(x = ['2012', '2013', '2014', '2015', '2016', '2017'],\n",
    "                    y = [7776, 11470, 8570, 12123, 12004, 7867],\n",
    "                    mode = 'markers+lines',\n",
    "                    name = 'gestão')\n",
    "\n",
    "trace24 = go.Scatter(x = ['2012', '2013', '2014', '2015', '2016', '2017'],\n",
    "                    y = [12164, 11114, 13013, 14668, 13169, 12488],\n",
    "                    mode = 'markers+lines',\n",
    "                    name = 'produção')\n",
    "\n",
    "trace25 = go.Scatter(x = ['2012', '2013', '2014', '2015', '2016', '2017'],\n",
    "                    y = [12458, 11196, 11926, 13165, 13135, 8611],\n",
    "                    mode = 'markers+lines',\n",
    "                    name = 'sociedade')\n",
    "\n",
    "trace26 = go.Scatter(x = ['2012', '2013', '2014', '2015', '2016', '2017'],\n",
    "                    y = [25254, 24794, 17974, 27265, 17615, 6281],\n",
    "                    mode = 'markers+lines',\n",
    "                    name = 'biblioteca')\n",
    "\n",
    "trace27 = go.Scatter(x = ['2012', '2013', '2014', '2015', '2016', '2017'],\n",
    "                    y = [8853, 11400, 9893, 8304, 9361, 5498],\n",
    "                    mode = 'markers+lines',\n",
    "                    name = 'usuários')\n",
    "\n",
    "trace28 = go.Scatter(x = ['2012', '2013', '2014', '2015', '2016', '2017'],\n",
    "                    y = [1713, 2011, 2343, 1571, 1429, 0],\n",
    "                    mode = 'markers+lines',\n",
    "                    name = 'metadados')\n",
    "\n",
    "trace29 = go.Scatter(x = ['2012', '2013', '2014', '2015', '2016', '2017'],\n",
    "                    y = [4565, 4594, 3348, 3800, 4316, 2146],\n",
    "                    mode = 'markers+lines',\n",
    "                    name = 'biblioteconomia')\n",
    "\n",
    "trace30 = go.Scatter(x = ['2012', '2013', '2014', '2015', '2016', '2017'],\n",
    "                    y = [1396, 2369, 1693, 3346, 1952, 2927],\n",
    "                    mode = 'markers+lines',\n",
    "                    name = 'museologia')\n",
    "\n",
    "trace31 = go.Scatter(x = ['2012', '2013', '2014', '2015', '2016', '2017'],\n",
    "                    y = [1349, 2332, 1222, 1321, 1492, 0],\n",
    "                    mode = 'markers+lines',\n",
    "                    name = 'arquivologia')\n",
    "\n",
    "trace32 = go.Scatter(x = ['2012', '2013', '2014', '2015', '2016', '2017'],\n",
    "                    y = [0, 1408, 2154, 1904, 0, 0],\n",
    "                    mode = 'markers+lines',\n",
    "                    name = 'ontologias')\n",
    "\n",
    "trace33 = go.Scatter(x = ['2012', '2013', '2014', '2015', '2016', '2017'],\n",
    "                    y = [468, 1613, 974, 1384, 1138, 768],\n",
    "                    mode = 'markers+lines',\n",
    "                    name = 'patrimônio_cultural')\n",
    "\n",
    "trace34 = go.Scatter(x = ['2012', '2013', '2014', '2015', '2016', '2017'],\n",
    "                    y = [1462, 1197, 1133, 1191, 1047, 634],\n",
    "                    mode = 'markers+lines',\n",
    "                    name = 'sociedade_informação')\n",
    "\n",
    "trace35 = go.Scatter(x = ['2012', '2013', '2014', '2015', '2016', '2017'],\n",
    "                    y = [1951, 1494, 1726, 2355, 1884, 1488],\n",
    "                    mode = 'markers+lines',\n",
    "                    name = 'produção_científica')\n",
    "\n",
    "trace36 = go.Scatter(x = ['2012', '2013', '2014', '2015', '2016', '2017'],\n",
    "                    y = [673, 719, 693, 793, 430, 299],\n",
    "                    mode = 'markers+lines',\n",
    "                    name = 'serviços_informação')\n",
    "\n",
    "trace37 = go.Scatter(x = ['2012', '2013', '2014', '2015', '2016', '2017'],\n",
    "                    y = [662, 804, 646, 738, 509, 457],\n",
    "                    mode = 'markers+lines',\n",
    "                    name = 'profissional_informação')\n",
    "\n",
    "trace38 = go.Scatter(x = ['2012', '2013', '2014', '2015', '2016', '2017'],\n",
    "                    y = [1193, 1579, 1413, 1364, 1310, 1018],\n",
    "                    mode = 'markers+lines',\n",
    "                    name = 'sistema_informação')\n",
    "\n",
    "trace39 = go.Scatter(x = ['2012', '2013', '2014', '2015', '2016', '2017'],\n",
    "                    y = [619, 524, 647, 729, 698, 452],\n",
    "                    mode = 'markers+lines',\n",
    "                    name = 'inteligência_artificial')\n",
    "\n",
    "trace40 = go.Scatter(x = ['2012', '2013', '2014', '2015', '2016', '2017'],\n",
    "                    y = [607, 474, 549, 729, 465, 421],\n",
    "                    mode = 'markers+lines',\n",
    "                    name = 'rede_social')\n",
    "\n",
    "trace41 = go.Scatter(x = ['2012', '2013', '2014', '2015', '2016', '2017'],\n",
    "                    y = [587, 400, 462, 488, 383, 266],\n",
    "                    mode = 'markers+lines',\n",
    "                    name = 'recursos_informacionais')\n",
    "\n",
    "trace42 = go.Scatter(x = ['2012', '2013', '2014', '2015', '2016', '2017'],\n",
    "                    y = [579, 907, 970, 1336, 425, 150],\n",
    "                    mode = 'markers+lines',\n",
    "                    name = 'educação_distância')\n",
    "\n",
    "trace43 = go.Scatter(x = ['2012', '2013', '2014', '2015', '2016', '2017'],\n",
    "                    y = [574, 381, 568, 475, 752, 161],\n",
    "                    mode = 'markers+lines',\n",
    "                    name = 'segurança_informação')\n",
    "\n",
    "trace44 = go.Scatter(x = ['2012', '2013', '2014', '2015', '2016', '2017'],\n",
    "                    y = [556, 526, 540, 695, 628, 523],\n",
    "                    mode = 'markers+lines',\n",
    "                    name = 'produção_conhecimento')\n",
    "\n",
    "trace45 = go.Scatter(x = ['2012', '2013', '2014', '2015', '2016', '2017'],\n",
    "                    y = [552, 1517, 755, 1519, 1519, 419],\n",
    "                    mode = 'markers+lines',\n",
    "                    name = 'gestão_documentos')\n",
    "\n",
    "trace46 = go.Scatter(x = ['2012', '2013', '2014', '2015', '2016', '2017'],\n",
    "                    y = [541, 662, 611, 514, 434, 442],\n",
    "                    mode = 'markers+lines',\n",
    "                    name = 'periódicos_científicos')\n",
    "\n",
    "trace47 = go.Scatter(x = ['2012', '2013', '2014', '2015', '2016', '2017'],\n",
    "                    y = [523, 500, 534, 518, 394, 311],\n",
    "                    mode = 'markers+lines',\n",
    "                    name = 'informação_sociedade')\n",
    "\n",
    "trace48 = go.Scatter(x = ['2012', '2013', '2014', '2015', '2016', '2017'],\n",
    "                    y = [515, 325, 170, 0, 0, 0],\n",
    "                    mode = 'markers+lines',\n",
    "                    name = 'biblioteca_virtual')\n",
    "\n",
    "trace49 = go.Scatter(x = ['2012', '2013', '2014', '2015', '2016', '2017'],\n",
    "                    y = [737, 1182, 1452, 1779, 1341, 1521],\n",
    "                    mode = 'markers+lines',\n",
    "                    name = 'organização_conhecimento')\n",
    "\n",
    "trace50 = go.Scatter(x = ['2012', '2013', '2014', '2015', '2016', '2017'],\n",
    "                    y = [1104, 1204, 1347, 1112, 1448, 804],\n",
    "                    mode = 'markers+lines',\n",
    "                    name = 'busca_informação')\n",
    "\n",
    "trace51 = go.Scatter(x = ['2012', '2013', '2014', '2015', '2016', '2017'],\n",
    "                    y = [1062, 874, 764, 973, 895, 650],\n",
    "                    mode = 'markers+lines',\n",
    "                    name = 'tecnologia_informação')\n",
    "\n",
    "trace52 = go.Scatter(x = ['2012', '2013', '2014', '2015', '2016', '2017'],\n",
    "                    y = [2513, 2728, 2737, 2703, 2433, 1573],\n",
    "                    mode = 'markers+lines',\n",
    "                    name = 'recuperação_informação')\n",
    "\n",
    "trace53 = go.Scatter(x = ['2012', '2013', '2014', '2015', '2016', '2017'],\n",
    "                    y = [1711, 2329, 2401, 2252, 2632, 1362],\n",
    "                    mode = 'markers+lines',\n",
    "                    name = 'informação_conhecimento')\n",
    "\n",
    "trace54 = go.Scatter(x = ['2012', '2013', '2014', '2015', '2016', '2017'],\n",
    "                    y = [1616, 2385, 1958, 2329, 2034, 1479],\n",
    "                    mode = 'markers+lines',\n",
    "                    name = 'uso_informação')\n",
    "\n",
    "trace55 = go.Scatter(x = ['2012', '2013', '2014', '2015', '2016', '2017'],\n",
    "                    y = [1469, 1825, 1659, 2216, 1900, 1283],\n",
    "                    mode = 'markers+lines',\n",
    "                    name = 'gestão_informação')\n",
    "\n",
    "trace56 = go.Scatter(x = ['2012', '2013', '2014', '2015', '2016', '2017'],\n",
    "                    y = [996, 1226, 1661, 1297, 897, 927],\n",
    "                    mode = 'markers+lines',\n",
    "                    name = 'bases_dados')\n",
    "\n",
    "trace57 = go.Scatter(x = ['2012', '2013', '2014', '2015', '2016', '2017'],\n",
    "                    y = [531, 1305, 969, 779, 1053, 660],\n",
    "                    mode = 'markers+lines',\n",
    "                    name = 'tomada_decisão')\n",
    "\n",
    "trace58 = go.Scatter(x = ['2012', '2013', '2014', '2015', '2016', '2017'],\n",
    "                    y = [1189, 1231, 1536, 1405, 1147, 599],\n",
    "                    mode = 'markers+lines',\n",
    "                    name = 'arquitetura_informação')\n",
    "\n",
    "trace59 = go.Scatter(x = ['2012', '2013', '2014', '2015', '2016', '2017'],\n",
    "                    y = [277, 534, 608, 380, 568, 265],\n",
    "                    mode = 'markers+lines',\n",
    "                    name = 'web_semântica')\n",
    "\n",
    "trace60 = go.Scatter(x = ['2012', '2013', '2014', '2015', '2016', '2017'],\n",
    "                    y = [874, 969, 790, 1141, 948, 952],\n",
    "                    mode = 'markers+lines',\n",
    "                    name = 'memória_social')\n",
    "\n",
    "trace61 = go.Scatter(x = ['2012', '2013', '2014', '2015', '2016', '2017'],\n",
    "                    y = [1177, 786, 675, 731, 608, 418],\n",
    "                    mode = 'markers+lines',\n",
    "                    name = 'conhecimento_científico')\n",
    "\n",
    "trace62 = go.Scatter(x = ['2012', '2013', '2014', '2015', '2016', '2017'],\n",
    "                    y = [565, 754, 565, 626, 556, 403],\n",
    "                    mode = 'markers+lines',\n",
    "                    name = 'banco_dados')\n",
    "\n",
    "trace63 = go.Scatter(x = ['2012', '2013', '2014', '2015', '2016', '2017'],\n",
    "                    y = [674, 402, 241, 884, 341, 135],\n",
    "                    mode = 'markers+lines',\n",
    "                    name = 'repositórios_institucionais')\n",
    "\n",
    "trace64 = go.Scatter(x = ['2012', '2013', '2014', '2015', '2016', '2017'],\n",
    "                    y = [383, 584, 552, 739, 578, 530],\n",
    "                    mode = 'markers+lines',\n",
    "                    name = 'memória_coletiva')\n",
    "\n",
    "trace65 = go.Scatter(x = ['2012', '2013', '2014', '2015', '2016', '2017'],\n",
    "                    y = [437, 385, 703, 526, 474, 344],\n",
    "                    mode = 'markers+lines',\n",
    "                    name = 'representação_conhecimento')\n",
    "\n",
    "trace66 = go.Scatter(x = ['2012', '2013', '2014', '2015', '2016', '2017'],\n",
    "                    y = [1444, 1694, 1626, 1584, 1399, 1071],\n",
    "                    mode = 'markers+lines',\n",
    "                    name = 'coleta_dados')\n",
    "\n",
    "trace67 = go.Scatter(x = ['2012', '2013', '2014', '2015', '2016', '2017'],\n",
    "                    y = [971, 1010, 1073, 1360, 1010, 1018],\n",
    "                    mode = 'markers+lines',\n",
    "                    name = 'organização_informação')\n",
    "\n",
    "trace68 = go.Scatter(x = ['2012', '2013', '2014', '2015', '2016', '2017'],\n",
    "                    y = [0, 0, 400, 0, 497, 301],\n",
    "                    mode = 'markers+lines',\n",
    "                    name = 'mapa_conceitual')\n",
    "\n",
    "trace69 = go.Scatter(x = ['2012', '2013', '2014', '2015', '2016', '2017'],\n",
    "                    y = [1711, 2329, 2401, 2252, 2632, 2632],\n",
    "                    mode = 'markers+lines',\n",
    "                    name = 'informação_conhecimento')\n",
    "\n",
    "trace70 = go.Scatter(x = ['2012', '2013', '2014', '2015', '2016', '2017'],\n",
    "                    y = [1412, 1493, 1114, 1212, 880, 649],\n",
    "                    mode = 'markers+lines',\n",
    "                    name = 'comunicação_científica')\n",
    "\n",
    "trace71 = go.Scatter(x = ['2012', '2013', '2014', '2015', '2016', '2017'],\n",
    "                    y = [1082, 762, 701, 727, 665, 546],\n",
    "                    mode = 'markers+lines',\n",
    "                    name = 'tecnologias_informação_comunicação')\n",
    "\n",
    "trace72 = go.Scatter(x = ['2012', '2013', '2014', '2015', '2016', '2017'],\n",
    "                    y = [963, 846, 834, 1222, 1314, 603],\n",
    "                    mode = 'markers+lines',\n",
    "                    name = 'fonte_dados_pesquisa')\n",
    "\n",
    "trace73 = go.Scatter(x = ['2012', '2013', '2014', '2015', '2016', '2017'],\n",
    "                    y = [668, 441, 330, 217, 432, 180],\n",
    "                    mode = 'markers+lines',\n",
    "                    name = 'instituição_ensino_superior')\n",
    "\n",
    "trace74 = go.Scatter(x = ['2012', '2013', '2014', '2015', '2016', '2017'],\n",
    "                    y = [152, 263, 311, 178, 177, 137],\n",
    "                    mode = 'markers+lines',\n",
    "                    name = 'web_ontology_language')\n",
    "\n",
    "trace75 = go.Scatter(x = ['2012', '2013', '2014', '2015', '2016', '2017'],\n",
    "                    y = [67, 284, 312, 661, 394, 371],\n",
    "                    mode = 'markers+lines',\n",
    "                    name = 'sistemas_organização_conhecimento')\n",
    "\n",
    "trace76 = go.Scatter(x = ['2012', '2013', '2014', '2015', '2016', '2017'],\n",
    "                    y = [0, 159, 114, 50, 0, 54],\n",
    "                    mode = 'markers+lines',\n",
    "                    name = 'processamento_linguagem_natural')\n",
    "\n",
    "trace77 = go.Scatter(x = ['2012', '2013', '2014', '2015', '2016', '2017'],\n",
    "                    y = [47, 66, 183, 49, 68, 63],\n",
    "                    mode = 'markers+lines',\n",
    "                    name = 'dados_informação_conhecimento')\n",
    "\n",
    "trace78 = go.Scatter(x = ['2012', '2013', '2014', '2015', '2016', '2017'],\n",
    "                    y = [0, 0, 0, 0, 0, 608],\n",
    "                    mode = 'markers+lines',\n",
    "                    name = 'big_data')\n",
    "\n",
    "trace79 = go.Scatter(x = ['2012', '2013', '2014', '2015', '2016', '2017'],\n",
    "                    y = [0, 0, 0, 0, 0, 1103],\n",
    "                    mode = 'markers+lines',\n",
    "                    name = 'corpus')\n",
    "\n",
    "trace80 = go.Scatter(x = ['2012', '2013', '2014', '2015', '2016', '2017'],\n",
    "                    y = [100, 78, 53, 69, 64, 55],\n",
    "                    mode = 'markers+lines',\n",
    "                    name = 'processo_comunicação_científica')\n",
    "\n",
    "data = [trace1, trace2, trace3, trace4, trace5, trace6, trace7, trace8, trace9, trace10, \n",
    "       trace11, trace12, trace13, trace14, trace15, trace16, trace17, trace18, trace19, trace20,\n",
    "       trace21, trace22, trace23, trace24, trace25, trace26, trace27, trace28, trace29, trace30, \n",
    "       trace31, trace32, trace33, trace34, trace35, trace36, trace37, trace38, trace39, trace40,\n",
    "       trace41, trace42, trace43, trace44, trace45, trace46, trace47, trace48, trace49, trace50,\n",
    "       trace51, trace52, trace53, trace54, trace55, trace56, trace57, trace58, trace59, trace60,\n",
    "       trace61, trace62, trace63, trace64, trace65, trace66, trace67, trace68, trace69, trace70,\n",
    "       trace71, trace72, trace73, trace74, trace75, trace76, trace77, trace78, trace79, trace80]\n",
    "\n",
    "layout = go.Layout(\n",
    "    title=go.layout.Title(\n",
    "        text='Frequência dos termos mais relavantes do corpora teses e dissertações',\n",
    "        xref='paper',\n",
    "        x=0\n",
    "    ),\n",
    "    xaxis=go.layout.XAxis(\n",
    "        title=go.layout.xaxis.Title(\n",
    "            text='Anos',\n",
    "            font=dict(\n",
    "                family='Courier New, monospace',\n",
    "                size=18,\n",
    "                color='#7f7f7f'\n",
    "            )\n",
    "        )\n",
    "    ),\n",
    "    yaxis=go.layout.YAxis(\n",
    "        title=go.layout.yaxis.Title(\n",
    "            text='Frequência',\n",
    "            font=dict(\n",
    "                family='Courier New, monospace',\n",
    "                size=18,\n",
    "                color='#7f7f7f'\n",
    "            )\n",
    "        )\n",
    "    )\n",
    ")\n",
    "\n",
    "fig = go.Figure(data=data, layout=layout)\n",
    "py.iplot(fig, filename='styling-names')\n"
   ]
  },
  {
   "cell_type": "code",
   "execution_count": null,
   "metadata": {},
   "outputs": [],
   "source": []
  }
 ],
 "metadata": {
  "kernelspec": {
   "display_name": "Python 3",
   "language": "python",
   "name": "python3"
  },
  "language_info": {
   "codemirror_mode": {
    "name": "ipython",
    "version": 3
   },
   "file_extension": ".py",
   "mimetype": "text/x-python",
   "name": "python",
   "nbconvert_exporter": "python",
   "pygments_lexer": "ipython3",
   "version": "3.7.3"
  }
 },
 "nbformat": 4,
 "nbformat_minor": 2
}
