{
 "cells": [
  {
   "cell_type": "markdown",
   "metadata": {},
   "source": [
    "# Gráfico de frequência de termos\n",
    "\n",
    "O gráfico apresenta os termos mais relevantes e suas respectivas frequências extraídos dos corpora constituídos de artigos completos e resumos expandidos."
   ]
  },
  {
   "cell_type": "code",
   "execution_count": 1,
   "metadata": {},
   "outputs": [
    {
     "data": {
      "text/html": [
       "        <script type=\"text/javascript\">\n",
       "        window.PlotlyConfig = {MathJaxConfig: 'local'};\n",
       "        if (window.MathJax) {MathJax.Hub.Config({SVG: {font: \"STIX-Web\"}});}\n",
       "        if (typeof require !== 'undefined') {\n",
       "        require.undef(\"plotly\");\n",
       "        requirejs.config({\n",
       "            paths: {\n",
       "                'plotly': ['https://cdn.plot.ly/plotly-latest.min']\n",
       "            }\n",
       "        });\n",
       "        require(['plotly'], function(Plotly) {\n",
       "            window._Plotly = Plotly;\n",
       "        });\n",
       "        }\n",
       "        </script>\n",
       "        "
      ]
     },
     "metadata": {},
     "output_type": "display_data"
    }
   ],
   "source": [
    "import plotly \n",
    "import plotly.graph_objs as go\n",
    "import plotly.offline as py\n",
    "py.init_notebook_mode(connected=True)\n",
    "from plotly.offline import download_plotlyjs, init_notebook_mode, plot, iplot"
   ]
  },
  {
   "cell_type": "code",
   "execution_count": 2,
   "metadata": {},
   "outputs": [
    {
     "data": {
      "application/vnd.plotly.v1+json": {
       "config": {
        "linkText": "Export to plot.ly",
        "plotlyServerURL": "https://plot.ly",
        "showLink": false
       },
       "data": [
        {
         "mode": "markers+lines",
         "name": "informação",
         "type": "scatter",
         "x": [
          "2012",
          "2013",
          "2014",
          "2015",
          "2016",
          "2017",
          "2018"
         ],
         "y": [
          19056,
          17936,
          20495,
          17934,
          22559,
          23111,
          27146
         ]
        },
        {
         "mode": "markers+lines",
         "name": "pesquisa",
         "type": "scatter",
         "x": [
          "2012",
          "2013",
          "2014",
          "2015",
          "2016",
          "2017",
          "2018"
         ],
         "y": [
          4683,
          4982,
          5772,
          5044,
          6547,
          7415,
          8355
         ]
        },
        {
         "mode": "markers+lines",
         "name": "conhecimento",
         "type": "scatter",
         "x": [
          "2012",
          "2013",
          "2014",
          "2015",
          "2016",
          "2017",
          "2018"
         ],
         "y": [
          4207,
          4272,
          4657,
          4580,
          5893,
          7135,
          6720
         ]
        },
        {
         "mode": "markers+lines",
         "name": "dados",
         "type": "scatter",
         "x": [
          "2012",
          "2013",
          "2014",
          "2015",
          "2016",
          "2017",
          "2018"
         ],
         "y": [
          2824,
          2896,
          3682,
          3019,
          4028,
          5606,
          5824
         ]
        },
        {
         "mode": "markers+lines",
         "name": "forma",
         "type": "scatter",
         "x": [
          "2012",
          "2013",
          "2014",
          "2015",
          "2016",
          "2017",
          "2018"
         ],
         "y": [
          2713,
          2556,
          2838,
          2365,
          3081,
          3291,
          3488
         ]
        },
        {
         "mode": "markers+lines",
         "name": "biblioteca",
         "type": "scatter",
         "x": [
          "2012",
          "2013",
          "2014",
          "2015",
          "2016",
          "2017",
          "2018"
         ],
         "y": [
          2256,
          1922,
          2568,
          2372,
          3228,
          3477,
          3505
         ]
        },
        {
         "mode": "markers+lines",
         "name": "processo",
         "type": "scatter",
         "x": [
          "2012",
          "2013",
          "2014",
          "2015",
          "2016",
          "2017",
          "2018"
         ],
         "y": [
          2648,
          2348,
          2798,
          2361,
          2888,
          2922,
          1698
         ]
        },
        {
         "mode": "markers+lines",
         "name": "social",
         "type": "scatter",
         "x": [
          "2012",
          "2013",
          "2014",
          "2015",
          "2016",
          "2017",
          "2018"
         ],
         "y": [
          2588,
          2413,
          2689,
          2221,
          2996,
          2967,
          3349
         ]
        },
        {
         "mode": "markers+lines",
         "name": "comunicação",
         "type": "scatter",
         "x": [
          "2012",
          "2013",
          "2014",
          "2015",
          "2016",
          "2017",
          "2018"
         ],
         "y": [
          2567,
          2014,
          2238,
          1813,
          3031,
          2467,
          2644
         ]
        },
        {
         "mode": "markers+lines",
         "name": "uso",
         "type": "scatter",
         "x": [
          "2012",
          "2013",
          "2014",
          "2015",
          "2016",
          "2017",
          "2018"
         ],
         "y": [
          2292,
          2002,
          2393,
          1933,
          2653,
          2651,
          2784
         ]
        },
        {
         "mode": "markers+lines",
         "name": "organização",
         "type": "scatter",
         "x": [
          "2012",
          "2013",
          "2014",
          "2015",
          "2016",
          "2017",
          "2018"
         ],
         "y": [
          1872,
          1923,
          2451,
          1960,
          2504,
          2660,
          2713
         ]
        },
        {
         "mode": "markers+lines",
         "name": "museu",
         "type": "scatter",
         "x": [
          "2012",
          "2013",
          "2014",
          "2015",
          "2016",
          "2017",
          "2018"
         ],
         "y": [
          2228,
          2039,
          1456,
          2197,
          1634,
          1695,
          2447
         ]
        },
        {
         "mode": "markers+lines",
         "name": "produção",
         "type": "scatter",
         "x": [
          "2012",
          "2013",
          "2014",
          "2015",
          "2016",
          "2017",
          "2018"
         ],
         "y": [
          2176,
          1775,
          2360,
          1969,
          2718,
          2757,
          2750
         ]
        },
        {
         "mode": "markers+lines",
         "name": "memória",
         "type": "scatter",
         "x": [
          "2012",
          "2013",
          "2014",
          "2015",
          "2016",
          "2017",
          "2018"
         ],
         "y": [
          2106,
          1715,
          1247,
          1713,
          3003,
          1614,
          2524
         ]
        },
        {
         "mode": "markers+lines",
         "name": "documentos",
         "type": "scatter",
         "x": [
          "2012",
          "2013",
          "2014",
          "2015",
          "2016",
          "2017",
          "2018"
         ],
         "y": [
          1899,
          1909,
          2357,
          2019,
          2540,
          2758,
          3157
         ]
        },
        {
         "mode": "markers+lines",
         "name": "sociedade",
         "type": "scatter",
         "x": [
          "2012",
          "2013",
          "2014",
          "2015",
          "2016",
          "2017",
          "2018"
         ],
         "y": [
          1677,
          1642,
          1602,
          1434,
          1689,
          1922,
          2160
         ]
        },
        {
         "mode": "markers+lines",
         "name": "cultura",
         "type": "scatter",
         "x": [
          "2012",
          "2013",
          "2014",
          "2015",
          "2016",
          "2017",
          "2018"
         ],
         "y": [
          1565,
          1097,
          1428,
          1082,
          1675,
          1572,
          1782
         ]
        },
        {
         "mode": "markers+lines",
         "name": "tecnologia",
         "type": "scatter",
         "x": [
          "2012",
          "2013",
          "2014",
          "2015",
          "2016",
          "2017",
          "2018"
         ],
         "y": [
          1251,
          1360,
          1378,
          1378,
          1840,
          1915,
          2270
         ]
        },
        {
         "mode": "markers+lines",
         "name": "gestão",
         "type": "scatter",
         "x": [
          "2012",
          "2013",
          "2014",
          "2015",
          "2016",
          "2017",
          "2018"
         ],
         "y": [
          1226,
          1504,
          1825,
          2053,
          2421,
          2916,
          3197
         ]
        },
        {
         "mode": "markers+lines",
         "name": "patrimônio",
         "type": "scatter",
         "x": [
          "2012",
          "2013",
          "2014",
          "2015",
          "2016",
          "2017",
          "2018"
         ],
         "y": [
          815,
          695,
          763,
          784,
          967,
          864,
          1099
         ]
        },
        {
         "mode": "markers+lines",
         "name": "classificação",
         "type": "scatter",
         "x": [
          "2012",
          "2013",
          "2014",
          "2015",
          "2016",
          "2017",
          "2018"
         ],
         "y": [
          813,
          709,
          886,
          542,
          797,
          1087,
          1887
         ]
        },
        {
         "mode": "markers+lines",
         "name": "biblioteconomia",
         "type": "scatter",
         "x": [
          "2012",
          "2013",
          "2014",
          "2015",
          "2016",
          "2017",
          "2018"
         ],
         "y": [
          694,
          789,
          770,
          714,
          1030,
          808,
          999
         ]
        },
        {
         "mode": "markers+lines",
         "name": "ontologias",
         "type": "scatter",
         "x": [
          "2012",
          "2013",
          "2014",
          "2015",
          "2016",
          "2017",
          "2018"
         ],
         "y": [
          314,
          452,
          484,
          264,
          379,
          325,
          249
         ]
        },
        {
         "mode": "markers+lines",
         "name": "arquivologia",
         "type": "scatter",
         "x": [
          "2012",
          "2013",
          "2014",
          "2015",
          "2016",
          "2017",
          "2018"
         ],
         "y": [
          370,
          416,
          357,
          220,
          400,
          322,
          548
         ]
        },
        {
         "mode": "markers+lines",
         "name": "museologia",
         "type": "scatter",
         "x": [
          "2012",
          "2013",
          "2014",
          "2015",
          "2016",
          "2017",
          "2018"
         ],
         "y": [
          335,
          466,
          354,
          346,
          349,
          359,
          725
         ]
        },
        {
         "mode": "markers+lines",
         "name": "interdisciplinar",
         "type": "scatter",
         "x": [
          "2012",
          "2013",
          "2014",
          "2015",
          "2016",
          "2017",
          "2018"
         ],
         "y": [
          235,
          210,
          184,
          161,
          229,
          277,
          284
         ]
        },
        {
         "mode": "markers+lines",
         "name": "interoperabilidade",
         "type": "scatter",
         "x": [
          "2012",
          "2013",
          "2014",
          "2015",
          "2016",
          "2017",
          "2018"
         ],
         "y": [
          239,
          266,
          0,
          162,
          219,
          226,
          0
         ]
        },
        {
         "mode": "markers+lines",
         "name": "periódicos",
         "type": "scatter",
         "x": [
          "2012",
          "2013",
          "2014",
          "2015",
          "2016",
          "2017",
          "2018"
         ],
         "y": [
          1154,
          693,
          1008,
          898,
          995,
          962,
          1460
         ]
        },
        {
         "mode": "markers+lines",
         "name": "usabilidade",
         "type": "scatter",
         "x": [
          "2012",
          "2013",
          "2014",
          "2015",
          "2016",
          "2017",
          "2018"
         ],
         "y": [
          277,
          210,
          0,
          0,
          187,
          0,
          0
         ]
        },
        {
         "mode": "markers+lines",
         "name": "representação_conhecimento",
         "type": "scatter",
         "x": [
          "2012",
          "2013",
          "2014",
          "2015",
          "2016",
          "2017",
          "2018"
         ],
         "y": [
          100,
          145,
          159,
          157,
          176,
          332,
          204
         ]
        },
        {
         "mode": "markers+lines",
         "name": "conhecimento_científico",
         "type": "scatter",
         "x": [
          "2012",
          "2013",
          "2014",
          "2015",
          "2016",
          "2017",
          "2018"
         ],
         "y": [
          125,
          205,
          118,
          124,
          147,
          149,
          196
         ]
        },
        {
         "mode": "markers+lines",
         "name": "redes_sociais",
         "type": "scatter",
         "x": [
          "2012",
          "2013",
          "2014",
          "2015",
          "2016",
          "2017",
          "2018"
         ],
         "y": [
          334,
          427,
          486,
          304,
          283,
          394,
          409
         ]
        },
        {
         "mode": "markers+lines",
         "name": "recuperação_informações",
         "type": "scatter",
         "x": [
          "2012",
          "2013",
          "2014",
          "2015",
          "2016",
          "2017",
          "2018"
         ],
         "y": [
          497,
          431,
          622,
          716,
          564,
          632,
          559
         ]
        },
        {
         "mode": "markers+lines",
         "name": "sistemas_informação",
         "type": "scatter",
         "x": [
          "2012",
          "2013",
          "2014",
          "2015",
          "2016",
          "2017",
          "2018"
         ],
         "y": [
          297,
          216,
          244,
          198,
          199,
          256,
          374
         ]
        },
        {
         "mode": "markers+lines",
         "name": "comunicação_científica",
         "type": "scatter",
         "x": [
          "2012",
          "2013",
          "2014",
          "2015",
          "2016",
          "2017",
          "2018"
         ],
         "y": [
          292,
          174,
          276,
          175,
          302,
          224,
          329
         ]
        },
        {
         "mode": "markers+lines",
         "name": "gestão_informação",
         "type": "scatter",
         "x": [
          "2012",
          "2013",
          "2014",
          "2015",
          "2016",
          "2017",
          "2018"
         ],
         "y": [
          277,
          377,
          487,
          477,
          389,
          510,
          549
         ]
        },
        {
         "mode": "markers+lines",
         "name": "tecnologias_informação",
         "type": "scatter",
         "x": [
          "2012",
          "2013",
          "2014",
          "2015",
          "2016",
          "2017",
          "2018"
         ],
         "y": [
          265,
          234,
          240,
          210,
          239,
          266,
          253
         ]
        },
        {
         "mode": "markers+lines",
         "name": "fontes_informação",
         "type": "scatter",
         "x": [
          "2012",
          "2013",
          "2014",
          "2015",
          "2016",
          "2017",
          "2018"
         ],
         "y": [
          237,
          270,
          346,
          295,
          242,
          300,
          308
         ]
        },
        {
         "mode": "markers+lines",
         "name": "bases_dados",
         "type": "scatter",
         "x": [
          "2012",
          "2013",
          "2014",
          "2015",
          "2016",
          "2017",
          "2018"
         ],
         "y": [
          230,
          199,
          286,
          210,
          295,
          289,
          304
         ]
        },
        {
         "mode": "markers+lines",
         "name": "tomada_decisão",
         "type": "scatter",
         "x": [
          "2012",
          "2013",
          "2014",
          "2015",
          "2016",
          "2017",
          "2018"
         ],
         "y": [
          221,
          242,
          201,
          138,
          142,
          242,
          195
         ]
        },
        {
         "mode": "markers+lines",
         "name": "coleta_dados",
         "type": "scatter",
         "x": [
          "2012",
          "2013",
          "2014",
          "2015",
          "2016",
          "2017",
          "2018"
         ],
         "y": [
          201,
          209,
          276,
          205,
          262,
          302,
          301
         ]
        },
        {
         "mode": "markers+lines",
         "name": "competência_informacional",
         "type": "scatter",
         "x": [
          "2012",
          "2013",
          "2014",
          "2015",
          "2016",
          "2017",
          "2018"
         ],
         "y": [
          246,
          191,
          289,
          232,
          74,
          195,
          206
         ]
        },
        {
         "mode": "markers+lines",
         "name": "organização_informação",
         "type": "scatter",
         "x": [
          "2012",
          "2013",
          "2014",
          "2015",
          "2016",
          "2017",
          "2018"
         ],
         "y": [
          183,
          288,
          275,
          100,
          313,
          213,
          252
         ]
        },
        {
         "mode": "markers+lines",
         "name": "gestão_conhecimento",
         "type": "scatter",
         "x": [
          "2012",
          "2013",
          "2014",
          "2015",
          "2016",
          "2017",
          "2018"
         ],
         "y": [
          182,
          201,
          192,
          253,
          350,
          540,
          569
         ]
        },
        {
         "mode": "markers+lines",
         "name": "patrimônio_cultural",
         "type": "scatter",
         "x": [
          "2012",
          "2013",
          "2014",
          "2015",
          "2016",
          "2017",
          "2018"
         ],
         "y": [
          179,
          161,
          184,
          154,
          264,
          266,
          390
         ]
        },
        {
         "mode": "markers+lines",
         "name": "sociedade_informação",
         "type": "scatter",
         "x": [
          "2012",
          "2013",
          "2014",
          "2015",
          "2016",
          "2017",
          "2018"
         ],
         "y": [
          174,
          149,
          192,
          193,
          176,
          183,
          255
         ]
        },
        {
         "mode": "markers+lines",
         "name": "inclusão_digital",
         "type": "scatter",
         "x": [
          "2012",
          "2013",
          "2014",
          "2015",
          "2016",
          "2017",
          "2018"
         ],
         "y": [
          174,
          76,
          152,
          115,
          31,
          183,
          0
         ]
        },
        {
         "mode": "markers+lines",
         "name": "organização_conhecimento",
         "type": "scatter",
         "x": [
          "2012",
          "2013",
          "2014",
          "2015",
          "2016",
          "2017",
          "2018"
         ],
         "y": [
          173,
          255,
          387,
          372,
          495,
          610,
          525
         ]
        },
        {
         "mode": "markers+lines",
         "name": "novas_tecnologias",
         "type": "scatter",
         "x": [
          "2012",
          "2013",
          "2014",
          "2015",
          "2016",
          "2017",
          "2018"
         ],
         "y": [
          165,
          80,
          117,
          88,
          143,
          96,
          110
         ]
        },
        {
         "mode": "markers+lines",
         "name": "biblioteca_digitais",
         "type": "scatter",
         "x": [
          "2012",
          "2013",
          "2014",
          "2015",
          "2016",
          "2017",
          "2018"
         ],
         "y": [
          162,
          79,
          47,
          56,
          53,
          46,
          52
         ]
        },
        {
         "mode": "markers+lines",
         "name": "busca_informação",
         "type": "scatter",
         "x": [
          "2012",
          "2013",
          "2014",
          "2015",
          "2016",
          "2017",
          "2018"
         ],
         "y": [
          160,
          131,
          172,
          192,
          119,
          167,
          144
         ]
        },
        {
         "mode": "markers+lines",
         "name": "memória_social",
         "type": "scatter",
         "x": [
          "2012",
          "2013",
          "2014",
          "2015",
          "2016",
          "2017",
          "2018"
         ],
         "y": [
          140,
          94,
          96,
          99,
          134,
          59,
          113
         ]
        },
        {
         "mode": "markers+lines",
         "name": "tecnologia_informação",
         "type": "scatter",
         "x": [
          "2012",
          "2013",
          "2014",
          "2015",
          "2016",
          "2017",
          "2018"
         ],
         "y": [
          137,
          126,
          164,
          104,
          134,
          147,
          206
         ]
        },
        {
         "mode": "markers+lines",
         "name": "fluxo_informação",
         "type": "scatter",
         "x": [
          "2012",
          "2013",
          "2014",
          "2015",
          "2016",
          "2017",
          "2018"
         ],
         "y": [
          105,
          92,
          140,
          66,
          80,
          91,
          96
         ]
        },
        {
         "mode": "markers+lines",
         "name": "memória_coletiva",
         "type": "scatter",
         "x": [
          "2012",
          "2013",
          "2014",
          "2015",
          "2016",
          "2017",
          "2018"
         ],
         "y": [
          104,
          94,
          63,
          83,
          165,
          103,
          122
         ]
        },
        {
         "mode": "markers+lines",
         "name": "ambientes_informacionais",
         "type": "scatter",
         "x": [
          "2012",
          "2013",
          "2014",
          "2015",
          "2016",
          "2017",
          "2018"
         ],
         "y": [
          100,
          45,
          73,
          57,
          130,
          94,
          119
         ]
        },
        {
         "mode": "markers+lines",
         "name": "preservação_digital",
         "type": "scatter",
         "x": [
          "2012",
          "2013",
          "2014",
          "2015",
          "2016",
          "2017",
          "2018"
         ],
         "y": [
          99,
          95,
          31,
          166,
          196,
          69,
          190
         ]
        },
        {
         "mode": "markers+lines",
         "name": "web_semântica",
         "type": "scatter",
         "x": [
          "2012",
          "2013",
          "2014",
          "2015",
          "2016",
          "2017",
          "2018"
         ],
         "y": [
          132,
          169,
          151,
          124,
          193,
          196,
          106
         ]
        },
        {
         "mode": "markers+lines",
         "name": "necessidades_informacionais",
         "type": "scatter",
         "x": [
          "2012",
          "2013",
          "2014",
          "2015",
          "2016",
          "2017",
          "2018"
         ],
         "y": [
          84,
          111,
          109,
          97,
          131,
          108,
          152
         ]
        },
        {
         "mode": "markers+lines",
         "name": "qualidade_informação",
         "type": "scatter",
         "x": [
          "2012",
          "2013",
          "2014",
          "2015",
          "2016",
          "2017",
          "2018"
         ],
         "y": [
          114,
          64,
          45,
          48,
          30,
          92,
          117
         ]
        },
        {
         "mode": "markers+lines",
         "name": "arquitetura_informação",
         "type": "scatter",
         "x": [
          "2012",
          "2013",
          "2014",
          "2015",
          "2016",
          "2017",
          "2018"
         ],
         "y": [
          161,
          167,
          237,
          108,
          324,
          165,
          283
         ]
        },
        {
         "mode": "markers+lines",
         "name": "estudos_usuários",
         "type": "scatter",
         "x": [
          "2012",
          "2013",
          "2014",
          "2015",
          "2016",
          "2017",
          "2018"
         ],
         "y": [
          97,
          107,
          61,
          54,
          60,
          72,
          60
         ]
        },
        {
         "mode": "markers+lines",
         "name": "profissional_informação",
         "type": "scatter",
         "x": [
          "2012",
          "2013",
          "2014",
          "2015",
          "2016",
          "2017",
          "2018"
         ],
         "y": [
          136,
          103,
          152,
          114,
          114,
          146,
          149
         ]
        },
        {
         "mode": "markers+lines",
         "name": "repositórios_institucionais",
         "type": "scatter",
         "x": [
          "2012",
          "2013",
          "2014",
          "2015",
          "2016",
          "2017",
          "2018"
         ],
         "y": [
          119,
          103,
          46,
          99,
          83,
          113,
          146
         ]
        },
        {
         "mode": "markers+lines",
         "name": "linked_data",
         "type": "scatter",
         "x": [
          "2012",
          "2013",
          "2014",
          "2015",
          "2016",
          "2017",
          "2018"
         ],
         "y": [
          72,
          46,
          62,
          39,
          74,
          214,
          134
         ]
        },
        {
         "mode": "markers+lines",
         "name": "ambientes_digitais",
         "type": "scatter",
         "x": [
          "2012",
          "2013",
          "2014",
          "2015",
          "2016",
          "2017",
          "2018"
         ],
         "y": [
          88,
          44,
          32,
          39,
          75,
          54,
          52
         ]
        },
        {
         "mode": "markers+lines",
         "name": "sociedade_conhecimento",
         "type": "scatter",
         "x": [
          "2012",
          "2013",
          "2014",
          "2015",
          "2016",
          "2017",
          "2018"
         ],
         "y": [
          32,
          43,
          0,
          30,
          0,
          0,
          0
         ]
        },
        {
         "mode": "markers+lines",
         "name": "ciclo_vida",
         "type": "scatter",
         "x": [
          "2012",
          "2013",
          "2014",
          "2015",
          "2016",
          "2017",
          "2018"
         ],
         "y": [
          0,
          113,
          56,
          60,
          110,
          121,
          113
         ]
        },
        {
         "mode": "markers+lines",
         "name": "gestão_documentos",
         "type": "scatter",
         "x": [
          "2012",
          "2013",
          "2014",
          "2015",
          "2016",
          "2017",
          "2018"
         ],
         "y": [
          62,
          91,
          201,
          289,
          117,
          368,
          286
         ]
        },
        {
         "mode": "markers+lines",
         "name": "dublin_core",
         "type": "scatter",
         "x": [
          "2012",
          "2013",
          "2014",
          "2015",
          "2016",
          "2017",
          "2018"
         ],
         "y": [
          106,
          111,
          54,
          47,
          81,
          123,
          59
         ]
        },
        {
         "mode": "markers+lines",
         "name": "uso_informação",
         "type": "scatter",
         "x": [
          "2012",
          "2013",
          "2014",
          "2015",
          "2016",
          "2017",
          "2018"
         ],
         "y": [
          333,
          316,
          328,
          325,
          312,
          376,
          405
         ]
        },
        {
         "mode": "markers+lines",
         "name": "fake_news",
         "type": "scatter",
         "x": [
          "2012",
          "2013",
          "2014",
          "2015",
          "2016",
          "2017",
          "2018"
         ],
         "y": [
          0,
          0,
          0,
          0,
          0,
          0,
          194
         ]
        },
        {
         "mode": "markers+lines",
         "name": "tecnologias_informação_comunicação",
         "type": "scatter",
         "x": [
          "2012",
          "2013",
          "2014",
          "2015",
          "2016",
          "2017",
          "2018"
         ],
         "y": [
          168,
          145,
          152,
          136,
          133,
          182,
          171
         ]
        },
        {
         "mode": "markers+lines",
         "name": "gestão_informação_conhecimento",
         "type": "scatter",
         "x": [
          "2012",
          "2013",
          "2014",
          "2015",
          "2016",
          "2017",
          "2018"
         ],
         "y": [
          114,
          106,
          60,
          145,
          104,
          126,
          142
         ]
        },
        {
         "mode": "markers+lines",
         "name": "fonte_dados_pesquisa",
         "type": "scatter",
         "x": [
          "2012",
          "2013",
          "2014",
          "2015",
          "2016",
          "2017",
          "2018"
         ],
         "y": [
          87,
          125,
          195,
          145,
          91,
          248,
          242
         ]
        },
        {
         "mode": "markers+lines",
         "name": "organização_representação_conhecimento",
         "type": "scatter",
         "x": [
          "2012",
          "2013",
          "2014",
          "2015",
          "2016",
          "2017",
          "2018"
         ],
         "y": [
          57,
          85,
          73,
          108,
          88,
          205,
          134
         ]
        },
        {
         "mode": "markers+lines",
         "name": "world_wide_web",
         "type": "scatter",
         "x": [
          "2012",
          "2013",
          "2014",
          "2015",
          "2016",
          "2017",
          "2018"
         ],
         "y": [
          41,
          19,
          44,
          37,
          35,
          37,
          29
         ]
        },
        {
         "mode": "markers+lines",
         "name": "circulação_apropriação_informação",
         "type": "scatter",
         "x": [
          "2012",
          "2013",
          "2014",
          "2015",
          "2016",
          "2017",
          "2018"
         ],
         "y": [
          40,
          44,
          11,
          31,
          0,
          55,
          65
         ]
        },
        {
         "mode": "markers+lines",
         "name": "dados_informação_conhecimento",
         "type": "scatter",
         "x": [
          "2012",
          "2013",
          "2014",
          "2015",
          "2016",
          "2017",
          "2018"
         ],
         "y": [
          20,
          0,
          17,
          0,
          0,
          13,
          0
         ]
        },
        {
         "mode": "markers+lines",
         "name": "corpus",
         "type": "scatter",
         "x": [
          "2012",
          "2013",
          "2014",
          "2015",
          "2016",
          "2017",
          "2018"
         ],
         "y": [
          220,
          0,
          190,
          171,
          0,
          245,
          234
         ]
        },
        {
         "mode": "markers+lines",
         "name": "big_data",
         "type": "scatter",
         "x": [
          "2012",
          "2013",
          "2014",
          "2015",
          "2016",
          "2017",
          "2018"
         ],
         "y": [
          0,
          0,
          203,
          28,
          76,
          391,
          100
         ]
        },
        {
         "mode": "markers+lines",
         "name": "machine_learning",
         "type": "scatter",
         "x": [
          "2012",
          "2013",
          "2014",
          "2015",
          "2016",
          "2017",
          "2018"
         ],
         "y": [
          0,
          0,
          0,
          0,
          0,
          0,
          37
         ]
        },
        {
         "mode": "markers+lines",
         "name": "processo_comunicação_científica",
         "type": "scatter",
         "x": [
          "2012",
          "2013",
          "2014",
          "2015",
          "2016",
          "2017",
          "2018"
         ],
         "y": [
          0,
          0,
          0,
          9,
          0,
          0,
          16
         ]
        },
        {
         "mode": "markers+lines",
         "name": "processamento_linguagem_natural",
         "type": "scatter",
         "x": [
          "2012",
          "2013",
          "2014",
          "2015",
          "2016",
          "2017",
          "2018"
         ],
         "y": [
          11,
          0,
          0,
          13,
          0,
          0,
          16
         ]
        }
       ],
       "layout": {
        "template": {
         "data": {
          "bar": [
           {
            "error_x": {
             "color": "#2a3f5f"
            },
            "error_y": {
             "color": "#2a3f5f"
            },
            "marker": {
             "line": {
              "color": "#E5ECF6",
              "width": 0.5
             }
            },
            "type": "bar"
           }
          ],
          "barpolar": [
           {
            "marker": {
             "line": {
              "color": "#E5ECF6",
              "width": 0.5
             }
            },
            "type": "barpolar"
           }
          ],
          "carpet": [
           {
            "aaxis": {
             "endlinecolor": "#2a3f5f",
             "gridcolor": "white",
             "linecolor": "white",
             "minorgridcolor": "white",
             "startlinecolor": "#2a3f5f"
            },
            "baxis": {
             "endlinecolor": "#2a3f5f",
             "gridcolor": "white",
             "linecolor": "white",
             "minorgridcolor": "white",
             "startlinecolor": "#2a3f5f"
            },
            "type": "carpet"
           }
          ],
          "choropleth": [
           {
            "colorbar": {
             "outlinewidth": 0,
             "ticks": ""
            },
            "type": "choropleth"
           }
          ],
          "contour": [
           {
            "colorbar": {
             "outlinewidth": 0,
             "ticks": ""
            },
            "colorscale": [
             [
              0,
              "#0d0887"
             ],
             [
              0.1111111111111111,
              "#46039f"
             ],
             [
              0.2222222222222222,
              "#7201a8"
             ],
             [
              0.3333333333333333,
              "#9c179e"
             ],
             [
              0.4444444444444444,
              "#bd3786"
             ],
             [
              0.5555555555555556,
              "#d8576b"
             ],
             [
              0.6666666666666666,
              "#ed7953"
             ],
             [
              0.7777777777777778,
              "#fb9f3a"
             ],
             [
              0.8888888888888888,
              "#fdca26"
             ],
             [
              1,
              "#f0f921"
             ]
            ],
            "type": "contour"
           }
          ],
          "contourcarpet": [
           {
            "colorbar": {
             "outlinewidth": 0,
             "ticks": ""
            },
            "type": "contourcarpet"
           }
          ],
          "heatmap": [
           {
            "colorbar": {
             "outlinewidth": 0,
             "ticks": ""
            },
            "colorscale": [
             [
              0,
              "#0d0887"
             ],
             [
              0.1111111111111111,
              "#46039f"
             ],
             [
              0.2222222222222222,
              "#7201a8"
             ],
             [
              0.3333333333333333,
              "#9c179e"
             ],
             [
              0.4444444444444444,
              "#bd3786"
             ],
             [
              0.5555555555555556,
              "#d8576b"
             ],
             [
              0.6666666666666666,
              "#ed7953"
             ],
             [
              0.7777777777777778,
              "#fb9f3a"
             ],
             [
              0.8888888888888888,
              "#fdca26"
             ],
             [
              1,
              "#f0f921"
             ]
            ],
            "type": "heatmap"
           }
          ],
          "heatmapgl": [
           {
            "colorbar": {
             "outlinewidth": 0,
             "ticks": ""
            },
            "colorscale": [
             [
              0,
              "#0d0887"
             ],
             [
              0.1111111111111111,
              "#46039f"
             ],
             [
              0.2222222222222222,
              "#7201a8"
             ],
             [
              0.3333333333333333,
              "#9c179e"
             ],
             [
              0.4444444444444444,
              "#bd3786"
             ],
             [
              0.5555555555555556,
              "#d8576b"
             ],
             [
              0.6666666666666666,
              "#ed7953"
             ],
             [
              0.7777777777777778,
              "#fb9f3a"
             ],
             [
              0.8888888888888888,
              "#fdca26"
             ],
             [
              1,
              "#f0f921"
             ]
            ],
            "type": "heatmapgl"
           }
          ],
          "histogram": [
           {
            "marker": {
             "colorbar": {
              "outlinewidth": 0,
              "ticks": ""
             }
            },
            "type": "histogram"
           }
          ],
          "histogram2d": [
           {
            "colorbar": {
             "outlinewidth": 0,
             "ticks": ""
            },
            "colorscale": [
             [
              0,
              "#0d0887"
             ],
             [
              0.1111111111111111,
              "#46039f"
             ],
             [
              0.2222222222222222,
              "#7201a8"
             ],
             [
              0.3333333333333333,
              "#9c179e"
             ],
             [
              0.4444444444444444,
              "#bd3786"
             ],
             [
              0.5555555555555556,
              "#d8576b"
             ],
             [
              0.6666666666666666,
              "#ed7953"
             ],
             [
              0.7777777777777778,
              "#fb9f3a"
             ],
             [
              0.8888888888888888,
              "#fdca26"
             ],
             [
              1,
              "#f0f921"
             ]
            ],
            "type": "histogram2d"
           }
          ],
          "histogram2dcontour": [
           {
            "colorbar": {
             "outlinewidth": 0,
             "ticks": ""
            },
            "colorscale": [
             [
              0,
              "#0d0887"
             ],
             [
              0.1111111111111111,
              "#46039f"
             ],
             [
              0.2222222222222222,
              "#7201a8"
             ],
             [
              0.3333333333333333,
              "#9c179e"
             ],
             [
              0.4444444444444444,
              "#bd3786"
             ],
             [
              0.5555555555555556,
              "#d8576b"
             ],
             [
              0.6666666666666666,
              "#ed7953"
             ],
             [
              0.7777777777777778,
              "#fb9f3a"
             ],
             [
              0.8888888888888888,
              "#fdca26"
             ],
             [
              1,
              "#f0f921"
             ]
            ],
            "type": "histogram2dcontour"
           }
          ],
          "mesh3d": [
           {
            "colorbar": {
             "outlinewidth": 0,
             "ticks": ""
            },
            "type": "mesh3d"
           }
          ],
          "parcoords": [
           {
            "line": {
             "colorbar": {
              "outlinewidth": 0,
              "ticks": ""
             }
            },
            "type": "parcoords"
           }
          ],
          "pie": [
           {
            "automargin": true,
            "type": "pie"
           }
          ],
          "scatter": [
           {
            "marker": {
             "colorbar": {
              "outlinewidth": 0,
              "ticks": ""
             }
            },
            "type": "scatter"
           }
          ],
          "scatter3d": [
           {
            "line": {
             "colorbar": {
              "outlinewidth": 0,
              "ticks": ""
             }
            },
            "marker": {
             "colorbar": {
              "outlinewidth": 0,
              "ticks": ""
             }
            },
            "type": "scatter3d"
           }
          ],
          "scattercarpet": [
           {
            "marker": {
             "colorbar": {
              "outlinewidth": 0,
              "ticks": ""
             }
            },
            "type": "scattercarpet"
           }
          ],
          "scattergeo": [
           {
            "marker": {
             "colorbar": {
              "outlinewidth": 0,
              "ticks": ""
             }
            },
            "type": "scattergeo"
           }
          ],
          "scattergl": [
           {
            "marker": {
             "colorbar": {
              "outlinewidth": 0,
              "ticks": ""
             }
            },
            "type": "scattergl"
           }
          ],
          "scattermapbox": [
           {
            "marker": {
             "colorbar": {
              "outlinewidth": 0,
              "ticks": ""
             }
            },
            "type": "scattermapbox"
           }
          ],
          "scatterpolar": [
           {
            "marker": {
             "colorbar": {
              "outlinewidth": 0,
              "ticks": ""
             }
            },
            "type": "scatterpolar"
           }
          ],
          "scatterpolargl": [
           {
            "marker": {
             "colorbar": {
              "outlinewidth": 0,
              "ticks": ""
             }
            },
            "type": "scatterpolargl"
           }
          ],
          "scatterternary": [
           {
            "marker": {
             "colorbar": {
              "outlinewidth": 0,
              "ticks": ""
             }
            },
            "type": "scatterternary"
           }
          ],
          "surface": [
           {
            "colorbar": {
             "outlinewidth": 0,
             "ticks": ""
            },
            "colorscale": [
             [
              0,
              "#0d0887"
             ],
             [
              0.1111111111111111,
              "#46039f"
             ],
             [
              0.2222222222222222,
              "#7201a8"
             ],
             [
              0.3333333333333333,
              "#9c179e"
             ],
             [
              0.4444444444444444,
              "#bd3786"
             ],
             [
              0.5555555555555556,
              "#d8576b"
             ],
             [
              0.6666666666666666,
              "#ed7953"
             ],
             [
              0.7777777777777778,
              "#fb9f3a"
             ],
             [
              0.8888888888888888,
              "#fdca26"
             ],
             [
              1,
              "#f0f921"
             ]
            ],
            "type": "surface"
           }
          ],
          "table": [
           {
            "cells": {
             "fill": {
              "color": "#EBF0F8"
             },
             "line": {
              "color": "white"
             }
            },
            "header": {
             "fill": {
              "color": "#C8D4E3"
             },
             "line": {
              "color": "white"
             }
            },
            "type": "table"
           }
          ]
         },
         "layout": {
          "annotationdefaults": {
           "arrowcolor": "#2a3f5f",
           "arrowhead": 0,
           "arrowwidth": 1
          },
          "coloraxis": {
           "colorbar": {
            "outlinewidth": 0,
            "ticks": ""
           }
          },
          "colorscale": {
           "diverging": [
            [
             0,
             "#8e0152"
            ],
            [
             0.1,
             "#c51b7d"
            ],
            [
             0.2,
             "#de77ae"
            ],
            [
             0.3,
             "#f1b6da"
            ],
            [
             0.4,
             "#fde0ef"
            ],
            [
             0.5,
             "#f7f7f7"
            ],
            [
             0.6,
             "#e6f5d0"
            ],
            [
             0.7,
             "#b8e186"
            ],
            [
             0.8,
             "#7fbc41"
            ],
            [
             0.9,
             "#4d9221"
            ],
            [
             1,
             "#276419"
            ]
           ],
           "sequential": [
            [
             0,
             "#0d0887"
            ],
            [
             0.1111111111111111,
             "#46039f"
            ],
            [
             0.2222222222222222,
             "#7201a8"
            ],
            [
             0.3333333333333333,
             "#9c179e"
            ],
            [
             0.4444444444444444,
             "#bd3786"
            ],
            [
             0.5555555555555556,
             "#d8576b"
            ],
            [
             0.6666666666666666,
             "#ed7953"
            ],
            [
             0.7777777777777778,
             "#fb9f3a"
            ],
            [
             0.8888888888888888,
             "#fdca26"
            ],
            [
             1,
             "#f0f921"
            ]
           ],
           "sequentialminus": [
            [
             0,
             "#0d0887"
            ],
            [
             0.1111111111111111,
             "#46039f"
            ],
            [
             0.2222222222222222,
             "#7201a8"
            ],
            [
             0.3333333333333333,
             "#9c179e"
            ],
            [
             0.4444444444444444,
             "#bd3786"
            ],
            [
             0.5555555555555556,
             "#d8576b"
            ],
            [
             0.6666666666666666,
             "#ed7953"
            ],
            [
             0.7777777777777778,
             "#fb9f3a"
            ],
            [
             0.8888888888888888,
             "#fdca26"
            ],
            [
             1,
             "#f0f921"
            ]
           ]
          },
          "colorway": [
           "#636efa",
           "#EF553B",
           "#00cc96",
           "#ab63fa",
           "#FFA15A",
           "#19d3f3",
           "#FF6692",
           "#B6E880",
           "#FF97FF",
           "#FECB52"
          ],
          "font": {
           "color": "#2a3f5f"
          },
          "geo": {
           "bgcolor": "white",
           "lakecolor": "white",
           "landcolor": "#E5ECF6",
           "showlakes": true,
           "showland": true,
           "subunitcolor": "white"
          },
          "hoverlabel": {
           "align": "left"
          },
          "hovermode": "closest",
          "mapbox": {
           "style": "light"
          },
          "paper_bgcolor": "white",
          "plot_bgcolor": "#E5ECF6",
          "polar": {
           "angularaxis": {
            "gridcolor": "white",
            "linecolor": "white",
            "ticks": ""
           },
           "bgcolor": "#E5ECF6",
           "radialaxis": {
            "gridcolor": "white",
            "linecolor": "white",
            "ticks": ""
           }
          },
          "scene": {
           "xaxis": {
            "backgroundcolor": "#E5ECF6",
            "gridcolor": "white",
            "gridwidth": 2,
            "linecolor": "white",
            "showbackground": true,
            "ticks": "",
            "zerolinecolor": "white"
           },
           "yaxis": {
            "backgroundcolor": "#E5ECF6",
            "gridcolor": "white",
            "gridwidth": 2,
            "linecolor": "white",
            "showbackground": true,
            "ticks": "",
            "zerolinecolor": "white"
           },
           "zaxis": {
            "backgroundcolor": "#E5ECF6",
            "gridcolor": "white",
            "gridwidth": 2,
            "linecolor": "white",
            "showbackground": true,
            "ticks": "",
            "zerolinecolor": "white"
           }
          },
          "shapedefaults": {
           "line": {
            "color": "#2a3f5f"
           }
          },
          "ternary": {
           "aaxis": {
            "gridcolor": "white",
            "linecolor": "white",
            "ticks": ""
           },
           "baxis": {
            "gridcolor": "white",
            "linecolor": "white",
            "ticks": ""
           },
           "bgcolor": "#E5ECF6",
           "caxis": {
            "gridcolor": "white",
            "linecolor": "white",
            "ticks": ""
           }
          },
          "title": {
           "x": 0.05
          },
          "xaxis": {
           "automargin": true,
           "gridcolor": "white",
           "linecolor": "white",
           "ticks": "",
           "title": {
            "standoff": 15
           },
           "zerolinecolor": "white",
           "zerolinewidth": 2
          },
          "yaxis": {
           "automargin": true,
           "gridcolor": "white",
           "linecolor": "white",
           "ticks": "",
           "title": {
            "standoff": 15
           },
           "zerolinecolor": "white",
           "zerolinewidth": 2
          }
         }
        },
        "title": {
         "text": "Frequência dos termos mais relavantes do corpora artigo completos e resumos expandidos",
         "x": 0,
         "xref": "paper"
        },
        "xaxis": {
         "title": {
          "font": {
           "color": "#7f7f7f",
           "family": "Courier New, monospace",
           "size": 18
          },
          "text": "Anos"
         }
        },
        "yaxis": {
         "title": {
          "font": {
           "color": "#7f7f7f",
           "family": "Courier New, monospace",
           "size": 18
          },
          "text": "Frequência"
         }
        }
       }
      },
      "text/html": [
       "<div>\n",
       "        \n",
       "        \n",
       "            <div id=\"9457ee95-39d2-41e0-a82b-b57b02680694\" class=\"plotly-graph-div\" style=\"height:525px; width:100%;\"></div>\n",
       "            <script type=\"text/javascript\">\n",
       "                require([\"plotly\"], function(Plotly) {\n",
       "                    window.PLOTLYENV=window.PLOTLYENV || {};\n",
       "                    \n",
       "                if (document.getElementById(\"9457ee95-39d2-41e0-a82b-b57b02680694\")) {\n",
       "                    Plotly.newPlot(\n",
       "                        '9457ee95-39d2-41e0-a82b-b57b02680694',\n",
       "                        [{\"mode\": \"markers+lines\", \"name\": \"informa\\u00e7\\u00e3o\", \"type\": \"scatter\", \"x\": [\"2012\", \"2013\", \"2014\", \"2015\", \"2016\", \"2017\", \"2018\"], \"y\": [19056, 17936, 20495, 17934, 22559, 23111, 27146]}, {\"mode\": \"markers+lines\", \"name\": \"pesquisa\", \"type\": \"scatter\", \"x\": [\"2012\", \"2013\", \"2014\", \"2015\", \"2016\", \"2017\", \"2018\"], \"y\": [4683, 4982, 5772, 5044, 6547, 7415, 8355]}, {\"mode\": \"markers+lines\", \"name\": \"conhecimento\", \"type\": \"scatter\", \"x\": [\"2012\", \"2013\", \"2014\", \"2015\", \"2016\", \"2017\", \"2018\"], \"y\": [4207, 4272, 4657, 4580, 5893, 7135, 6720]}, {\"mode\": \"markers+lines\", \"name\": \"dados\", \"type\": \"scatter\", \"x\": [\"2012\", \"2013\", \"2014\", \"2015\", \"2016\", \"2017\", \"2018\"], \"y\": [2824, 2896, 3682, 3019, 4028, 5606, 5824]}, {\"mode\": \"markers+lines\", \"name\": \"forma\", \"type\": \"scatter\", \"x\": [\"2012\", \"2013\", \"2014\", \"2015\", \"2016\", \"2017\", \"2018\"], \"y\": [2713, 2556, 2838, 2365, 3081, 3291, 3488]}, {\"mode\": \"markers+lines\", \"name\": \"biblioteca\", \"type\": \"scatter\", \"x\": [\"2012\", \"2013\", \"2014\", \"2015\", \"2016\", \"2017\", \"2018\"], \"y\": [2256, 1922, 2568, 2372, 3228, 3477, 3505]}, {\"mode\": \"markers+lines\", \"name\": \"processo\", \"type\": \"scatter\", \"x\": [\"2012\", \"2013\", \"2014\", \"2015\", \"2016\", \"2017\", \"2018\"], \"y\": [2648, 2348, 2798, 2361, 2888, 2922, 1698]}, {\"mode\": \"markers+lines\", \"name\": \"social\", \"type\": \"scatter\", \"x\": [\"2012\", \"2013\", \"2014\", \"2015\", \"2016\", \"2017\", \"2018\"], \"y\": [2588, 2413, 2689, 2221, 2996, 2967, 3349]}, {\"mode\": \"markers+lines\", \"name\": \"comunica\\u00e7\\u00e3o\", \"type\": \"scatter\", \"x\": [\"2012\", \"2013\", \"2014\", \"2015\", \"2016\", \"2017\", \"2018\"], \"y\": [2567, 2014, 2238, 1813, 3031, 2467, 2644]}, {\"mode\": \"markers+lines\", \"name\": \"uso\", \"type\": \"scatter\", \"x\": [\"2012\", \"2013\", \"2014\", \"2015\", \"2016\", \"2017\", \"2018\"], \"y\": [2292, 2002, 2393, 1933, 2653, 2651, 2784]}, {\"mode\": \"markers+lines\", \"name\": \"organiza\\u00e7\\u00e3o\", \"type\": \"scatter\", \"x\": [\"2012\", \"2013\", \"2014\", \"2015\", \"2016\", \"2017\", \"2018\"], \"y\": [1872, 1923, 2451, 1960, 2504, 2660, 2713]}, {\"mode\": \"markers+lines\", \"name\": \"museu\", \"type\": \"scatter\", \"x\": [\"2012\", \"2013\", \"2014\", \"2015\", \"2016\", \"2017\", \"2018\"], \"y\": [2228, 2039, 1456, 2197, 1634, 1695, 2447]}, {\"mode\": \"markers+lines\", \"name\": \"produ\\u00e7\\u00e3o\", \"type\": \"scatter\", \"x\": [\"2012\", \"2013\", \"2014\", \"2015\", \"2016\", \"2017\", \"2018\"], \"y\": [2176, 1775, 2360, 1969, 2718, 2757, 2750]}, {\"mode\": \"markers+lines\", \"name\": \"mem\\u00f3ria\", \"type\": \"scatter\", \"x\": [\"2012\", \"2013\", \"2014\", \"2015\", \"2016\", \"2017\", \"2018\"], \"y\": [2106, 1715, 1247, 1713, 3003, 1614, 2524]}, {\"mode\": \"markers+lines\", \"name\": \"documentos\", \"type\": \"scatter\", \"x\": [\"2012\", \"2013\", \"2014\", \"2015\", \"2016\", \"2017\", \"2018\"], \"y\": [1899, 1909, 2357, 2019, 2540, 2758, 3157]}, {\"mode\": \"markers+lines\", \"name\": \"sociedade\", \"type\": \"scatter\", \"x\": [\"2012\", \"2013\", \"2014\", \"2015\", \"2016\", \"2017\", \"2018\"], \"y\": [1677, 1642, 1602, 1434, 1689, 1922, 2160]}, {\"mode\": \"markers+lines\", \"name\": \"cultura\", \"type\": \"scatter\", \"x\": [\"2012\", \"2013\", \"2014\", \"2015\", \"2016\", \"2017\", \"2018\"], \"y\": [1565, 1097, 1428, 1082, 1675, 1572, 1782]}, {\"mode\": \"markers+lines\", \"name\": \"tecnologia\", \"type\": \"scatter\", \"x\": [\"2012\", \"2013\", \"2014\", \"2015\", \"2016\", \"2017\", \"2018\"], \"y\": [1251, 1360, 1378, 1378, 1840, 1915, 2270]}, {\"mode\": \"markers+lines\", \"name\": \"gest\\u00e3o\", \"type\": \"scatter\", \"x\": [\"2012\", \"2013\", \"2014\", \"2015\", \"2016\", \"2017\", \"2018\"], \"y\": [1226, 1504, 1825, 2053, 2421, 2916, 3197]}, {\"mode\": \"markers+lines\", \"name\": \"patrim\\u00f4nio\", \"type\": \"scatter\", \"x\": [\"2012\", \"2013\", \"2014\", \"2015\", \"2016\", \"2017\", \"2018\"], \"y\": [815, 695, 763, 784, 967, 864, 1099]}, {\"mode\": \"markers+lines\", \"name\": \"classifica\\u00e7\\u00e3o\", \"type\": \"scatter\", \"x\": [\"2012\", \"2013\", \"2014\", \"2015\", \"2016\", \"2017\", \"2018\"], \"y\": [813, 709, 886, 542, 797, 1087, 1887]}, {\"mode\": \"markers+lines\", \"name\": \"biblioteconomia\", \"type\": \"scatter\", \"x\": [\"2012\", \"2013\", \"2014\", \"2015\", \"2016\", \"2017\", \"2018\"], \"y\": [694, 789, 770, 714, 1030, 808, 999]}, {\"mode\": \"markers+lines\", \"name\": \"ontologias\", \"type\": \"scatter\", \"x\": [\"2012\", \"2013\", \"2014\", \"2015\", \"2016\", \"2017\", \"2018\"], \"y\": [314, 452, 484, 264, 379, 325, 249]}, {\"mode\": \"markers+lines\", \"name\": \"arquivologia\", \"type\": \"scatter\", \"x\": [\"2012\", \"2013\", \"2014\", \"2015\", \"2016\", \"2017\", \"2018\"], \"y\": [370, 416, 357, 220, 400, 322, 548]}, {\"mode\": \"markers+lines\", \"name\": \"museologia\", \"type\": \"scatter\", \"x\": [\"2012\", \"2013\", \"2014\", \"2015\", \"2016\", \"2017\", \"2018\"], \"y\": [335, 466, 354, 346, 349, 359, 725]}, {\"mode\": \"markers+lines\", \"name\": \"interdisciplinar\", \"type\": \"scatter\", \"x\": [\"2012\", \"2013\", \"2014\", \"2015\", \"2016\", \"2017\", \"2018\"], \"y\": [235, 210, 184, 161, 229, 277, 284]}, {\"mode\": \"markers+lines\", \"name\": \"interoperabilidade\", \"type\": \"scatter\", \"x\": [\"2012\", \"2013\", \"2014\", \"2015\", \"2016\", \"2017\", \"2018\"], \"y\": [239, 266, 0, 162, 219, 226, 0]}, {\"mode\": \"markers+lines\", \"name\": \"peri\\u00f3dicos\", \"type\": \"scatter\", \"x\": [\"2012\", \"2013\", \"2014\", \"2015\", \"2016\", \"2017\", \"2018\"], \"y\": [1154, 693, 1008, 898, 995, 962, 1460]}, {\"mode\": \"markers+lines\", \"name\": \"usabilidade\", \"type\": \"scatter\", \"x\": [\"2012\", \"2013\", \"2014\", \"2015\", \"2016\", \"2017\", \"2018\"], \"y\": [277, 210, 0, 0, 187, 0, 0]}, {\"mode\": \"markers+lines\", \"name\": \"representa\\u00e7\\u00e3o_conhecimento\", \"type\": \"scatter\", \"x\": [\"2012\", \"2013\", \"2014\", \"2015\", \"2016\", \"2017\", \"2018\"], \"y\": [100, 145, 159, 157, 176, 332, 204]}, {\"mode\": \"markers+lines\", \"name\": \"conhecimento_cient\\u00edfico\", \"type\": \"scatter\", \"x\": [\"2012\", \"2013\", \"2014\", \"2015\", \"2016\", \"2017\", \"2018\"], \"y\": [125, 205, 118, 124, 147, 149, 196]}, {\"mode\": \"markers+lines\", \"name\": \"redes_sociais\", \"type\": \"scatter\", \"x\": [\"2012\", \"2013\", \"2014\", \"2015\", \"2016\", \"2017\", \"2018\"], \"y\": [334, 427, 486, 304, 283, 394, 409]}, {\"mode\": \"markers+lines\", \"name\": \"recupera\\u00e7\\u00e3o_informa\\u00e7\\u00f5es\", \"type\": \"scatter\", \"x\": [\"2012\", \"2013\", \"2014\", \"2015\", \"2016\", \"2017\", \"2018\"], \"y\": [497, 431, 622, 716, 564, 632, 559]}, {\"mode\": \"markers+lines\", \"name\": \"sistemas_informa\\u00e7\\u00e3o\", \"type\": \"scatter\", \"x\": [\"2012\", \"2013\", \"2014\", \"2015\", \"2016\", \"2017\", \"2018\"], \"y\": [297, 216, 244, 198, 199, 256, 374]}, {\"mode\": \"markers+lines\", \"name\": \"comunica\\u00e7\\u00e3o_cient\\u00edfica\", \"type\": \"scatter\", \"x\": [\"2012\", \"2013\", \"2014\", \"2015\", \"2016\", \"2017\", \"2018\"], \"y\": [292, 174, 276, 175, 302, 224, 329]}, {\"mode\": \"markers+lines\", \"name\": \"gest\\u00e3o_informa\\u00e7\\u00e3o\", \"type\": \"scatter\", \"x\": [\"2012\", \"2013\", \"2014\", \"2015\", \"2016\", \"2017\", \"2018\"], \"y\": [277, 377, 487, 477, 389, 510, 549]}, {\"mode\": \"markers+lines\", \"name\": \"tecnologias_informa\\u00e7\\u00e3o\", \"type\": \"scatter\", \"x\": [\"2012\", \"2013\", \"2014\", \"2015\", \"2016\", \"2017\", \"2018\"], \"y\": [265, 234, 240, 210, 239, 266, 253]}, {\"mode\": \"markers+lines\", \"name\": \"fontes_informa\\u00e7\\u00e3o\", \"type\": \"scatter\", \"x\": [\"2012\", \"2013\", \"2014\", \"2015\", \"2016\", \"2017\", \"2018\"], \"y\": [237, 270, 346, 295, 242, 300, 308]}, {\"mode\": \"markers+lines\", \"name\": \"bases_dados\", \"type\": \"scatter\", \"x\": [\"2012\", \"2013\", \"2014\", \"2015\", \"2016\", \"2017\", \"2018\"], \"y\": [230, 199, 286, 210, 295, 289, 304]}, {\"mode\": \"markers+lines\", \"name\": \"tomada_decis\\u00e3o\", \"type\": \"scatter\", \"x\": [\"2012\", \"2013\", \"2014\", \"2015\", \"2016\", \"2017\", \"2018\"], \"y\": [221, 242, 201, 138, 142, 242, 195]}, {\"mode\": \"markers+lines\", \"name\": \"coleta_dados\", \"type\": \"scatter\", \"x\": [\"2012\", \"2013\", \"2014\", \"2015\", \"2016\", \"2017\", \"2018\"], \"y\": [201, 209, 276, 205, 262, 302, 301]}, {\"mode\": \"markers+lines\", \"name\": \"compet\\u00eancia_informacional\", \"type\": \"scatter\", \"x\": [\"2012\", \"2013\", \"2014\", \"2015\", \"2016\", \"2017\", \"2018\"], \"y\": [246, 191, 289, 232, 74, 195, 206]}, {\"mode\": \"markers+lines\", \"name\": \"organiza\\u00e7\\u00e3o_informa\\u00e7\\u00e3o\", \"type\": \"scatter\", \"x\": [\"2012\", \"2013\", \"2014\", \"2015\", \"2016\", \"2017\", \"2018\"], \"y\": [183, 288, 275, 100, 313, 213, 252]}, {\"mode\": \"markers+lines\", \"name\": \"gest\\u00e3o_conhecimento\", \"type\": \"scatter\", \"x\": [\"2012\", \"2013\", \"2014\", \"2015\", \"2016\", \"2017\", \"2018\"], \"y\": [182, 201, 192, 253, 350, 540, 569]}, {\"mode\": \"markers+lines\", \"name\": \"patrim\\u00f4nio_cultural\", \"type\": \"scatter\", \"x\": [\"2012\", \"2013\", \"2014\", \"2015\", \"2016\", \"2017\", \"2018\"], \"y\": [179, 161, 184, 154, 264, 266, 390]}, {\"mode\": \"markers+lines\", \"name\": \"sociedade_informa\\u00e7\\u00e3o\", \"type\": \"scatter\", \"x\": [\"2012\", \"2013\", \"2014\", \"2015\", \"2016\", \"2017\", \"2018\"], \"y\": [174, 149, 192, 193, 176, 183, 255]}, {\"mode\": \"markers+lines\", \"name\": \"inclus\\u00e3o_digital\", \"type\": \"scatter\", \"x\": [\"2012\", \"2013\", \"2014\", \"2015\", \"2016\", \"2017\", \"2018\"], \"y\": [174, 76, 152, 115, 31, 183, 0]}, {\"mode\": \"markers+lines\", \"name\": \"organiza\\u00e7\\u00e3o_conhecimento\", \"type\": \"scatter\", \"x\": [\"2012\", \"2013\", \"2014\", \"2015\", \"2016\", \"2017\", \"2018\"], \"y\": [173, 255, 387, 372, 495, 610, 525]}, {\"mode\": \"markers+lines\", \"name\": \"novas_tecnologias\", \"type\": \"scatter\", \"x\": [\"2012\", \"2013\", \"2014\", \"2015\", \"2016\", \"2017\", \"2018\"], \"y\": [165, 80, 117, 88, 143, 96, 110]}, {\"mode\": \"markers+lines\", \"name\": \"biblioteca_digitais\", \"type\": \"scatter\", \"x\": [\"2012\", \"2013\", \"2014\", \"2015\", \"2016\", \"2017\", \"2018\"], \"y\": [162, 79, 47, 56, 53, 46, 52]}, {\"mode\": \"markers+lines\", \"name\": \"busca_informa\\u00e7\\u00e3o\", \"type\": \"scatter\", \"x\": [\"2012\", \"2013\", \"2014\", \"2015\", \"2016\", \"2017\", \"2018\"], \"y\": [160, 131, 172, 192, 119, 167, 144]}, {\"mode\": \"markers+lines\", \"name\": \"mem\\u00f3ria_social\", \"type\": \"scatter\", \"x\": [\"2012\", \"2013\", \"2014\", \"2015\", \"2016\", \"2017\", \"2018\"], \"y\": [140, 94, 96, 99, 134, 59, 113]}, {\"mode\": \"markers+lines\", \"name\": \"tecnologia_informa\\u00e7\\u00e3o\", \"type\": \"scatter\", \"x\": [\"2012\", \"2013\", \"2014\", \"2015\", \"2016\", \"2017\", \"2018\"], \"y\": [137, 126, 164, 104, 134, 147, 206]}, {\"mode\": \"markers+lines\", \"name\": \"fluxo_informa\\u00e7\\u00e3o\", \"type\": \"scatter\", \"x\": [\"2012\", \"2013\", \"2014\", \"2015\", \"2016\", \"2017\", \"2018\"], \"y\": [105, 92, 140, 66, 80, 91, 96]}, {\"mode\": \"markers+lines\", \"name\": \"mem\\u00f3ria_coletiva\", \"type\": \"scatter\", \"x\": [\"2012\", \"2013\", \"2014\", \"2015\", \"2016\", \"2017\", \"2018\"], \"y\": [104, 94, 63, 83, 165, 103, 122]}, {\"mode\": \"markers+lines\", \"name\": \"ambientes_informacionais\", \"type\": \"scatter\", \"x\": [\"2012\", \"2013\", \"2014\", \"2015\", \"2016\", \"2017\", \"2018\"], \"y\": [100, 45, 73, 57, 130, 94, 119]}, {\"mode\": \"markers+lines\", \"name\": \"preserva\\u00e7\\u00e3o_digital\", \"type\": \"scatter\", \"x\": [\"2012\", \"2013\", \"2014\", \"2015\", \"2016\", \"2017\", \"2018\"], \"y\": [99, 95, 31, 166, 196, 69, 190]}, {\"mode\": \"markers+lines\", \"name\": \"web_sem\\u00e2ntica\", \"type\": \"scatter\", \"x\": [\"2012\", \"2013\", \"2014\", \"2015\", \"2016\", \"2017\", \"2018\"], \"y\": [132, 169, 151, 124, 193, 196, 106]}, {\"mode\": \"markers+lines\", \"name\": \"necessidades_informacionais\", \"type\": \"scatter\", \"x\": [\"2012\", \"2013\", \"2014\", \"2015\", \"2016\", \"2017\", \"2018\"], \"y\": [84, 111, 109, 97, 131, 108, 152]}, {\"mode\": \"markers+lines\", \"name\": \"qualidade_informa\\u00e7\\u00e3o\", \"type\": \"scatter\", \"x\": [\"2012\", \"2013\", \"2014\", \"2015\", \"2016\", \"2017\", \"2018\"], \"y\": [114, 64, 45, 48, 30, 92, 117]}, {\"mode\": \"markers+lines\", \"name\": \"arquitetura_informa\\u00e7\\u00e3o\", \"type\": \"scatter\", \"x\": [\"2012\", \"2013\", \"2014\", \"2015\", \"2016\", \"2017\", \"2018\"], \"y\": [161, 167, 237, 108, 324, 165, 283]}, {\"mode\": \"markers+lines\", \"name\": \"estudos_usu\\u00e1rios\", \"type\": \"scatter\", \"x\": [\"2012\", \"2013\", \"2014\", \"2015\", \"2016\", \"2017\", \"2018\"], \"y\": [97, 107, 61, 54, 60, 72, 60]}, {\"mode\": \"markers+lines\", \"name\": \"profissional_informa\\u00e7\\u00e3o\", \"type\": \"scatter\", \"x\": [\"2012\", \"2013\", \"2014\", \"2015\", \"2016\", \"2017\", \"2018\"], \"y\": [136, 103, 152, 114, 114, 146, 149]}, {\"mode\": \"markers+lines\", \"name\": \"reposit\\u00f3rios_institucionais\", \"type\": \"scatter\", \"x\": [\"2012\", \"2013\", \"2014\", \"2015\", \"2016\", \"2017\", \"2018\"], \"y\": [119, 103, 46, 99, 83, 113, 146]}, {\"mode\": \"markers+lines\", \"name\": \"linked_data\", \"type\": \"scatter\", \"x\": [\"2012\", \"2013\", \"2014\", \"2015\", \"2016\", \"2017\", \"2018\"], \"y\": [72, 46, 62, 39, 74, 214, 134]}, {\"mode\": \"markers+lines\", \"name\": \"ambientes_digitais\", \"type\": \"scatter\", \"x\": [\"2012\", \"2013\", \"2014\", \"2015\", \"2016\", \"2017\", \"2018\"], \"y\": [88, 44, 32, 39, 75, 54, 52]}, {\"mode\": \"markers+lines\", \"name\": \"sociedade_conhecimento\", \"type\": \"scatter\", \"x\": [\"2012\", \"2013\", \"2014\", \"2015\", \"2016\", \"2017\", \"2018\"], \"y\": [32, 43, 0, 30, 0, 0, 0]}, {\"mode\": \"markers+lines\", \"name\": \"ciclo_vida\", \"type\": \"scatter\", \"x\": [\"2012\", \"2013\", \"2014\", \"2015\", \"2016\", \"2017\", \"2018\"], \"y\": [0, 113, 56, 60, 110, 121, 113]}, {\"mode\": \"markers+lines\", \"name\": \"gest\\u00e3o_documentos\", \"type\": \"scatter\", \"x\": [\"2012\", \"2013\", \"2014\", \"2015\", \"2016\", \"2017\", \"2018\"], \"y\": [62, 91, 201, 289, 117, 368, 286]}, {\"mode\": \"markers+lines\", \"name\": \"dublin_core\", \"type\": \"scatter\", \"x\": [\"2012\", \"2013\", \"2014\", \"2015\", \"2016\", \"2017\", \"2018\"], \"y\": [106, 111, 54, 47, 81, 123, 59]}, {\"mode\": \"markers+lines\", \"name\": \"uso_informa\\u00e7\\u00e3o\", \"type\": \"scatter\", \"x\": [\"2012\", \"2013\", \"2014\", \"2015\", \"2016\", \"2017\", \"2018\"], \"y\": [333, 316, 328, 325, 312, 376, 405]}, {\"mode\": \"markers+lines\", \"name\": \"fake_news\", \"type\": \"scatter\", \"x\": [\"2012\", \"2013\", \"2014\", \"2015\", \"2016\", \"2017\", \"2018\"], \"y\": [0, 0, 0, 0, 0, 0, 194]}, {\"mode\": \"markers+lines\", \"name\": \"tecnologias_informa\\u00e7\\u00e3o_comunica\\u00e7\\u00e3o\", \"type\": \"scatter\", \"x\": [\"2012\", \"2013\", \"2014\", \"2015\", \"2016\", \"2017\", \"2018\"], \"y\": [168, 145, 152, 136, 133, 182, 171]}, {\"mode\": \"markers+lines\", \"name\": \"gest\\u00e3o_informa\\u00e7\\u00e3o_conhecimento\", \"type\": \"scatter\", \"x\": [\"2012\", \"2013\", \"2014\", \"2015\", \"2016\", \"2017\", \"2018\"], \"y\": [114, 106, 60, 145, 104, 126, 142]}, {\"mode\": \"markers+lines\", \"name\": \"fonte_dados_pesquisa\", \"type\": \"scatter\", \"x\": [\"2012\", \"2013\", \"2014\", \"2015\", \"2016\", \"2017\", \"2018\"], \"y\": [87, 125, 195, 145, 91, 248, 242]}, {\"mode\": \"markers+lines\", \"name\": \"organiza\\u00e7\\u00e3o_representa\\u00e7\\u00e3o_conhecimento\", \"type\": \"scatter\", \"x\": [\"2012\", \"2013\", \"2014\", \"2015\", \"2016\", \"2017\", \"2018\"], \"y\": [57, 85, 73, 108, 88, 205, 134]}, {\"mode\": \"markers+lines\", \"name\": \"world_wide_web\", \"type\": \"scatter\", \"x\": [\"2012\", \"2013\", \"2014\", \"2015\", \"2016\", \"2017\", \"2018\"], \"y\": [41, 19, 44, 37, 35, 37, 29]}, {\"mode\": \"markers+lines\", \"name\": \"circula\\u00e7\\u00e3o_apropria\\u00e7\\u00e3o_informa\\u00e7\\u00e3o\", \"type\": \"scatter\", \"x\": [\"2012\", \"2013\", \"2014\", \"2015\", \"2016\", \"2017\", \"2018\"], \"y\": [40, 44, 11, 31, 0, 55, 65]}, {\"mode\": \"markers+lines\", \"name\": \"dados_informa\\u00e7\\u00e3o_conhecimento\", \"type\": \"scatter\", \"x\": [\"2012\", \"2013\", \"2014\", \"2015\", \"2016\", \"2017\", \"2018\"], \"y\": [20, 0, 17, 0, 0, 13, 0]}, {\"mode\": \"markers+lines\", \"name\": \"corpus\", \"type\": \"scatter\", \"x\": [\"2012\", \"2013\", \"2014\", \"2015\", \"2016\", \"2017\", \"2018\"], \"y\": [220, 0, 190, 171, 0, 245, 234]}, {\"mode\": \"markers+lines\", \"name\": \"big_data\", \"type\": \"scatter\", \"x\": [\"2012\", \"2013\", \"2014\", \"2015\", \"2016\", \"2017\", \"2018\"], \"y\": [0, 0, 203, 28, 76, 391, 100]}, {\"mode\": \"markers+lines\", \"name\": \"machine_learning\", \"type\": \"scatter\", \"x\": [\"2012\", \"2013\", \"2014\", \"2015\", \"2016\", \"2017\", \"2018\"], \"y\": [0, 0, 0, 0, 0, 0, 37]}, {\"mode\": \"markers+lines\", \"name\": \"processo_comunica\\u00e7\\u00e3o_cient\\u00edfica\", \"type\": \"scatter\", \"x\": [\"2012\", \"2013\", \"2014\", \"2015\", \"2016\", \"2017\", \"2018\"], \"y\": [0, 0, 0, 9, 0, 0, 16]}, {\"mode\": \"markers+lines\", \"name\": \"processamento_linguagem_natural\", \"type\": \"scatter\", \"x\": [\"2012\", \"2013\", \"2014\", \"2015\", \"2016\", \"2017\", \"2018\"], \"y\": [11, 0, 0, 13, 0, 0, 16]}],\n",
       "                        {\"template\": {\"data\": {\"bar\": [{\"error_x\": {\"color\": \"#2a3f5f\"}, \"error_y\": {\"color\": \"#2a3f5f\"}, \"marker\": {\"line\": {\"color\": \"#E5ECF6\", \"width\": 0.5}}, \"type\": \"bar\"}], \"barpolar\": [{\"marker\": {\"line\": {\"color\": \"#E5ECF6\", \"width\": 0.5}}, \"type\": \"barpolar\"}], \"carpet\": [{\"aaxis\": {\"endlinecolor\": \"#2a3f5f\", \"gridcolor\": \"white\", \"linecolor\": \"white\", \"minorgridcolor\": \"white\", \"startlinecolor\": \"#2a3f5f\"}, \"baxis\": {\"endlinecolor\": \"#2a3f5f\", \"gridcolor\": \"white\", \"linecolor\": \"white\", \"minorgridcolor\": \"white\", \"startlinecolor\": \"#2a3f5f\"}, \"type\": \"carpet\"}], \"choropleth\": [{\"colorbar\": {\"outlinewidth\": 0, \"ticks\": \"\"}, \"type\": \"choropleth\"}], \"contour\": [{\"colorbar\": {\"outlinewidth\": 0, \"ticks\": \"\"}, \"colorscale\": [[0.0, \"#0d0887\"], [0.1111111111111111, \"#46039f\"], [0.2222222222222222, \"#7201a8\"], [0.3333333333333333, \"#9c179e\"], [0.4444444444444444, \"#bd3786\"], [0.5555555555555556, \"#d8576b\"], [0.6666666666666666, \"#ed7953\"], [0.7777777777777778, \"#fb9f3a\"], [0.8888888888888888, \"#fdca26\"], [1.0, \"#f0f921\"]], \"type\": \"contour\"}], \"contourcarpet\": [{\"colorbar\": {\"outlinewidth\": 0, \"ticks\": \"\"}, \"type\": \"contourcarpet\"}], \"heatmap\": [{\"colorbar\": {\"outlinewidth\": 0, \"ticks\": \"\"}, \"colorscale\": [[0.0, \"#0d0887\"], [0.1111111111111111, \"#46039f\"], [0.2222222222222222, \"#7201a8\"], [0.3333333333333333, \"#9c179e\"], [0.4444444444444444, \"#bd3786\"], [0.5555555555555556, \"#d8576b\"], [0.6666666666666666, \"#ed7953\"], [0.7777777777777778, \"#fb9f3a\"], [0.8888888888888888, \"#fdca26\"], [1.0, \"#f0f921\"]], \"type\": \"heatmap\"}], \"heatmapgl\": [{\"colorbar\": {\"outlinewidth\": 0, \"ticks\": \"\"}, \"colorscale\": [[0.0, \"#0d0887\"], [0.1111111111111111, \"#46039f\"], [0.2222222222222222, \"#7201a8\"], [0.3333333333333333, \"#9c179e\"], [0.4444444444444444, \"#bd3786\"], [0.5555555555555556, \"#d8576b\"], [0.6666666666666666, \"#ed7953\"], [0.7777777777777778, \"#fb9f3a\"], [0.8888888888888888, \"#fdca26\"], [1.0, \"#f0f921\"]], \"type\": \"heatmapgl\"}], \"histogram\": [{\"marker\": {\"colorbar\": {\"outlinewidth\": 0, \"ticks\": \"\"}}, \"type\": \"histogram\"}], \"histogram2d\": [{\"colorbar\": {\"outlinewidth\": 0, \"ticks\": \"\"}, \"colorscale\": [[0.0, \"#0d0887\"], [0.1111111111111111, \"#46039f\"], [0.2222222222222222, \"#7201a8\"], [0.3333333333333333, \"#9c179e\"], [0.4444444444444444, \"#bd3786\"], [0.5555555555555556, \"#d8576b\"], [0.6666666666666666, \"#ed7953\"], [0.7777777777777778, \"#fb9f3a\"], [0.8888888888888888, \"#fdca26\"], [1.0, \"#f0f921\"]], \"type\": \"histogram2d\"}], \"histogram2dcontour\": [{\"colorbar\": {\"outlinewidth\": 0, \"ticks\": \"\"}, \"colorscale\": [[0.0, \"#0d0887\"], [0.1111111111111111, \"#46039f\"], [0.2222222222222222, \"#7201a8\"], [0.3333333333333333, \"#9c179e\"], [0.4444444444444444, \"#bd3786\"], [0.5555555555555556, \"#d8576b\"], [0.6666666666666666, \"#ed7953\"], [0.7777777777777778, \"#fb9f3a\"], [0.8888888888888888, \"#fdca26\"], [1.0, \"#f0f921\"]], \"type\": \"histogram2dcontour\"}], \"mesh3d\": [{\"colorbar\": {\"outlinewidth\": 0, \"ticks\": \"\"}, \"type\": \"mesh3d\"}], \"parcoords\": [{\"line\": {\"colorbar\": {\"outlinewidth\": 0, \"ticks\": \"\"}}, \"type\": \"parcoords\"}], \"pie\": [{\"automargin\": true, \"type\": \"pie\"}], \"scatter\": [{\"marker\": {\"colorbar\": {\"outlinewidth\": 0, \"ticks\": \"\"}}, \"type\": \"scatter\"}], \"scatter3d\": [{\"line\": {\"colorbar\": {\"outlinewidth\": 0, \"ticks\": \"\"}}, \"marker\": {\"colorbar\": {\"outlinewidth\": 0, \"ticks\": \"\"}}, \"type\": \"scatter3d\"}], \"scattercarpet\": [{\"marker\": {\"colorbar\": {\"outlinewidth\": 0, \"ticks\": \"\"}}, \"type\": \"scattercarpet\"}], \"scattergeo\": [{\"marker\": {\"colorbar\": {\"outlinewidth\": 0, \"ticks\": \"\"}}, \"type\": \"scattergeo\"}], \"scattergl\": [{\"marker\": {\"colorbar\": {\"outlinewidth\": 0, \"ticks\": \"\"}}, \"type\": \"scattergl\"}], \"scattermapbox\": [{\"marker\": {\"colorbar\": {\"outlinewidth\": 0, \"ticks\": \"\"}}, \"type\": \"scattermapbox\"}], \"scatterpolar\": [{\"marker\": {\"colorbar\": {\"outlinewidth\": 0, \"ticks\": \"\"}}, \"type\": \"scatterpolar\"}], \"scatterpolargl\": [{\"marker\": {\"colorbar\": {\"outlinewidth\": 0, \"ticks\": \"\"}}, \"type\": \"scatterpolargl\"}], \"scatterternary\": [{\"marker\": {\"colorbar\": {\"outlinewidth\": 0, \"ticks\": \"\"}}, \"type\": \"scatterternary\"}], \"surface\": [{\"colorbar\": {\"outlinewidth\": 0, \"ticks\": \"\"}, \"colorscale\": [[0.0, \"#0d0887\"], [0.1111111111111111, \"#46039f\"], [0.2222222222222222, \"#7201a8\"], [0.3333333333333333, \"#9c179e\"], [0.4444444444444444, \"#bd3786\"], [0.5555555555555556, \"#d8576b\"], [0.6666666666666666, \"#ed7953\"], [0.7777777777777778, \"#fb9f3a\"], [0.8888888888888888, \"#fdca26\"], [1.0, \"#f0f921\"]], \"type\": \"surface\"}], \"table\": [{\"cells\": {\"fill\": {\"color\": \"#EBF0F8\"}, \"line\": {\"color\": \"white\"}}, \"header\": {\"fill\": {\"color\": \"#C8D4E3\"}, \"line\": {\"color\": \"white\"}}, \"type\": \"table\"}]}, \"layout\": {\"annotationdefaults\": {\"arrowcolor\": \"#2a3f5f\", \"arrowhead\": 0, \"arrowwidth\": 1}, \"coloraxis\": {\"colorbar\": {\"outlinewidth\": 0, \"ticks\": \"\"}}, \"colorscale\": {\"diverging\": [[0, \"#8e0152\"], [0.1, \"#c51b7d\"], [0.2, \"#de77ae\"], [0.3, \"#f1b6da\"], [0.4, \"#fde0ef\"], [0.5, \"#f7f7f7\"], [0.6, \"#e6f5d0\"], [0.7, \"#b8e186\"], [0.8, \"#7fbc41\"], [0.9, \"#4d9221\"], [1, \"#276419\"]], \"sequential\": [[0.0, \"#0d0887\"], [0.1111111111111111, \"#46039f\"], [0.2222222222222222, \"#7201a8\"], [0.3333333333333333, \"#9c179e\"], [0.4444444444444444, \"#bd3786\"], [0.5555555555555556, \"#d8576b\"], [0.6666666666666666, \"#ed7953\"], [0.7777777777777778, \"#fb9f3a\"], [0.8888888888888888, \"#fdca26\"], [1.0, \"#f0f921\"]], \"sequentialminus\": [[0.0, \"#0d0887\"], [0.1111111111111111, \"#46039f\"], [0.2222222222222222, \"#7201a8\"], [0.3333333333333333, \"#9c179e\"], [0.4444444444444444, \"#bd3786\"], [0.5555555555555556, \"#d8576b\"], [0.6666666666666666, \"#ed7953\"], [0.7777777777777778, \"#fb9f3a\"], [0.8888888888888888, \"#fdca26\"], [1.0, \"#f0f921\"]]}, \"colorway\": [\"#636efa\", \"#EF553B\", \"#00cc96\", \"#ab63fa\", \"#FFA15A\", \"#19d3f3\", \"#FF6692\", \"#B6E880\", \"#FF97FF\", \"#FECB52\"], \"font\": {\"color\": \"#2a3f5f\"}, \"geo\": {\"bgcolor\": \"white\", \"lakecolor\": \"white\", \"landcolor\": \"#E5ECF6\", \"showlakes\": true, \"showland\": true, \"subunitcolor\": \"white\"}, \"hoverlabel\": {\"align\": \"left\"}, \"hovermode\": \"closest\", \"mapbox\": {\"style\": \"light\"}, \"paper_bgcolor\": \"white\", \"plot_bgcolor\": \"#E5ECF6\", \"polar\": {\"angularaxis\": {\"gridcolor\": \"white\", \"linecolor\": \"white\", \"ticks\": \"\"}, \"bgcolor\": \"#E5ECF6\", \"radialaxis\": {\"gridcolor\": \"white\", \"linecolor\": \"white\", \"ticks\": \"\"}}, \"scene\": {\"xaxis\": {\"backgroundcolor\": \"#E5ECF6\", \"gridcolor\": \"white\", \"gridwidth\": 2, \"linecolor\": \"white\", \"showbackground\": true, \"ticks\": \"\", \"zerolinecolor\": \"white\"}, \"yaxis\": {\"backgroundcolor\": \"#E5ECF6\", \"gridcolor\": \"white\", \"gridwidth\": 2, \"linecolor\": \"white\", \"showbackground\": true, \"ticks\": \"\", \"zerolinecolor\": \"white\"}, \"zaxis\": {\"backgroundcolor\": \"#E5ECF6\", \"gridcolor\": \"white\", \"gridwidth\": 2, \"linecolor\": \"white\", \"showbackground\": true, \"ticks\": \"\", \"zerolinecolor\": \"white\"}}, \"shapedefaults\": {\"line\": {\"color\": \"#2a3f5f\"}}, \"ternary\": {\"aaxis\": {\"gridcolor\": \"white\", \"linecolor\": \"white\", \"ticks\": \"\"}, \"baxis\": {\"gridcolor\": \"white\", \"linecolor\": \"white\", \"ticks\": \"\"}, \"bgcolor\": \"#E5ECF6\", \"caxis\": {\"gridcolor\": \"white\", \"linecolor\": \"white\", \"ticks\": \"\"}}, \"title\": {\"x\": 0.05}, \"xaxis\": {\"automargin\": true, \"gridcolor\": \"white\", \"linecolor\": \"white\", \"ticks\": \"\", \"title\": {\"standoff\": 15}, \"zerolinecolor\": \"white\", \"zerolinewidth\": 2}, \"yaxis\": {\"automargin\": true, \"gridcolor\": \"white\", \"linecolor\": \"white\", \"ticks\": \"\", \"title\": {\"standoff\": 15}, \"zerolinecolor\": \"white\", \"zerolinewidth\": 2}}}, \"title\": {\"text\": \"Frequ\\u00eancia dos termos mais relavantes do corpora artigo completos e resumos expandidos\", \"x\": 0, \"xref\": \"paper\"}, \"xaxis\": {\"title\": {\"font\": {\"color\": \"#7f7f7f\", \"family\": \"Courier New, monospace\", \"size\": 18}, \"text\": \"Anos\"}}, \"yaxis\": {\"title\": {\"font\": {\"color\": \"#7f7f7f\", \"family\": \"Courier New, monospace\", \"size\": 18}, \"text\": \"Frequ\\u00eancia\"}}},\n",
       "                        {\"responsive\": true}\n",
       "                    ).then(function(){\n",
       "                            \n",
       "var gd = document.getElementById('9457ee95-39d2-41e0-a82b-b57b02680694');\n",
       "var x = new MutationObserver(function (mutations, observer) {{\n",
       "        var display = window.getComputedStyle(gd).display;\n",
       "        if (!display || display === 'none') {{\n",
       "            console.log([gd, 'removed!']);\n",
       "            Plotly.purge(gd);\n",
       "            observer.disconnect();\n",
       "        }}\n",
       "}});\n",
       "\n",
       "// Listen for the removal of the full notebook cells\n",
       "var notebookContainer = gd.closest('#notebook-container');\n",
       "if (notebookContainer) {{\n",
       "    x.observe(notebookContainer, {childList: true});\n",
       "}}\n",
       "\n",
       "// Listen for the clearing of the current output cell\n",
       "var outputEl = gd.closest('.output');\n",
       "if (outputEl) {{\n",
       "    x.observe(outputEl, {childList: true});\n",
       "}}\n",
       "\n",
       "                        })\n",
       "                };\n",
       "                });\n",
       "            </script>\n",
       "        </div>"
      ]
     },
     "metadata": {},
     "output_type": "display_data"
    }
   ],
   "source": [
    "trace1 = go.Scatter(x = ['2012', '2013', '2014', '2015', '2016', '2017', '2018'],\n",
    "                    y = [19056, 17936, 20495, 17934, 22559, 23111, 27146 ],\n",
    "                    mode = 'markers+lines',\n",
    "                    name = 'informação')\n",
    "\n",
    "trace2 = go.Scatter(x = ['2012', '2013', '2014', '2015', '2016', '2017', '2018'],\n",
    "                    y = [4683, 4982, 5772, 5044, 6547, 7415, 8355 ],\n",
    "                    mode = 'markers+lines',\n",
    "                    name = 'pesquisa')\n",
    "\n",
    "trace3 = go.Scatter(x = ['2012', '2013', '2014', '2015', '2016', '2017', '2018'],\n",
    "                    y = [4207, 4272, 4657, 4580, 5893, 7135, 6720 ],\n",
    "                    mode = 'markers+lines',\n",
    "                    name = 'conhecimento')\n",
    "\n",
    "trace4 = go.Scatter(x = ['2012', '2013', '2014', '2015', '2016', '2017', '2018'],\n",
    "                    y = [2824, 2896, 3682, 3019, 4028, 5606, 5824 ],\n",
    "                    mode = 'markers+lines',\n",
    "                    name = 'dados')\n",
    "\n",
    "trace5 = go.Scatter(x = ['2012', '2013', '2014', '2015', '2016', '2017', '2018'],\n",
    "                    y = [2713, 2556, 2838, 2365, 3081, 3291, 3488 ],\n",
    "                    mode = 'markers+lines',\n",
    "                    name = 'forma')\n",
    "\n",
    "trace6 = go.Scatter(x = ['2012', '2013', '2014', '2015', '2016', '2017', '2018'],\n",
    "                    y = [2256, 1922, 2568, 2372, 3228, 3477, 3505 ],\n",
    "                    mode = 'markers+lines',\n",
    "                    name = 'biblioteca')\n",
    "\n",
    "trace7 = go.Scatter(x = ['2012', '2013', '2014', '2015', '2016', '2017', '2018'],\n",
    "                    y = [2648, 2348, 2798, 2361, 2888, 2922, 1698 ],\n",
    "                    mode = 'markers+lines',\n",
    "                    name = 'processo')\n",
    "\n",
    "trace8 = go.Scatter(x = ['2012', '2013', '2014', '2015', '2016', '2017', '2018'],\n",
    "                    y = [2588, 2413, 2689, 2221, 2996, 2967, 3349 ],\n",
    "                    mode = 'markers+lines',\n",
    "                    name = 'social')\n",
    "\n",
    "trace9 = go.Scatter(x = ['2012', '2013', '2014', '2015', '2016', '2017', '2018'],\n",
    "                    y = [2567, 2014, 2238, 1813, 3031, 2467, 2644 ],\n",
    "                    mode = 'markers+lines',\n",
    "                    name = 'comunicação')\n",
    "\n",
    "trace10 = go.Scatter(x = ['2012', '2013', '2014', '2015', '2016', '2017', '2018'],\n",
    "                    y = [2292, 2002, 2393, 1933, 2653, 2651, 2784 ],\n",
    "                    mode = 'markers+lines',\n",
    "                    name = 'uso')\n",
    "\n",
    "trace11 = go.Scatter(x = ['2012', '2013', '2014', '2015', '2016', '2017', '2018'],\n",
    "                    y = [1872, 1923, 2451, 1960, 2504, 2660, 2713 ],\n",
    "                    mode = 'markers+lines',\n",
    "                    name = 'organização')\n",
    "\n",
    "trace12 = go.Scatter(x = ['2012', '2013', '2014', '2015', '2016', '2017', '2018'],\n",
    "                    y = [2228, 2039, 1456, 2197, 1634, 1695, 2447 ],\n",
    "                    mode = 'markers+lines',\n",
    "                    name = 'museu')\n",
    "\n",
    "trace13 = go.Scatter(x = ['2012', '2013', '2014', '2015', '2016', '2017', '2018'],\n",
    "                    y = [2176, 1775, 2360, 1969, 2718, 2757, 2750 ],\n",
    "                    mode = 'markers+lines',\n",
    "                    name = 'produção')\n",
    "\n",
    "trace14 = go.Scatter(x = ['2012', '2013', '2014', '2015', '2016', '2017', '2018'],\n",
    "                    y = [2106, 1715, 1247, 1713, 3003, 1614, 2524 ],\n",
    "                    mode = 'markers+lines',\n",
    "                    name = 'memória')\n",
    "\n",
    "trace15 = go.Scatter(x = ['2012', '2013', '2014', '2015', '2016', '2017', '2018'],\n",
    "                    y = [1899, 1909, 2357, 2019, 2540, 2758, 3157 ],\n",
    "                    mode = 'markers+lines',\n",
    "                    name = 'documentos')\n",
    "\n",
    "trace16 = go.Scatter(x = ['2012', '2013', '2014', '2015', '2016', '2017', '2018'],\n",
    "                    y = [1677, 1642, 1602, 1434, 1689, 1922, 2160 ],\n",
    "                    mode = 'markers+lines',\n",
    "                    name = 'sociedade')\n",
    "\n",
    "trace17 = go.Scatter(x = ['2012', '2013', '2014', '2015', '2016', '2017', '2018'],\n",
    "                    y = [1565, 1097, 1428, 1082, 1675, 1572, 1782 ],\n",
    "                    mode = 'markers+lines',\n",
    "                    name = 'cultura')\n",
    "\n",
    "trace18 = go.Scatter(x = ['2012', '2013', '2014', '2015', '2016', '2017', '2018'],\n",
    "                    y = [1251, 1360, 1378, 1378, 1840, 1915, 2270 ],\n",
    "                    mode = 'markers+lines',\n",
    "                    name = 'tecnologia')\n",
    "\n",
    "trace19 = go.Scatter(x = ['2012', '2013', '2014', '2015', '2016', '2017', '2018'],\n",
    "                    y = [1226, 1504, 1825, 2053, 2421, 2916, 3197 ],\n",
    "                    mode = 'markers+lines',\n",
    "                    name = 'gestão')\n",
    "\n",
    "trace20 = go.Scatter(x = ['2012', '2013', '2014', '2015', '2016', '2017', '2018'],\n",
    "                    y = [815, 695, 763, 784, 967, 864, 1099 ],\n",
    "                    mode = 'markers+lines',\n",
    "                    name = 'patrimônio')\n",
    "\n",
    "trace21 = go.Scatter(x = ['2012', '2013', '2014', '2015', '2016', '2017', '2018'],\n",
    "                    y = [813, 709, 886, 542, 797, 1087, 1887 ],\n",
    "                    mode = 'markers+lines',\n",
    "                    name = 'classificação')\n",
    "\n",
    "trace22 = go.Scatter(x = ['2012', '2013', '2014', '2015', '2016', '2017', '2018'],\n",
    "                    y = [694, 789, 770, 714, 1030, 808, 999 ],\n",
    "                    mode = 'markers+lines',\n",
    "                    name = 'biblioteconomia')\n",
    "\n",
    "trace23 = go.Scatter(x = ['2012', '2013', '2014', '2015', '2016', '2017', '2018'],\n",
    "                    y = [314, 452, 484, 264, 379, 325, 249 ],\n",
    "                    mode = 'markers+lines',\n",
    "                    name = 'ontologias')\n",
    "\n",
    "trace24 = go.Scatter(x = ['2012', '2013', '2014', '2015', '2016', '2017', '2018'],\n",
    "                    y = [370, 416, 357, 220, 400, 322, 548 ],\n",
    "                    mode = 'markers+lines',\n",
    "                    name = 'arquivologia')\n",
    "\n",
    "trace25 = go.Scatter(x = ['2012', '2013', '2014', '2015', '2016', '2017', '2018'],\n",
    "                    y = [335, 466, 354, 346, 349, 359, 725 ],\n",
    "                    mode = 'markers+lines',\n",
    "                    name = 'museologia')\n",
    "\n",
    "trace26 = go.Scatter(x = ['2012', '2013', '2014', '2015', '2016', '2017', '2018'],\n",
    "                    y = [235, 210, 184, 161, 229, 277, 284 ],\n",
    "                    mode = 'markers+lines',\n",
    "                    name = 'interdisciplinar')\n",
    "\n",
    "trace27 = go.Scatter(x = ['2012', '2013', '2014', '2015', '2016', '2017', '2018'],\n",
    "                    y = [239, 266, 0, 162, 219, 226, 0 ],\n",
    "                    mode = 'markers+lines',\n",
    "                    name = 'interoperabilidade')\n",
    "\n",
    "trace28 = go.Scatter(x = ['2012', '2013', '2014', '2015', '2016', '2017', '2018'],\n",
    "                    y = [1154, 693, 1008, 898, 995, 962, 1460 ],\n",
    "                    mode = 'markers+lines',\n",
    "                    name = 'periódicos')\n",
    "\n",
    "trace29 = go.Scatter(x = ['2012', '2013', '2014', '2015', '2016', '2017', '2018'],\n",
    "                    y = [277, 210, 0, 0, 187, 0, 0 ],\n",
    "                    mode = 'markers+lines',\n",
    "                    name = 'usabilidade')\n",
    "\n",
    "trace30 = go.Scatter(x = ['2012', '2013', '2014', '2015', '2016', '2017', '2018'],\n",
    "                    y = [100, 145, 159, 157, 176, 332, 204 ],\n",
    "                    mode = 'markers+lines',\n",
    "                    name = 'representação_conhecimento')\n",
    "\n",
    "trace31 = go.Scatter(x = ['2012', '2013', '2014', '2015', '2016', '2017', '2018'],\n",
    "                    y = [125, 205, 118, 124, 147, 149, 196 ],\n",
    "                    mode = 'markers+lines',\n",
    "                    name = 'conhecimento_científico')\n",
    "\n",
    "trace32 = go.Scatter(x = ['2012', '2013', '2014', '2015', '2016', '2017', '2018'],\n",
    "                    y = [334, 427, 486, 304, 283, 394, 409 ],\n",
    "                    mode = 'markers+lines',\n",
    "                    name = 'redes_sociais')\n",
    "\n",
    "trace33 = go.Scatter(x = ['2012', '2013', '2014', '2015', '2016', '2017', '2018'],\n",
    "                    y = [497, 431, 622, 716, 564, 632, 559 ],\n",
    "                    mode = 'markers+lines',\n",
    "                    name = 'recuperação_informações')\n",
    "\n",
    "trace34 = go.Scatter(x = ['2012', '2013', '2014', '2015', '2016', '2017', '2018'],\n",
    "                    y = [297, 216, 244, 198, 199, 256, 374 ],\n",
    "                    mode = 'markers+lines',\n",
    "                    name = 'sistemas_informação')\n",
    "\n",
    "trace35 = go.Scatter(x = ['2012', '2013', '2014', '2015', '2016', '2017', '2018'],\n",
    "                    y = [292, 174, 276, 175, 302, 224, 329 ],\n",
    "                    mode = 'markers+lines',\n",
    "                    name = 'comunicação_científica')\n",
    "\n",
    "trace36 = go.Scatter(x = ['2012', '2013', '2014', '2015', '2016', '2017', '2018'],\n",
    "                    y = [277, 377, 487, 477, 389, 510, 549 ],\n",
    "                    mode = 'markers+lines',\n",
    "                    name = 'gestão_informação')\n",
    "\n",
    "trace37 = go.Scatter(x = ['2012', '2013', '2014', '2015', '2016', '2017', '2018'],\n",
    "                    y = [265, 234, 240, 210, 239, 266, 253 ],\n",
    "                    mode = 'markers+lines',\n",
    "                    name = 'tecnologias_informação')\n",
    "\n",
    "trace38 = go.Scatter(x = ['2012', '2013', '2014', '2015', '2016', '2017', '2018'],\n",
    "                    y = [237, 270, 346, 295, 242, 300, 308 ],\n",
    "                    mode = 'markers+lines',\n",
    "                    name = 'fontes_informação')\n",
    "\n",
    "trace39 = go.Scatter(x = ['2012', '2013', '2014', '2015', '2016', '2017', '2018'],\n",
    "                    y = [230, 199, 286, 210, 295, 289, 304 ],\n",
    "                    mode = 'markers+lines',\n",
    "                    name = 'bases_dados')\n",
    "\n",
    "trace40 = go.Scatter(x = ['2012', '2013', '2014', '2015', '2016', '2017', '2018'],\n",
    "                    y = [221, 242, 201, 138, 142, 242, 195 ],\n",
    "                    mode = 'markers+lines',\n",
    "                    name = 'tomada_decisão')\n",
    "\n",
    "trace41 = go.Scatter(x = ['2012', '2013', '2014', '2015', '2016', '2017', '2018'],\n",
    "                    y = [201, 209, 276, 205, 262, 302, 301 ],\n",
    "                    mode = 'markers+lines',\n",
    "                    name = 'coleta_dados')\n",
    "\n",
    "trace42 = go.Scatter(x = ['2012', '2013', '2014', '2015', '2016', '2017', '2018'],\n",
    "                    y = [246, 191, 289, 232, 74, 195, 206 ],\n",
    "                    mode = 'markers+lines',\n",
    "                    name = 'competência_informacional')\n",
    "\n",
    "trace43 = go.Scatter(x = ['2012', '2013', '2014', '2015', '2016', '2017', '2018'],\n",
    "                    y = [183, 288, 275, 100, 313, 213, 252 ],\n",
    "                    mode = 'markers+lines',\n",
    "                    name = 'organização_informação')\n",
    "\n",
    "trace44 = go.Scatter(x = ['2012', '2013', '2014', '2015', '2016', '2017', '2018'],\n",
    "                    y = [182, 201, 192, 253, 350, 540, 569 ],\n",
    "                    mode = 'markers+lines',\n",
    "                    name = 'gestão_conhecimento')\n",
    "\n",
    "trace45 = go.Scatter(x = ['2012', '2013', '2014', '2015', '2016', '2017', '2018'],\n",
    "                    y = [179, 161, 184, 154, 264, 266, 390 ],\n",
    "                    mode = 'markers+lines',\n",
    "                    name = 'patrimônio_cultural')\n",
    "\n",
    "trace46 = go.Scatter(x = ['2012', '2013', '2014', '2015', '2016', '2017', '2018'],\n",
    "                    y = [174, 149, 192, 193, 176, 183, 255 ],\n",
    "                    mode = 'markers+lines',\n",
    "                    name = 'sociedade_informação')\n",
    "\n",
    "trace47 = go.Scatter(x = ['2012', '2013', '2014', '2015', '2016', '2017', '2018'],\n",
    "                    y = [174, 76, 152, 115, 31, 183, 0 ],\n",
    "                    mode = 'markers+lines',\n",
    "                    name = 'inclusão_digital')\n",
    "\n",
    "trace48 = go.Scatter(x = ['2012', '2013', '2014', '2015', '2016', '2017', '2018'],\n",
    "                    y = [173, 255, 387, 372, 495, 610, 525 ],\n",
    "                    mode = 'markers+lines',\n",
    "                    name = 'organização_conhecimento')\n",
    "\n",
    "trace49 = go.Scatter(x = ['2012', '2013', '2014', '2015', '2016', '2017', '2018'],\n",
    "                    y = [165, 80, 117, 88, 143, 96, 110 ],\n",
    "                    mode = 'markers+lines',\n",
    "                    name = 'novas_tecnologias')\n",
    "\n",
    "trace50 = go.Scatter(x = ['2012', '2013', '2014', '2015', '2016', '2017', '2018'],\n",
    "                    y = [162, 79, 47, 56, 53, 46, 52 ],\n",
    "                    mode = 'markers+lines',\n",
    "                    name = 'biblioteca_digitais')\n",
    "\n",
    "trace51 = go.Scatter(x = ['2012', '2013', '2014', '2015', '2016', '2017', '2018'],\n",
    "                    y = [160, 131, 172, 192, 119, 167, 144 ],\n",
    "                    mode = 'markers+lines',\n",
    "                    name = 'busca_informação')\n",
    "\n",
    "trace52 = go.Scatter(x = ['2012', '2013', '2014', '2015', '2016', '2017', '2018'],\n",
    "                    y = [140, 94, 96, 99, 134, 59, 113 ],\n",
    "                    mode = 'markers+lines',\n",
    "                    name = 'memória_social')\n",
    "\n",
    "trace53 = go.Scatter(x = ['2012', '2013', '2014', '2015', '2016', '2017', '2018'],\n",
    "                    y = [137, 126, 164, 104, 134, 147, 206 ],\n",
    "                    mode = 'markers+lines',\n",
    "                    name = 'tecnologia_informação')\n",
    "\n",
    "trace54 = go.Scatter(x = ['2012', '2013', '2014', '2015', '2016', '2017', '2018'],\n",
    "                    y = [105, 92, 140, 66, 80, 91, 96 ],\n",
    "                    mode = 'markers+lines',\n",
    "                    name = 'fluxo_informação')\n",
    "\n",
    "trace55 = go.Scatter(x = ['2012', '2013', '2014', '2015', '2016', '2017', '2018'],\n",
    "                    y = [104, 94, 63, 83, 165, 103, 122 ],\n",
    "                    mode = 'markers+lines',\n",
    "                    name = 'memória_coletiva')\n",
    "\n",
    "trace56 = go.Scatter(x = ['2012', '2013', '2014', '2015', '2016', '2017', '2018'],\n",
    "                    y = [100, 45, 73, 57, 130, 94, 119 ],\n",
    "                    mode = 'markers+lines',\n",
    "                    name = 'ambientes_informacionais')\n",
    "\n",
    "trace57 = go.Scatter(x = ['2012', '2013', '2014', '2015', '2016', '2017', '2018'],\n",
    "                    y = [99, 95, 31, 166, 196, 69, 190 ],\n",
    "                    mode = 'markers+lines',\n",
    "                    name = 'preservação_digital')\n",
    "\n",
    "trace58 = go.Scatter(x = ['2012', '2013', '2014', '2015', '2016', '2017', '2018'],\n",
    "                    y = [132, 169, 151, 124, 193, 196, 106 ],\n",
    "                    mode = 'markers+lines',\n",
    "                    name = 'web_semântica')\n",
    "\n",
    "trace59 = go.Scatter(x = ['2012', '2013', '2014', '2015', '2016', '2017', '2018'],\n",
    "                    y = [84, 111, 109, 97, 131, 108, 152 ],\n",
    "                    mode = 'markers+lines',\n",
    "                    name = 'necessidades_informacionais')\n",
    "\n",
    "trace60 = go.Scatter(x = ['2012', '2013', '2014', '2015', '2016', '2017', '2018'],\n",
    "                    y = [114, 64, 45, 48, 30, 92, 117 ],\n",
    "                    mode = 'markers+lines',\n",
    "                    name = 'qualidade_informação')\n",
    "\n",
    "trace61 = go.Scatter(x = ['2012', '2013', '2014', '2015', '2016', '2017', '2018'],\n",
    "                    y = [161, 167, 237, 108, 324, 165, 283 ],\n",
    "                    mode = 'markers+lines',\n",
    "                    name = 'arquitetura_informação')\n",
    "\n",
    "trace62 = go.Scatter(x = ['2012', '2013', '2014', '2015', '2016', '2017', '2018'],\n",
    "                    y = [97, 107, 61, 54, 60, 72, 60 ],\n",
    "                    mode = 'markers+lines',\n",
    "                    name = 'estudos_usuários')\n",
    "\n",
    "trace63 = go.Scatter(x = ['2012', '2013', '2014', '2015', '2016', '2017', '2018'],\n",
    "                    y = [136, 103, 152, 114, 114, 146, 149 ],\n",
    "                    mode = 'markers+lines',\n",
    "                    name = 'profissional_informação')\n",
    "\n",
    "trace64 = go.Scatter(x = ['2012', '2013', '2014', '2015', '2016', '2017', '2018'],\n",
    "                    y = [119, 103, 46, 99, 83, 113, 146 ],\n",
    "                    mode = 'markers+lines',\n",
    "                    name = 'repositórios_institucionais')\n",
    "\n",
    "trace65 = go.Scatter(x = ['2012', '2013', '2014', '2015', '2016', '2017', '2018'],\n",
    "                    y = [72, 46, 62, 39, 74, 214, 134 ],\n",
    "                    mode = 'markers+lines',\n",
    "                    name = 'linked_data')\n",
    "\n",
    "trace66 = go.Scatter(x = ['2012', '2013', '2014', '2015', '2016', '2017', '2018'],\n",
    "                    y = [88, 44, 32, 39, 75, 54, 52 ],\n",
    "                    mode = 'markers+lines',\n",
    "                    name = 'ambientes_digitais')\n",
    "\n",
    "trace67 = go.Scatter(x = ['2012', '2013', '2014', '2015', '2016', '2017', '2018'],\n",
    "                    y = [32, 43, 0, 30, 0, 0, 0 ],\n",
    "                    mode = 'markers+lines',\n",
    "                    name = 'sociedade_conhecimento')\n",
    "\n",
    "trace68 = go.Scatter(x = ['2012', '2013', '2014', '2015', '2016', '2017', '2018'],\n",
    "                    y = [0, 113, 56, 60, 110, 121, 113 ],\n",
    "                    mode = 'markers+lines',\n",
    "                    name = 'ciclo_vida')\n",
    "\n",
    "trace69 = go.Scatter(x = ['2012', '2013', '2014', '2015', '2016', '2017', '2018'],\n",
    "                    y = [62, 91, 201, 289, 117, 368, 286 ],\n",
    "                    mode = 'markers+lines',\n",
    "                    name = 'gestão_documentos')\n",
    "\n",
    "trace70 = go.Scatter(x = ['2012', '2013', '2014', '2015', '2016', '2017', '2018'],\n",
    "                    y = [106, 111, 54, 47, 81, 123, 59 ],\n",
    "                    mode = 'markers+lines',\n",
    "                    name = 'dublin_core')\n",
    "\n",
    "trace71 = go.Scatter(x = ['2012', '2013', '2014', '2015', '2016', '2017', '2018'],\n",
    "                    y = [333, 316, 328, 325, 312, 376, 405 ],\n",
    "                    mode = 'markers+lines',\n",
    "                    name = 'uso_informação')\n",
    "\n",
    "trace72 = go.Scatter(x = ['2012', '2013', '2014', '2015', '2016', '2017', '2018'],\n",
    "                    y = [0, 0, 0, 0, 0, 0, 194 ],\n",
    "                    mode = 'markers+lines',\n",
    "                    name = 'fake_news')\n",
    "\n",
    "trace73 = go.Scatter(x = ['2012', '2013', '2014', '2015', '2016', '2017', '2018'],\n",
    "                    y = [168, 145, 152, 136, 133, 182, 171 ],\n",
    "                    mode = 'markers+lines',\n",
    "                    name = 'tecnologias_informação_comunicação')\n",
    "\n",
    "trace74 = go.Scatter(x = ['2012', '2013', '2014', '2015', '2016', '2017', '2018'],\n",
    "                    y = [114, 106, 60, 145, 104, 126, 142 ],\n",
    "                    mode = 'markers+lines',\n",
    "                    name = 'gestão_informação_conhecimento')\n",
    "\n",
    "trace75 = go.Scatter(x = ['2012', '2013', '2014', '2015', '2016', '2017', '2018'],\n",
    "                    y = [87, 125, 195, 145, 91, 248, 242],\n",
    "                    mode = 'markers+lines',\n",
    "                    name = 'fonte_dados_pesquisa')\n",
    "\n",
    "trace76 = go.Scatter(x = ['2012', '2013', '2014', '2015', '2016', '2017', '2018'],\n",
    "                    y = [57, 85, 73, 108, 88, 205, 134 ],\n",
    "                    mode = 'markers+lines',\n",
    "                    name = 'organização_representação_conhecimento')\n",
    "\n",
    "trace77 = go.Scatter(x = ['2012', '2013', '2014', '2015', '2016', '2017', '2018'],\n",
    "                    y = [41, 19, 44, 37, 35, 37, 29 ],\n",
    "                    mode = 'markers+lines',\n",
    "                    name = 'world_wide_web')\n",
    "\n",
    "trace78 = go.Scatter(x = ['2012', '2013', '2014', '2015', '2016', '2017', '2018'],\n",
    "                    y = [40, 44, 11, 31, 0, 55, 65 ],\n",
    "                    mode = 'markers+lines',\n",
    "                    name = 'circulação_apropriação_informação')\n",
    "\n",
    "trace79 = go.Scatter(x = ['2012', '2013', '2014', '2015', '2016', '2017', '2018'],\n",
    "                    y = [20, 0, 17, 0, 0, 13, 0 ],\n",
    "                    mode = 'markers+lines',\n",
    "                    name = 'dados_informação_conhecimento')\n",
    "\n",
    "trace80 = go.Scatter(x = ['2012', '2013', '2014', '2015', '2016', '2017', '2018'],\n",
    "                    y = [220, 0, 190, 171, 0, 245, 234 ],\n",
    "                    mode = 'markers+lines',\n",
    "                    name = 'corpus')\n",
    "\n",
    "trace81 = go.Scatter(x = ['2012', '2013', '2014', '2015', '2016', '2017', '2018'],\n",
    "                    y = [0, 0, 203, 28, 76, 391, 100 ],\n",
    "                    mode = 'markers+lines',\n",
    "                    name = 'big_data')\n",
    "\n",
    "trace82 = go.Scatter(x = ['2012', '2013', '2014', '2015', '2016', '2017', '2018'],\n",
    "                    y = [0, 0, 0, 0, 0, 0, 37 ],\n",
    "                    mode = 'markers+lines',\n",
    "                    name = 'machine_learning')\n",
    "\n",
    "trace83 = go.Scatter(x = ['2012', '2013', '2014', '2015', '2016', '2017', '2018'],\n",
    "                    y = [0, 0, 0, 9, 0, 0, 16 ],\n",
    "                    mode = 'markers+lines',\n",
    "                    name = 'processo_comunicação_científica')\n",
    "\n",
    "trace84 = go.Scatter(x = ['2012', '2013', '2014', '2015', '2016', '2017', '2018'],\n",
    "                    y = [11, 0, 0, 13, 0, 0, 16 ],\n",
    "                    mode = 'markers+lines',\n",
    "                    name = 'processamento_linguagem_natural')\n",
    "\n",
    "data = [trace1, trace2, trace3, trace4, trace5, trace6, trace7, trace8, trace9, trace10, \n",
    "       trace11, trace12, trace13, trace14, trace15, trace16, trace17, trace18, trace19, trace20,\n",
    "       trace21, trace22, trace23, trace24, trace25, trace26, trace27, trace28, trace29, trace30,\n",
    "       trace31, trace32, trace33, trace34, trace35, trace36, trace37, trace38, trace39, trace40,\n",
    "       trace41, trace42, trace43, trace44, trace45, trace46, trace47, trace48, trace49, trace50,\n",
    "       trace51, trace52, trace53, trace54, trace55, trace56, trace57, trace58, trace59, trace60,\n",
    "       trace61, trace62, trace63, trace64, trace65, trace66, trace67, trace68, trace69, trace70,\n",
    "       trace71, trace72, trace73, trace74, trace75, trace76, trace77, trace78, trace79, trace80,\n",
    "       trace81, trace82, trace83, trace84]\n",
    "\n",
    "layout = go.Layout(\n",
    "    title=go.layout.Title(\n",
    "        text='Frequência dos termos mais relavantes do corpora artigo completos e resumos expandidos',\n",
    "        xref='paper',\n",
    "        x=0\n",
    "    ),\n",
    "    xaxis=go.layout.XAxis(\n",
    "        title=go.layout.xaxis.Title(\n",
    "            text='Anos',\n",
    "            font=dict(\n",
    "                family='Courier New, monospace',\n",
    "                size=18,\n",
    "                color='#7f7f7f'\n",
    "            )\n",
    "        )\n",
    "    ),\n",
    "    yaxis=go.layout.YAxis(\n",
    "        title=go.layout.yaxis.Title(\n",
    "            text='Frequência',\n",
    "            font=dict(\n",
    "                family='Courier New, monospace',\n",
    "                size=18,\n",
    "                color='#7f7f7f'\n",
    "            )\n",
    "        )\n",
    "    )\n",
    ")\n",
    "\n",
    "fig = go.Figure(data=data, layout=layout)\n",
    "py.iplot(fig, filename='styling-names')\n"
   ]
  },
  {
   "cell_type": "code",
   "execution_count": null,
   "metadata": {},
   "outputs": [],
   "source": []
  }
 ],
 "metadata": {
  "kernelspec": {
   "display_name": "Python 3",
   "language": "python",
   "name": "python3"
  },
  "language_info": {
   "codemirror_mode": {
    "name": "ipython",
    "version": 3
   },
   "file_extension": ".py",
   "mimetype": "text/x-python",
   "name": "python",
   "nbconvert_exporter": "python",
   "pygments_lexer": "ipython3",
   "version": "3.7.3"
  }
 },
 "nbformat": 4,
 "nbformat_minor": 2
}
