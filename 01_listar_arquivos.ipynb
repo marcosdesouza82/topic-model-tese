{
 "cells": [
  {
   "cell_type": "markdown",
   "metadata": {},
   "source": [
    "## Listar arquivos\n",
    "\n",
    "Função para listar nome e a extensão dos documentos contidos num diretório e seus respectivos subdiretórios conforme apontamento.\n",
    "\n",
    "Posteriormete é gerado um arquivo texto contendo o caminho, nome e extensão dos documentos encontrados."
   ]
  },
  {
   "cell_type": "code",
   "execution_count": 1,
   "metadata": {},
   "outputs": [],
   "source": [
    "import io\n",
    "import os"
   ]
  },
  {
   "cell_type": "code",
   "execution_count": 2,
   "metadata": {},
   "outputs": [],
   "source": [
    "pastas = os.listdir()\n",
    "total = 0\n",
    "def listar_pasta(pasta):\n",
    "    tot = 0\n",
    "    subpastas = list()\n",
    "    if os.path.isdir(pasta):\n",
    "        items = os.listdir(pasta)\n",
    "        for item in items:\n",
    "            novo_item = os.path.join(pasta,item)\n",
    "            if os.path.isdir(novo_item):\n",
    "                subpastas.append(novo_item)\n",
    "                continue\n",
    "            print(item)\n",
    "            arq.write(str(pasta).upper() + \"/\" + item + \"\\n\")\n",
    "            tot += 1\n",
    "        for subpasta in subpastas:\n",
    "            tot += listar_pasta(subpasta)\n",
    "   # arq.write(\"\\n\")\n",
    "    return tot\n"
   ]
  },
  {
   "cell_type": "code",
   "execution_count": 269,
   "metadata": {},
   "outputs": [
    {
     "name": "stdout",
     "output_type": "stream",
     "text": [
      "0813.pdf\n",
      "0814.pdf\n",
      "0815.pdf\n",
      "0816.pdf\n",
      "0817.pdf\n",
      "0818.pdf\n",
      "0819.pdf\n",
      "0820.pdf\n",
      "0821.pdf\n",
      "0822.pdf\n",
      "0823.pdf\n",
      "0824.pdf\n",
      "0825.pdf\n",
      "0826.pdf\n",
      "0827.pdf\n",
      "0828.pdf\n",
      "0829.pdf\n",
      "0830.pdf\n",
      "0831.pdf\n",
      "0832.pdf\n",
      "0833.pdf\n",
      "0834.pdf\n",
      "0835.pdf\n",
      "0836.pdf\n",
      "0837.pdf\n",
      "0838.pdf\n",
      "0839.pdf\n",
      "0840.pdf\n",
      "0841.pdf\n",
      "0842.pdf\n",
      "0843.pdf\n",
      "0844.pdf\n",
      "0845.pdf\n",
      "0846.pdf\n",
      "0847.pdf\n",
      "0848.pdf\n",
      "0849.pdf\n",
      "0850.pdf\n",
      "0851.pdf\n",
      "0852.pdf\n",
      "0853.pdf\n"
     ]
    },
    {
     "data": {
      "text/plain": [
       "41"
      ]
     },
     "execution_count": 269,
     "metadata": {},
     "output_type": "execute_result"
    }
   ],
   "source": [
    "#Listar arquivos txt\n",
    "\n",
    "           \n",
    "pasta = \"\"\n",
    "#caminho=\"C:/Users/Marcos/tese/artigosresumos/2014/08c/\" + pasta\n",
    "caminho=\"D:/algoritmos/artigosresumos/2014/07\" + pasta\n",
    "arq = open(\"lista_dir_enancib_2014_gt07\" + pasta + \".txt\", \"w\",encoding=\"utf-8\")\n",
    "listar_pasta(caminho)           "
   ]
  },
  {
   "cell_type": "code",
   "execution_count": null,
   "metadata": {},
   "outputs": [],
   "source": []
  }
 ],
 "metadata": {
  "kernelspec": {
   "display_name": "Python 3",
   "language": "python",
   "name": "python3"
  },
  "language_info": {
   "codemirror_mode": {
    "name": "ipython",
    "version": 3
   },
   "file_extension": ".py",
   "mimetype": "text/x-python",
   "name": "python",
   "nbconvert_exporter": "python",
   "pygments_lexer": "ipython3",
   "version": "3.7.3"
  }
 },
 "nbformat": 4,
 "nbformat_minor": 2
}
