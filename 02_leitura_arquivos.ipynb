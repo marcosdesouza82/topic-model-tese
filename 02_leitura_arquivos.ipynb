{
 "cells": [
  {
   "cell_type": "markdown",
   "metadata": {},
   "source": [
    "## Leitura, extração e junção de arquivos pdf\n",
    "\n",
    "Programa para ler, extrair e fazer a junção das informações contidas em vários arquivos .pdf em um único documentos no formato .txt. O programa utliza o arquivo .txt gerado através do programa \"01_listar_arquivos\"."
   ]
  },
  {
   "cell_type": "code",
   "execution_count": 86,
   "metadata": {},
   "outputs": [],
   "source": [
    "import io\n",
    "import os\n",
    "import psutil\n",
    "import time\n",
    "from pdfminer.converter import TextConverter\n",
    "from pdfminer.pdfinterp import PDFPageInterpreter\n",
    "from pdfminer.pdfinterp import PDFResourceManager\n",
    "from pdfminer.pdfpage import PDFPage"
   ]
  },
  {
   "cell_type": "code",
   "execution_count": 87,
   "metadata": {},
   "outputs": [],
   "source": [
    "data = []\n",
    "#FUNÇÃO QUE LÊ O PDF E RETORNA SEU CONTEÚDO\n",
    "def LerPdf(arquivo):\n",
    "    resource_manager = PDFResourceManager()\n",
    "    fake_file_handle = io.StringIO()\n",
    "    converter = TextConverter(resource_manager, fake_file_handle)\n",
    "    page_interpreter = PDFPageInterpreter(resource_manager, converter)\n",
    " \n",
    "    with open(arquivo, 'rb') as fh:\n",
    "        for page in PDFPage.get_pages(fh, \n",
    "                                      caching=True,\n",
    "                                      check_extractable=True):\n",
    "            page_interpreter.process_page(page)\n",
    " \n",
    "        text = fake_file_handle.getvalue()\n",
    " \n",
    "    # close open handles\n",
    "    converter.close()\n",
    "    fake_file_handle.close()\n",
    " \n",
    "    if text:\n",
    "        return text"
   ]
  },
  {
   "cell_type": "code",
   "execution_count": 88,
   "metadata": {
    "scrolled": true
   },
   "outputs": [
    {
     "name": "stdout",
     "output_type": "stream",
     "text": [
      "D:/ALGORITMOS/ARTIGOSRESUMOS/2012/04\\ARTIGOS/0093.pdf\n",
      "10.5\n",
      "D:/ALGORITMOS/ARTIGOSRESUMOS/2012/04\\ARTIGOS/0094.pdf\n",
      "4.0\n",
      "D:/ALGORITMOS/ARTIGOSRESUMOS/2012/04\\ARTIGOS/0095.pdf\n",
      "11.4\n",
      "D:/ALGORITMOS/ARTIGOSRESUMOS/2012/04\\ARTIGOS/0096.pdf\n",
      "8.5\n",
      "D:/ALGORITMOS/ARTIGOSRESUMOS/2012/04\\ARTIGOS/0097.pdf\n",
      "8.5\n",
      "D:/ALGORITMOS/ARTIGOSRESUMOS/2012/04\\ARTIGOS/0098.pdf\n",
      "8.4\n",
      "D:/ALGORITMOS/ARTIGOSRESUMOS/2012/04\\ARTIGOS/0099.pdf\n",
      "8.5\n",
      "D:/ALGORITMOS/ARTIGOSRESUMOS/2012/04\\ARTIGOS/0100.pdf\n",
      "9.0\n",
      "D:/ALGORITMOS/ARTIGOSRESUMOS/2012/04\\ARTIGOS/0101.pdf\n",
      "8.6\n",
      "D:/ALGORITMOS/ARTIGOSRESUMOS/2012/04\\ARTIGOS/0102.pdf\n",
      "8.4\n",
      "D:/ALGORITMOS/ARTIGOSRESUMOS/2012/04\\ARTIGOS/0103.pdf\n",
      "8.6\n",
      "D:/ALGORITMOS/ARTIGOSRESUMOS/2012/04\\ARTIGOS/0104.pdf\n",
      "9.1\n",
      "D:/ALGORITMOS/ARTIGOSRESUMOS/2012/04\\ARTIGOS/0105.pdf\n",
      "11.5\n",
      "D:/ALGORITMOS/ARTIGOSRESUMOS/2012/04\\ARTIGOS/0106.pdf\n",
      "11.2\n",
      "D:/ALGORITMOS/ARTIGOSRESUMOS/2012/04\\ARTIGOS/0107.pdf\n",
      "8.7\n",
      "D:/ALGORITMOS/ARTIGOSRESUMOS/2012/04\\ARTIGOS/0108.pdf\n",
      "9.0\n",
      "D:/ALGORITMOS/ARTIGOSRESUMOS/2012/04\\ARTIGOS/0109.pdf\n",
      "8.3\n",
      "D:/ALGORITMOS/ARTIGOSRESUMOS/2012/04\\ARTIGOS/0110.pdf\n",
      "8.9\n",
      "D:/ALGORITMOS/ARTIGOSRESUMOS/2012/04\\ARTIGOS/0111.pdf\n",
      "8.8\n",
      "D:/ALGORITMOS/ARTIGOSRESUMOS/2012/04\\ARTIGOS/0112.pdf\n",
      "9.7\n",
      "D:/ALGORITMOS/ARTIGOSRESUMOS/2012/04\\ARTIGOS/0113.pdf\n",
      "11.6\n",
      "D:/ALGORITMOS/ARTIGOSRESUMOS/2012/04\\RESUMOS/0114.pdf\n",
      "8.5\n",
      "D:/ALGORITMOS/ARTIGOSRESUMOS/2012/04\\RESUMOS/0115.pdf\n",
      "9.0\n",
      "D:/ALGORITMOS/ARTIGOSRESUMOS/2012/04\\RESUMOS/0116.pdf\n",
      "8.9\n"
     ]
    }
   ],
   "source": [
    "# Nome do arquivo que será lido\n",
    "pasta = \"/lista_dir_enancib_2012_gt04\"\n",
    "# Camino do diretório que está localizado o arquivo txt com a lista de arquivos.\n",
    "caminho=\"D:/algoritmos\" + pasta\n",
    "arq = open(caminho + \".txt\", \"r\",encoding=\"utf-8\")\n",
    "\n",
    "for linha in arq:\n",
    "    arq2 = linha.rstrip()\n",
    "    ###################    executar a leitura do arquivo     #####################\n",
    "    if not arq2.endswith('.pdf'):\n",
    "        arq2 = arq2 + '.pdf'\n",
    "    stx = LerPdf(arq2)\n",
    "#Nome do arquivo que será salvo o corpus\n",
    "    arq3 = open(\"enancib_2012_gt04.txt\", \"a\",encoding=\"utf-8\")\n",
    "    document = stx\n",
    "    data.append(document)\n",
    "    arq3.write('\\n')\n",
    "    arq3.write(str(data))\n",
    "    data = []\n",
    "    print(arq2)\n",
    "    print(psutil.cpu_percent())\n",
    "    arq.close       \n",
    "arq3.close()\n"
   ]
  },
  {
   "cell_type": "markdown",
   "metadata": {},
   "source": [
    "##### data = []\n",
    "#FUNÇÃO QUE LÊ O PDF E RETORNA SEU CONTEÚDO\n",
    "def LerPdf2(arquivo):\n",
    "    resource_manager = PDFResourceManager()\n",
    "    fake_file_handle = io.StringIO()\n",
    "    converter = TextConverter(resource_manager, fake_file_handle)\n",
    "    page_interpreter = PDFPageInterpreter(resource_manager, converter)\n",
    "\n",
    "    fp = open(arquivo, 'rb')\n",
    "\n",
    "    with fp as fh:\n",
    "        for page in PDFPage.get_pages(fh, \n",
    "                                      caching=True,\n",
    "                                      check_extractable=True):\n",
    "            page_interpreter.process_page(page)\n",
    " \n",
    "        text = fake_file_handle.getvalue()\n",
    " \n",
    "    # close open handles\n",
    "    converter.close()\n",
    "    fake_file_handle.close()\n",
    " \n",
    "    if text:\n",
    "        return text"
   ]
  },
  {
   "cell_type": "code",
   "execution_count": null,
   "metadata": {},
   "outputs": [],
   "source": []
  }
 ],
 "metadata": {
  "kernelspec": {
   "display_name": "Python 3",
   "language": "python",
   "name": "python3"
  },
  "language_info": {
   "codemirror_mode": {
    "name": "ipython",
    "version": 3
   },
   "file_extension": ".py",
   "mimetype": "text/x-python",
   "name": "python",
   "nbconvert_exporter": "python",
   "pygments_lexer": "ipython3",
   "version": "3.7.3"
  }
 },
 "nbformat": 4,
 "nbformat_minor": 2
}
